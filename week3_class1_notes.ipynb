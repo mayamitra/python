{
 "cells": [
  {
   "cell_type": "code",
   "execution_count": 1,
   "metadata": {},
   "outputs": [
    {
     "name": "stdout",
     "output_type": "stream",
     "text": [
      "Who's this? maya\n",
      "maya\n"
     ]
    }
   ],
   "source": [
    "def who_dis():\n",
    "    ##INPUT FUNCTION PROMPTS THE USER \n",
    "    name = input(\"Who's this? \")\n",
    "    return name\n",
    "print(who_dis())"
   ]
  },
  {
   "cell_type": "code",
   "execution_count": 2,
   "metadata": {},
   "outputs": [
    {
     "name": "stdout",
     "output_type": "stream",
     "text": [
      "Input three numbers, comma separated: 2, 3, 4\n"
     ]
    },
    {
     "data": {
      "text/plain": [
       "'2, 3, 4'"
      ]
     },
     "execution_count": 2,
     "metadata": {},
     "output_type": "execute_result"
    }
   ],
   "source": [
    "def add_three():\n",
    "    num = input(\"Input three numbers, comma separated: \")\n",
    "    ##num = num1 + num2 + num3\n",
    "    return num\n",
    "\n",
    "add_three()"
   ]
  },
  {
   "cell_type": "markdown",
   "metadata": {},
   "source": [
    "Mutable = can be changed\n",
    "\n",
    "Immutable = can't be changed"
   ]
  },
  {
   "cell_type": "code",
   "execution_count": null,
   "metadata": {},
   "outputs": [],
   "source": []
  }
 ],
 "metadata": {
  "kernelspec": {
   "display_name": "Python 3",
   "language": "python",
   "name": "python3"
  },
  "language_info": {
   "codemirror_mode": {
    "name": "ipython",
    "version": 3
   },
   "file_extension": ".py",
   "mimetype": "text/x-python",
   "name": "python",
   "nbconvert_exporter": "python",
   "pygments_lexer": "ipython3",
   "version": "3.7.1"
  }
 },
 "nbformat": 4,
 "nbformat_minor": 2
}
