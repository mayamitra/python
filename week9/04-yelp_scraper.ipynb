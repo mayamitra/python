{
 "cells": [
  {
   "cell_type": "code",
   "execution_count": 48,
   "metadata": {},
   "outputs": [],
   "source": [
    "import requests\n",
    "from bs4 import BeautifulSoup\n",
    "#beautiful soup helps us search the page; request just gives us the HTML\n",
    "import pandas as pd\n",
    "import numpy as np"
   ]
  },
  {
   "cell_type": "markdown",
   "metadata": {},
   "source": [
    "# Basic Scrape"
   ]
  },
  {
   "cell_type": "code",
   "execution_count": 49,
   "metadata": {},
   "outputs": [],
   "source": [
    "req = requests.get('https://www.yelp.com/biz/frijolitos-new-york-2?hrid=BLupS78ZcaWflLpdvtOmNA&osq=Burrito')"
   ]
  },
  {
   "cell_type": "code",
   "execution_count": 50,
   "metadata": {},
   "outputs": [
    {
     "data": {
      "text/plain": [
       "<Response [200]>"
      ]
     },
     "execution_count": 50,
     "metadata": {},
     "output_type": "execute_result"
    }
   ],
   "source": [
    "req #tells you whether or not u typed in the link correctly"
   ]
  },
  {
   "cell_type": "code",
   "execution_count": 51,
   "metadata": {},
   "outputs": [
    {
     "data": {
      "text/plain": [
       "'<!DOCTYPE HTML>\\n\\n<!--[if lt IE 7 ]> <html xmlns:fb=\"http://www.facebook.com/2008/fbml\" class=\"ie6 ie'"
      ]
     },
     "execution_count": 51,
     "metadata": {},
     "output_type": "execute_result"
    }
   ],
   "source": [
    "req.text[:100] #the first 100 characters in the HTML text"
   ]
  },
  {
   "cell_type": "code",
   "execution_count": 52,
   "metadata": {},
   "outputs": [],
   "source": [
    "soup = BeautifulSoup(req.text,'html.parser') #can also say 'xml' instead of 'html.parser'"
   ]
  },
  {
   "cell_type": "code",
   "execution_count": 53,
   "metadata": {},
   "outputs": [
    {
     "data": {
      "text/plain": [
       "'\\n\\n\\n\\n\\n  \\n\\n\\n            (function() {\\n                var main = null;\\n\\n                var main=function(){window.onerror=function(k,a,c,i,f){var j=(document.getElementsByTagName(\"html\")[0].getAttribut'"
      ]
     },
     "execution_count": 53,
     "metadata": {},
     "output_type": "execute_result"
    }
   ],
   "source": [
    "soup.text[:200]"
   ]
  },
  {
   "cell_type": "code",
   "execution_count": 54,
   "metadata": {},
   "outputs": [
    {
     "data": {
      "text/plain": [
       "<h1 class=\"biz-page-title embossed-text-white shortenough\"></h1>"
      ]
     },
     "execution_count": 54,
     "metadata": {},
     "output_type": "execute_result"
    }
   ],
   "source": [
    "soup.h1 #gives you the first header from the page"
   ]
  },
  {
   "cell_type": "code",
   "execution_count": 55,
   "metadata": {},
   "outputs": [
    {
     "data": {
      "text/plain": [
       "<p>\n",
       "                First, try refreshing the page and clicking Current Location again. Make sure you click <b>Allow</b> or <b>Grant Permissions</b> if your browser asks for your location. If your browser doesn't ask you, try these steps:\n",
       "            </p>"
      ]
     },
     "execution_count": 55,
     "metadata": {},
     "output_type": "execute_result"
    }
   ],
   "source": [
    "soup.p #first paragraph on the page"
   ]
  },
  {
   "cell_type": "code",
   "execution_count": 64,
   "metadata": {},
   "outputs": [],
   "source": [
    "first_review = soup.find('div', {'class':\"review review--with-sidebar\"})"
   ]
  },
  {
   "cell_type": "code",
   "execution_count": 68,
   "metadata": {},
   "outputs": [
    {
     "data": {
      "text/plain": [
       "<div class=\"review review--with-sidebar\" data-review-id=\"BLupS78ZcaWflLpdvtOmNA\" data-signup-object=\"user_id:kqc6WgU8-pDxc90KKHHqvQ\">\n",
       "<div class=\"review-sidebar\">\n",
       "<div class=\"review-sidebar-content\">\n",
       "<div class=\"ypassport media-block\">\n",
       "<div class=\"media-avatar responsive-photo-box\">\n",
       "<div class=\"photo-box pb-60s\" data-hovercard-id=\"rEmRnLm0wOvH7TEvtTsW0g\">\n",
       "<a class=\"js-analytics-click\" data-analytics-label=\"user-photo\" href=\"/user_details?userid=kqc6WgU8-pDxc90KKHHqvQ\">\n",
       "<img alt=\"Claire H.\" class=\"photo-box-img\" height=\"60\" src=\"https://s3-media2.fl.yelpcdn.com/assets/srv0/yelp_styleguide/514f6997a318/assets/img/default_avatars/user_60_square.png\" width=\"60\"/>\n",
       "</a>\n",
       "</div>\n",
       "</div>\n",
       "<div class=\"media-story\">\n",
       "<ul class=\"user-passport-info\">\n",
       "<li class=\"user-name\">\n",
       "<a class=\"user-display-name js-analytics-click\" data-analytics-label=\"about_me\" data-hovercard-id=\"rEmRnLm0wOvH7TEvtTsW0g\" href=\"/user_details?userid=kqc6WgU8-pDxc90KKHHqvQ\" id=\"dropdown_user-name\">Claire H.</a>\n",
       "</li>\n",
       "<li class=\"user-location responsive-hidden-small\">\n",
       "<b>New York, NY</b>\n",
       "</li>\n",
       "</ul>\n",
       "<ul class=\"user-passport-stats\">\n",
       "<li class=\"friend-count responsive-small-display-inline-block\">\n",
       "<span aria-hidden=\"true\" class=\"icon icon--18-friends icon--size-18\" style=\"fill: #f15c00; width: 18px; height: 18px;\">\n",
       "<svg class=\"icon_svg\" role=\"img\">\n",
       "<use xlink:href=\"#18x18_friends\"></use>\n",
       "</svg>\n",
       "</span>\n",
       "<b>0</b> friends\n",
       "        </li>\n",
       "<li class=\"review-count responsive-small-display-inline-block\">\n",
       "<span aria-hidden=\"true\" class=\"icon icon--18-review icon--size-18\" style=\"fill: #f15c00; width: 18px; height: 18px;\">\n",
       "<svg class=\"icon_svg\" role=\"img\">\n",
       "<use xlink:href=\"#18x18_review\"></use>\n",
       "</svg>\n",
       "</span>\n",
       "<b>11</b> reviews\n",
       "        </li>\n",
       "</ul>\n",
       "</div>\n",
       "</div>\n",
       "<ul class=\"action-link-list action-link-list--small\">\n",
       "<li>\n",
       "<a class=\"arrange arrange--middle send-to-friend\" data-pop-uri=\"/send_to_friend/review/BLupS78ZcaWflLpdvtOmNA\" href=\"javascript:;\" rel=\"\">\n",
       "<div class=\"action-link_icon arrange_unit\">\n",
       "<span aria-hidden=\"true\" class=\"icon icon--18-share icon--size-18 icon--currentColor\" style=\"width: 18px; height: 18px;\">\n",
       "<svg class=\"icon_svg\" role=\"img\">\n",
       "<use xlink:href=\"#18x18_share\"></use>\n",
       "</svg>\n",
       "</span>\n",
       "</div>\n",
       "<div class=\"action-link_label arrange_unit arrange_unit--fill\">\n",
       "            Share review\n",
       "        </div>\n",
       "</a>\n",
       "</li>\n",
       "<li>\n",
       "<a class=\"arrange arrange--middle embed-review\" data-pop-uri=\"/review_embed_modal/BLupS78ZcaWflLpdvtOmNA\" href=\"javascript:;\" rel=\"\">\n",
       "<div class=\"action-link_icon arrange_unit\">\n",
       "<span aria-hidden=\"true\" class=\"icon icon--18-embed icon--size-18 icon--currentColor\" style=\"width: 18px; height: 18px;\">\n",
       "<svg class=\"icon_svg\" role=\"img\">\n",
       "<use xlink:href=\"#18x18_embed\"></use>\n",
       "</svg>\n",
       "</span>\n",
       "</div>\n",
       "<div class=\"action-link_label arrange_unit arrange_unit--fill\">\n",
       "            Embed review\n",
       "        </div>\n",
       "</a>\n",
       "</li>\n",
       "<li>\n",
       "<a class=\"arrange arrange--middle send-compliment\" href=\"javascript:;\" rel=\"\">\n",
       "<div class=\"action-link_icon arrange_unit\">\n",
       "<span aria-hidden=\"true\" class=\"icon icon--18-compliment icon--size-18 icon--currentColor\" style=\"width: 18px; height: 18px;\">\n",
       "<svg class=\"icon_svg\" role=\"img\">\n",
       "<use xlink:href=\"#18x18_compliment\"></use>\n",
       "</svg>\n",
       "</span>\n",
       "</div>\n",
       "<div class=\"action-link_label arrange_unit arrange_unit--fill\">\n",
       "            Compliment\n",
       "        </div>\n",
       "</a>\n",
       "</li>\n",
       "<li>\n",
       "<a class=\"arrange arrange--middle send-pm\" href=\"javascript:;\" rel=\"Claire H.\">\n",
       "<div class=\"action-link_icon arrange_unit\">\n",
       "<span aria-hidden=\"true\" class=\"icon icon--18-speech icon--size-18 icon--currentColor\" style=\"width: 18px; height: 18px;\">\n",
       "<svg class=\"icon_svg\" role=\"img\">\n",
       "<use xlink:href=\"#18x18_speech\"></use>\n",
       "</svg>\n",
       "</span>\n",
       "</div>\n",
       "<div class=\"action-link_label arrange_unit arrange_unit--fill\">\n",
       "            Send message\n",
       "        </div>\n",
       "</a>\n",
       "</li>\n",
       "<li>\n",
       "<a class=\"arrange arrange--middle manage-following manage-following-add\" data-csrf-token=\"d7307c155ef9106103fa06b1e1a2d652c88049ed45ab236d3230aff9493510b5\" href=\"javascript:;\" rel=\"kqc6WgU8-pDxc90KKHHqvQ\">\n",
       "<div class=\"action-link_icon arrange_unit\">\n",
       "<span aria-hidden=\"true\" class=\"icon icon--18-following icon--size-18 icon--currentColor\" style=\"width: 18px; height: 18px;\">\n",
       "<svg class=\"icon_svg\" role=\"img\">\n",
       "<use xlink:href=\"#18x18_following\"></use>\n",
       "</svg>\n",
       "</span>\n",
       "</div>\n",
       "<div class=\"action-link_label arrange_unit arrange_unit--fill\">\n",
       "            Follow Claire H.\n",
       "        </div>\n",
       "</a>\n",
       "</li>\n",
       "<li>\n",
       "<a class=\"arrange arrange--middle manage-following manage-following-remove hidden\" data-csrf-token=\"d7307c155ef9106103fa06b1e1a2d652c88049ed45ab236d3230aff9493510b5\" href=\"javascript:;\" rel=\"kqc6WgU8-pDxc90KKHHqvQ\">\n",
       "<div class=\"action-link_icon arrange_unit\">\n",
       "<span aria-hidden=\"true\" class=\"icon icon--18-unfollow icon--size-18 icon--currentColor\" style=\"width: 18px; height: 18px;\">\n",
       "<svg class=\"icon_svg\" role=\"img\">\n",
       "<use xlink:href=\"#18x18_unfollow\"></use>\n",
       "</svg>\n",
       "</span>\n",
       "</div>\n",
       "<div class=\"action-link_label arrange_unit arrange_unit--fill\">\n",
       "            Stop following Claire H.\n",
       "        </div>\n",
       "</a>\n",
       "</li>\n",
       "</ul>\n",
       "</div>\n",
       "</div>\n",
       "<div class=\"review-wrapper\">\n",
       "<div class=\"review-content\">\n",
       "<div class=\"biz-rating biz-rating-large clearfix\">\n",
       "<div>\n",
       "<div class=\"i-stars i-stars--regular-5 rating-large\" title=\"5.0 star rating\">\n",
       "<img alt=\"5.0 star rating\" class=\"offscreen\" height=\"303\" src=\"https://s3-media2.fl.yelpcdn.com/assets/srv0/yelp_design_web/9b34e39ccbeb/assets/img/stars/stars.png\" width=\"84\"/>\n",
       "</div>\n",
       "</div>\n",
       "<span class=\"rating-qualifier\">\n",
       "        4/15/2018\n",
       "    </span>\n",
       "</div>\n",
       "<p lang=\"en\">Best burrito i've had outside of California. I'm always on the look out for awesome authentic Mexican food. Found it! Carnitas burrito was great, steak one was just okay. But we'll definitely be back.</p>\n",
       "</div>\n",
       "<div class=\"review-footer clearfix\">\n",
       "<div class=\"rateReview voting-feedback\" data-origin=\"biz_details_review_feed_selected\" data-review-id=\"BLupS78ZcaWflLpdvtOmNA\">\n",
       "<p class=\"voting-intro voting-prompt\">\n",
       "            Was this review …?\n",
       "    </p>\n",
       "<ul class=\"voting-buttons\" data-csrf-token=\"3f8a1a85611500dfc2a6b8e672bd3686df2fbb99e55c15533ecdf43ea784442a\">\n",
       "<li class=\"vote-item inline-block\">\n",
       "<a class=\"ybtn ybtn--small ybtn--secondary useful js-analytics-click\" data-analytics-label=\"ufc\" href=\"javascript:;\" rel=\"useful\">\n",
       "<span aria-hidden=\"true\" class=\"icon icon--18-useful-outline icon--size-18 icon--currentColor button-content u-space-r-half\" style=\"width: 18px; height: 18px;\">\n",
       "<svg class=\"icon_svg\" role=\"img\">\n",
       "<use xlink:href=\"#18x18_useful_outline\"></use>\n",
       "</svg>\n",
       "</span> <span class=\"vote-type\">Useful</span>\n",
       "<span class=\"count\"></span>\n",
       "</a>\n",
       "</li>\n",
       "<li class=\"vote-item inline-block\">\n",
       "<a class=\"ybtn ybtn--small ybtn--secondary funny js-analytics-click\" data-analytics-label=\"ufc\" href=\"javascript:;\" rel=\"funny\">\n",
       "<span aria-hidden=\"true\" class=\"icon icon--18-funny-outline icon--size-18 icon--currentColor button-content u-space-r-half\" style=\"width: 18px; height: 18px;\">\n",
       "<svg class=\"icon_svg\" role=\"img\">\n",
       "<use xlink:href=\"#18x18_funny_outline\"></use>\n",
       "</svg>\n",
       "</span> <span class=\"vote-type\">Funny</span>\n",
       "<span class=\"count\"></span>\n",
       "</a>\n",
       "</li>\n",
       "<li class=\"vote-item inline-block\">\n",
       "<a class=\"ybtn ybtn--small ybtn--secondary cool js-analytics-click\" data-analytics-label=\"ufc\" href=\"javascript:;\" rel=\"cool\">\n",
       "<span aria-hidden=\"true\" class=\"icon icon--18-cool-outline icon--size-18 icon--currentColor button-content u-space-r-half\" style=\"width: 18px; height: 18px;\">\n",
       "<svg class=\"icon_svg\" role=\"img\">\n",
       "<use xlink:href=\"#18x18_cool_outline\"></use>\n",
       "</svg>\n",
       "</span> <span class=\"vote-type\">Cool</span>\n",
       "<span class=\"count\"></span>\n",
       "</a>\n",
       "</li>\n",
       "</ul>\n",
       "<div class=\"js-deanon-modal-container\">\n",
       "<div class=\"js-deanon-modal u-hidden\">\n",
       "<div class=\"modal_body\">\n",
       "<div class=\"u-text-centered u-space-t6 u-space-b6\">\n",
       "<h3 class=\"u-space-b3\">Others will see how you vote!</h3>\n",
       "<div class=\"u-space-b3\">\n",
       "<img src=\"https://s3-media3.fl.yelpcdn.com/assets/srv0/yelp_deanonymize_ufc/f871a0ff7872/lib/img/200x120_ufc_globe.png\"/>\n",
       "</div>\n",
       "<div class=\"u-space-b2\" style=\"width:76%;margin:auto;\">\n",
       "                    Heads up: From now on, other Yelpers will be able to see how you voted. Want to chime in?\n",
       "                </div>\n",
       "<form action=\"/review_feedback/deanonymize/1.0.0\" class=\"js-deanon-form\" method=\"POST\">\n",
       "<input class=\"csrftok\" name=\"csrftok\" type=\"hidden\" value=\"f3c07f6e82053976f17593872979d758bdd39a63bd97ded2b45942ce4181ce94\"/>\n",
       "<button class=\"ybtn ybtn--primary ybtn--small js-let-me-vote-button u-space-b1\" href=\"javascript:;\" type=\"submit\" value=\"submit\"><span>Yes, Let Me Vote!</span></button>\n",
       "</form>\n",
       "<div class=\"js-maybe-later-button u-pseudo-link\">\n",
       "<small>Maybe Later</small>\n",
       "</div>\n",
       "</div>\n",
       "</div>\n",
       "</div>\n",
       "</div>\n",
       "</div>\n",
       "</div>\n",
       "</div>\n",
       "</div>"
      ]
     },
     "execution_count": 68,
     "metadata": {},
     "output_type": "execute_result"
    }
   ],
   "source": [
    "first_review"
   ]
  },
  {
   "cell_type": "code",
   "execution_count": 69,
   "metadata": {},
   "outputs": [
    {
     "data": {
      "text/plain": [
       "\"Best burrito i've had outside of California. I'm always on the look out for awesome authentic Mexican food. Found it! Carnitas burrito was great, steak one was just okay. But we'll definitely be back.\""
      ]
     },
     "execution_count": 69,
     "metadata": {},
     "output_type": "execute_result"
    }
   ],
   "source": [
    "first_review.find('p', {'lang': 'en'}).text"
   ]
  },
  {
   "cell_type": "code",
   "execution_count": 71,
   "metadata": {},
   "outputs": [
    {
     "data": {
      "text/plain": [
       "\"Best burrito i've had outside of California. I'm always on the look out for awesome authentic Mexican food. Found it! Carnitas burrito was great, steak one was just okay. But we'll definitely be back.\""
      ]
     },
     "execution_count": 71,
     "metadata": {},
     "output_type": "execute_result"
    }
   ],
   "source": [
    "soup.find('p', {'lang': 'en'}).text"
   ]
  },
  {
   "cell_type": "code",
   "execution_count": 72,
   "metadata": {},
   "outputs": [],
   "source": [
    "review_text = first_review.find('p', {'lang': 'en'}).text"
   ]
  },
  {
   "cell_type": "code",
   "execution_count": 115,
   "metadata": {},
   "outputs": [],
   "source": [
    "pos_words = ['amazing', 'excellent', 'authentic', 'great', 'yum', 'yummy', 'good', 'tasty', 'delicious', \n",
    "            'decadent', 'worthwhile', 'full', 'itis']\n",
    "neg_words = ['bad', 'dirty', 'bland', 'small', 'hungry', 'okay', 'too', 'pricey', 'so-so', 'gross', 'yuck', \n",
    "           'smelly', 'salty', 'bad service']"
   ]
  },
  {
   "cell_type": "code",
   "execution_count": 139,
   "metadata": {},
   "outputs": [],
   "source": [
    "#loop through my review, add 1 every time a positive word is encountered; \n",
    "#subtract 1 every time a negative word is encountered"
   ]
  },
  {
   "cell_type": "code",
   "execution_count": 140,
   "metadata": {},
   "outputs": [
    {
     "data": {
      "text/plain": [
       "\"Best burrito i've had outside of California. I'm always on the look out for awesome authentic Mexican food. Found it! Carnitas burrito was great, steak one was just okay. But we'll definitely be back.\""
      ]
     },
     "execution_count": 140,
     "metadata": {},
     "output_type": "execute_result"
    }
   ],
   "source": [
    "review_text"
   ]
  },
  {
   "cell_type": "code",
   "execution_count": 117,
   "metadata": {},
   "outputs": [],
   "source": [
    "score = 0\n",
    "review_list = review_text.split() #splits it by word\n",
    "\n",
    "for word in review_list:\n",
    "    if word.lower() in pos_words: #use .lower() bc our list is lowercase\n",
    "        score +=1     \n",
    "    if word.lower() in neg_words:\n",
    "        score -=1"
   ]
  },
  {
   "cell_type": "code",
   "execution_count": 118,
   "metadata": {},
   "outputs": [
    {
     "data": {
      "text/plain": [
       "1"
      ]
     },
     "execution_count": 118,
     "metadata": {},
     "output_type": "execute_result"
    }
   ],
   "source": [
    "score"
   ]
  },
  {
   "cell_type": "code",
   "execution_count": 127,
   "metadata": {},
   "outputs": [],
   "source": [
    "url = 'https://www.yelp.com/biz/frijolitos-new-york-2'"
   ]
  },
  {
   "cell_type": "code",
   "execution_count": 134,
   "metadata": {},
   "outputs": [],
   "source": [
    "response = requests.get(url)\n",
    "soup = BeautifulSoup(response.text, 'html.parser')\n",
    "reviews = soup.find_all('p', {'lang': \"en\"}) #will find all the reviews\n",
    "clean_reviews = [review.text for review in reviews]"
   ]
  },
  {
   "cell_type": "code",
   "execution_count": 136,
   "metadata": {},
   "outputs": [
    {
     "data": {
      "text/plain": [
       "'Recommend by a friend to try when I went to NYC. Great choice! I can easily finish a Chipotle burrito, but could not make it through this one! Guacamole was so fresh tasting, as was the pico de gallo. Servings are huge! \\xa0I love finding these hidden gems.'"
      ]
     },
     "execution_count": 136,
     "metadata": {},
     "output_type": "execute_result"
    }
   ],
   "source": [
    "clean_reviews[-1]"
   ]
  },
  {
   "cell_type": "code",
   "execution_count": 138,
   "metadata": {},
   "outputs": [
    {
     "ename": "AttributeError",
     "evalue": "'list' object has no attribute 'split'",
     "output_type": "error",
     "traceback": [
      "\u001b[0;31m---------------------------------------------------------------------------\u001b[0m",
      "\u001b[0;31mAttributeError\u001b[0m                            Traceback (most recent call last)",
      "\u001b[0;32m<ipython-input-138-4d35a8fa796a>\u001b[0m in \u001b[0;36m<module>\u001b[0;34m\u001b[0m\n\u001b[1;32m      1\u001b[0m \u001b[0mscore\u001b[0m \u001b[0;34m=\u001b[0m \u001b[0;36m0\u001b[0m\u001b[0;34m\u001b[0m\u001b[0;34m\u001b[0m\u001b[0m\n\u001b[0;32m----> 2\u001b[0;31m \u001b[0mclean_reviews_list\u001b[0m \u001b[0;34m=\u001b[0m \u001b[0mclean_reviews\u001b[0m\u001b[0;34m.\u001b[0m\u001b[0msplit\u001b[0m\u001b[0;34m(\u001b[0m\u001b[0;34m)\u001b[0m \u001b[0;31m#splits it by word\u001b[0m\u001b[0;34m\u001b[0m\u001b[0;34m\u001b[0m\u001b[0m\n\u001b[0m\u001b[1;32m      3\u001b[0m \u001b[0;34m\u001b[0m\u001b[0m\n\u001b[1;32m      4\u001b[0m \u001b[0;32mfor\u001b[0m \u001b[0mword\u001b[0m \u001b[0;32min\u001b[0m \u001b[0mclean_review_list\u001b[0m\u001b[0;34m:\u001b[0m\u001b[0;34m\u001b[0m\u001b[0;34m\u001b[0m\u001b[0m\n\u001b[1;32m      5\u001b[0m     \u001b[0;32mif\u001b[0m \u001b[0mword\u001b[0m\u001b[0;34m.\u001b[0m\u001b[0mlower\u001b[0m\u001b[0;34m(\u001b[0m\u001b[0;34m)\u001b[0m \u001b[0;32min\u001b[0m \u001b[0mpos_words\u001b[0m\u001b[0;34m:\u001b[0m \u001b[0;31m#use .lower() bc our list is lowercase\u001b[0m\u001b[0;34m\u001b[0m\u001b[0;34m\u001b[0m\u001b[0m\n",
      "\u001b[0;31mAttributeError\u001b[0m: 'list' object has no attribute 'split'"
     ]
    }
   ],
   "source": [
    "score = 0\n",
    "clean_reviews_list = clean_reviews.split() #splits it by word\n",
    "\n",
    "for word in clean_review_list:\n",
    "    if word.lower() in pos_words: #use .lower() bc our list is lowercase\n",
    "        score +=1     \n",
    "    if word.lower() in neg_words:\n",
    "        score -=1"
   ]
  },
  {
   "cell_type": "code",
   "execution_count": null,
   "metadata": {},
   "outputs": [],
   "source": []
  },
  {
   "cell_type": "code",
   "execution_count": null,
   "metadata": {},
   "outputs": [],
   "source": []
  },
  {
   "cell_type": "markdown",
   "metadata": {},
   "source": [
    "### Kanye's Tweets"
   ]
  },
  {
   "cell_type": "code",
   "execution_count": 26,
   "metadata": {},
   "outputs": [],
   "source": [
    "req = requests.get('https://twitter.com/kanyewest')"
   ]
  },
  {
   "cell_type": "code",
   "execution_count": 27,
   "metadata": {},
   "outputs": [
    {
     "data": {
      "text/plain": [
       "<Response [200]>"
      ]
     },
     "execution_count": 27,
     "metadata": {},
     "output_type": "execute_result"
    }
   ],
   "source": [
    "req"
   ]
  },
  {
   "cell_type": "code",
   "execution_count": 28,
   "metadata": {},
   "outputs": [],
   "source": [
    "soup = BeautifulSoup(req.text, 'html.parser')"
   ]
  },
  {
   "cell_type": "code",
   "execution_count": 10,
   "metadata": {},
   "outputs": [
    {
     "data": {
      "text/plain": [
       "'\\n\\n\\n\\n\\n        !function(){window.initErrorstack||(window.initErrorstack=[]),window.onerror=function(r,i,n,o,t){r.indexOf(\"Script error.\")>-1||window.initErrorstack.push({errorMsg:r,url:i,lineNumber:n,c'"
      ]
     },
     "execution_count": 10,
     "metadata": {},
     "output_type": "execute_result"
    }
   ],
   "source": [
    "soup.text[:200]"
   ]
  },
  {
   "cell_type": "code",
   "execution_count": 11,
   "metadata": {},
   "outputs": [],
   "source": [
    "tweets = soup.find_all('p', {'class': 'TweetTextSize TweetTextSize--normal js-tweet-text tweet-text'})"
   ]
  },
  {
   "cell_type": "code",
   "execution_count": 12,
   "metadata": {},
   "outputs": [
    {
     "name": "stdout",
     "output_type": "stream",
     "text": [
      "f the world changed to love the world pic.twitter.com/BtqdEghrLf\n",
      "today is the best day ever and tomorrow's going to be even better\n",
      "ye vs the people @  http://kanyewest.com pic.twitter.com/8f8WZpO8WH\n",
      "Trust your feelings. Stop thinking so much\n",
      "lift yourselfpic.twitter.com/ggVztSeZeO\n",
      "I've got a new challenge for everyone today. Pick somebody that you had an argument with that you think you hate maybe even someone you haven't spoken to in years and contact that person and tell them I love you.\n",
      "pic.twitter.com/qkvKK6A3Mm\n",
      "pic.twitter.com/QY2v1OgblE\n",
      "Lead with lovepic.twitter.com/tj2a9LFYKZ\n",
      "We got love. Agree to disagreepic.twitter.com/kaTcPYH0zL\n",
      "Lift Yourself  http://kanyewest.com \n",
      "I'm going to drop a song with a verse that will bring Ebro the closure he's been seeking \n",
      "\n",
      "The bars \n",
      "\n",
      "It's called Lift Yourself\n",
      "I haven't done enough research on conservatives to call myself or be called one. I'm just refusing to be enslaved by monolithic thought.\n",
      "pic.twitter.com/CBfSpDahCP\n",
      "pic.twitter.com/ayEL4Fkftq\n",
      "pic.twitter.com/7PlBuFVc6G\n",
      "pic.twitter.com/Sd8YC2ZAcf\n",
      "pic.twitter.com/ZxLgpv8s19\n",
      "pic.twitter.com/5CE8Nmo7z9\n",
      "pic.twitter.com/86zXN9v580\n"
     ]
    }
   ],
   "source": [
    "tweet_kanye = []\n",
    "for i in tweets:\n",
    "    tweet_kanye.append(i.text)\n",
    "    print(i.text)"
   ]
  },
  {
   "cell_type": "code",
   "execution_count": 13,
   "metadata": {},
   "outputs": [
    {
     "data": {
      "text/plain": [
       "['f the world changed to love the world pic.twitter.com/BtqdEghrLf',\n",
       " \"today is the best day ever and tomorrow's going to be even better\",\n",
       " 'ye vs the people @\\xa0\\xa0http://kanyewest.com\\xa0pic.twitter.com/8f8WZpO8WH',\n",
       " 'Trust your feelings. Stop thinking so much',\n",
       " 'lift yourselfpic.twitter.com/ggVztSeZeO',\n",
       " \"I've got a new challenge for everyone today. Pick somebody that you had an argument with that you think you hate maybe even someone you haven't spoken to in years and contact that person and tell them I love you.\",\n",
       " 'pic.twitter.com/qkvKK6A3Mm',\n",
       " 'pic.twitter.com/QY2v1OgblE',\n",
       " 'Lead with lovepic.twitter.com/tj2a9LFYKZ',\n",
       " 'We got love. Agree to disagreepic.twitter.com/kaTcPYH0zL',\n",
       " 'Lift Yourself\\xa0\\xa0http://kanyewest.com\\xa0',\n",
       " \"I'm going to drop a song with a verse that will bring Ebro the closure he's been seeking \\n\\nThe bars \\n\\nIt's called Lift Yourself\",\n",
       " \"I haven't done enough research on conservatives to call myself or be called one. I'm just refusing to be enslaved by monolithic thought.\",\n",
       " 'pic.twitter.com/CBfSpDahCP',\n",
       " 'pic.twitter.com/ayEL4Fkftq',\n",
       " 'pic.twitter.com/7PlBuFVc6G',\n",
       " 'pic.twitter.com/Sd8YC2ZAcf',\n",
       " 'pic.twitter.com/ZxLgpv8s19',\n",
       " 'pic.twitter.com/5CE8Nmo7z9',\n",
       " 'pic.twitter.com/86zXN9v580']"
      ]
     },
     "execution_count": 13,
     "metadata": {},
     "output_type": "execute_result"
    }
   ],
   "source": [
    "tweet_kanye"
   ]
  },
  {
   "cell_type": "markdown",
   "metadata": {},
   "source": [
    "### Sentiment"
   ]
  },
  {
   "cell_type": "code",
   "execution_count": 14,
   "metadata": {},
   "outputs": [],
   "source": [
    "from textblob import TextBlob"
   ]
  },
  {
   "cell_type": "code",
   "execution_count": 15,
   "metadata": {},
   "outputs": [],
   "source": [
    "analysis = TextBlob(\"this is bad text or good very very good\") "
   ]
  },
  {
   "cell_type": "code",
   "execution_count": 16,
   "metadata": {},
   "outputs": [
    {
     "name": "stdout",
     "output_type": "stream",
     "text": [
      "['__add__', '__class__', '__contains__', '__delattr__', '__dict__', '__dir__', '__doc__', '__eq__', '__format__', '__ge__', '__getattribute__', '__getitem__', '__gt__', '__hash__', '__init__', '__init_subclass__', '__iter__', '__le__', '__len__', '__lt__', '__module__', '__ne__', '__new__', '__reduce__', '__reduce_ex__', '__repr__', '__setattr__', '__sizeof__', '__str__', '__subclasshook__', '__weakref__', '_cmpkey', '_compare', '_create_sentence_objects', '_strkey', 'analyzer', 'classifier', 'classify', 'correct', 'detect_language', 'ends_with', 'endswith', 'find', 'format', 'index', 'join', 'json', 'lower', 'ngrams', 'noun_phrases', 'np_counts', 'np_extractor', 'parse', 'parser', 'polarity', 'pos_tagger', 'pos_tags', 'raw', 'raw_sentences', 'replace', 'rfind', 'rindex', 'sentences', 'sentiment', 'sentiment_assessments', 'serialized', 'split', 'starts_with', 'startswith', 'string', 'strip', 'stripped', 'subjectivity', 'tags', 'title', 'to_json', 'tokenize', 'tokenizer', 'tokens', 'translate', 'translator', 'upper', 'word_counts', 'words']\n"
     ]
    }
   ],
   "source": [
    "print(dir(analysis))"
   ]
  },
  {
   "cell_type": "code",
   "execution_count": 17,
   "metadata": {},
   "outputs": [
    {
     "data": {
      "text/plain": [
       "Sentiment(polarity=0.30333333333333334, subjectivity=0.6822222222222223)"
      ]
     },
     "execution_count": 17,
     "metadata": {},
     "output_type": "execute_result"
    }
   ],
   "source": [
    "analysis.sentiment"
   ]
  },
  {
   "cell_type": "code",
   "execution_count": 18,
   "metadata": {},
   "outputs": [
    {
     "name": "stdout",
     "output_type": "stream",
     "text": [
      "Sentiment(polarity=0.5, subjectivity=0.6)\n",
      "Sentiment(polarity=0.75, subjectivity=0.4)\n",
      "Sentiment(polarity=0.0, subjectivity=0.0)\n",
      "Sentiment(polarity=0.2, subjectivity=0.2)\n",
      "Sentiment(polarity=0.0, subjectivity=0.0)\n",
      "Sentiment(polarity=-0.054545454545454564, subjectivity=0.6515151515151515)\n",
      "Sentiment(polarity=0.0, subjectivity=0.0)\n",
      "Sentiment(polarity=0.0, subjectivity=0.0)\n",
      "Sentiment(polarity=0.0, subjectivity=0.0)\n",
      "Sentiment(polarity=0.5, subjectivity=0.6)\n",
      "Sentiment(polarity=0.0, subjectivity=0.0)\n",
      "Sentiment(polarity=0.0, subjectivity=0.0)\n",
      "Sentiment(polarity=0.0, subjectivity=0.5)\n",
      "Sentiment(polarity=0.0, subjectivity=0.0)\n",
      "Sentiment(polarity=0.0, subjectivity=0.0)\n",
      "Sentiment(polarity=0.0, subjectivity=0.0)\n",
      "Sentiment(polarity=0.0, subjectivity=0.0)\n",
      "Sentiment(polarity=0.0, subjectivity=0.0)\n",
      "Sentiment(polarity=0.0, subjectivity=0.0)\n",
      "Sentiment(polarity=0.0, subjectivity=0.0)\n"
     ]
    }
   ],
   "source": [
    "for tw in tweet_kanye:\n",
    "    a2 = TextBlob(tw)\n",
    "    print(a2.sentiment)"
   ]
  },
  {
   "cell_type": "code",
   "execution_count": 19,
   "metadata": {},
   "outputs": [
    {
     "data": {
      "text/plain": [
       "['pic.twitter.com/ZxLgpv8s19',\n",
       " 'pic.twitter.com/5CE8Nmo7z9',\n",
       " 'pic.twitter.com/86zXN9v580']"
      ]
     },
     "execution_count": 19,
     "metadata": {},
     "output_type": "execute_result"
    }
   ],
   "source": [
    "tweet_kanye[-3:]"
   ]
  },
  {
   "cell_type": "code",
   "execution_count": 27,
   "metadata": {},
   "outputs": [],
   "source": [
    "def get_tweet(user):\n",
    "    tweet_text = []\n",
    "    polarity = []\n",
    "    subjectivity = []\n",
    "    public_tweets = requests.get('https://twitter.com/' + user)\n",
    "    soup = BeautifulSoup(public_tweets.text, 'html.parser')\n",
    "    tweets = soup.find_all('p', {'class': 'TweetTextSize TweetTextSize--normal js-tweet-text tweet-text'})\n",
    "    for tweet in tweets:\n",
    "        tweet_text.append(tweet.text)\n",
    "        a2 = TextBlob(tweet.text)\n",
    "        polarity.append(a2.polarity)\n",
    "        subjectivity.append(a2.subjectivity)\n",
    "    df = pd.DataFrame( {\n",
    "            'Tweet': tweet_text,\n",
    "            'Polarity Score': polarity,\n",
    "            'Subjectivity Score': subjectivity,\n",
    "        })\n",
    "    return df.head()"
   ]
  },
  {
   "cell_type": "code",
   "execution_count": 28,
   "metadata": {},
   "outputs": [
    {
     "data": {
      "text/html": [
       "<div>\n",
       "<style scoped>\n",
       "    .dataframe tbody tr th:only-of-type {\n",
       "        vertical-align: middle;\n",
       "    }\n",
       "\n",
       "    .dataframe tbody tr th {\n",
       "        vertical-align: top;\n",
       "    }\n",
       "\n",
       "    .dataframe thead th {\n",
       "        text-align: right;\n",
       "    }\n",
       "</style>\n",
       "<table border=\"1\" class=\"dataframe\">\n",
       "  <thead>\n",
       "    <tr style=\"text-align: right;\">\n",
       "      <th></th>\n",
       "      <th>Polarity Score</th>\n",
       "      <th>Subjectivity Score</th>\n",
       "      <th>Tweet</th>\n",
       "    </tr>\n",
       "  </thead>\n",
       "  <tbody>\n",
       "    <tr>\n",
       "      <th>0</th>\n",
       "      <td>0.50</td>\n",
       "      <td>0.6</td>\n",
       "      <td>f the world changed to love the world pic.twit...</td>\n",
       "    </tr>\n",
       "    <tr>\n",
       "      <th>1</th>\n",
       "      <td>0.75</td>\n",
       "      <td>0.4</td>\n",
       "      <td>today is the best day ever and tomorrow's goin...</td>\n",
       "    </tr>\n",
       "    <tr>\n",
       "      <th>2</th>\n",
       "      <td>0.00</td>\n",
       "      <td>0.0</td>\n",
       "      <td>ye vs the people @  http://kanyewest.com pic.t...</td>\n",
       "    </tr>\n",
       "    <tr>\n",
       "      <th>3</th>\n",
       "      <td>0.20</td>\n",
       "      <td>0.2</td>\n",
       "      <td>Trust your feelings. Stop thinking so much</td>\n",
       "    </tr>\n",
       "    <tr>\n",
       "      <th>4</th>\n",
       "      <td>0.00</td>\n",
       "      <td>0.0</td>\n",
       "      <td>lift yourselfpic.twitter.com/ggVztSeZeO</td>\n",
       "    </tr>\n",
       "  </tbody>\n",
       "</table>\n",
       "</div>"
      ],
      "text/plain": [
       "   Polarity Score  Subjectivity Score  \\\n",
       "0            0.50                 0.6   \n",
       "1            0.75                 0.4   \n",
       "2            0.00                 0.0   \n",
       "3            0.20                 0.2   \n",
       "4            0.00                 0.0   \n",
       "\n",
       "                                               Tweet  \n",
       "0  f the world changed to love the world pic.twit...  \n",
       "1  today is the best day ever and tomorrow's goin...  \n",
       "2  ye vs the people @  http://kanyewest.com pic.t...  \n",
       "3         Trust your feelings. Stop thinking so much  \n",
       "4            lift yourselfpic.twitter.com/ggVztSeZeO  "
      ]
     },
     "execution_count": 28,
     "metadata": {},
     "output_type": "execute_result"
    }
   ],
   "source": [
    "get_tweet('kanyewest')"
   ]
  },
  {
   "cell_type": "code",
   "execution_count": 29,
   "metadata": {},
   "outputs": [
    {
     "data": {
      "text/html": [
       "<div>\n",
       "<style scoped>\n",
       "    .dataframe tbody tr th:only-of-type {\n",
       "        vertical-align: middle;\n",
       "    }\n",
       "\n",
       "    .dataframe tbody tr th {\n",
       "        vertical-align: top;\n",
       "    }\n",
       "\n",
       "    .dataframe thead th {\n",
       "        text-align: right;\n",
       "    }\n",
       "</style>\n",
       "<table border=\"1\" class=\"dataframe\">\n",
       "  <thead>\n",
       "    <tr style=\"text-align: right;\">\n",
       "      <th></th>\n",
       "      <th>Polarity Score</th>\n",
       "      <th>Subjectivity Score</th>\n",
       "      <th>Tweet</th>\n",
       "    </tr>\n",
       "  </thead>\n",
       "  <tbody>\n",
       "    <tr>\n",
       "      <th>0</th>\n",
       "      <td>0.170455</td>\n",
       "      <td>0.500000</td>\n",
       "      <td>Join me LIVE in Washington, Michigan at 7:00pm...</td>\n",
       "    </tr>\n",
       "    <tr>\n",
       "      <th>1</th>\n",
       "      <td>-0.340187</td>\n",
       "      <td>0.607143</td>\n",
       "      <td>Secret Service has just informed me that Senat...</td>\n",
       "    </tr>\n",
       "    <tr>\n",
       "      <th>2</th>\n",
       "      <td>0.249716</td>\n",
       "      <td>0.462500</td>\n",
       "      <td>Look forward to being in the Great State of Mi...</td>\n",
       "    </tr>\n",
       "    <tr>\n",
       "      <th>3</th>\n",
       "      <td>0.353333</td>\n",
       "      <td>0.493333</td>\n",
       "      <td>Just had a long and very good talk with Presid...</td>\n",
       "    </tr>\n",
       "    <tr>\n",
       "      <th>4</th>\n",
       "      <td>-0.500000</td>\n",
       "      <td>1.000000</td>\n",
       "      <td>“Clapper lied about (fraudulent) Dossier leaks...</td>\n",
       "    </tr>\n",
       "  </tbody>\n",
       "</table>\n",
       "</div>"
      ],
      "text/plain": [
       "   Polarity Score  Subjectivity Score  \\\n",
       "0        0.170455            0.500000   \n",
       "1       -0.340187            0.607143   \n",
       "2        0.249716            0.462500   \n",
       "3        0.353333            0.493333   \n",
       "4       -0.500000            1.000000   \n",
       "\n",
       "                                               Tweet  \n",
       "0  Join me LIVE in Washington, Michigan at 7:00pm...  \n",
       "1  Secret Service has just informed me that Senat...  \n",
       "2  Look forward to being in the Great State of Mi...  \n",
       "3  Just had a long and very good talk with Presid...  \n",
       "4  “Clapper lied about (fraudulent) Dossier leaks...  "
      ]
     },
     "execution_count": 29,
     "metadata": {},
     "output_type": "execute_result"
    }
   ],
   "source": [
    "get_tweet('realDonaldTrump')"
   ]
  }
 ],
 "metadata": {
  "kernelspec": {
   "display_name": "Python 3",
   "language": "python",
   "name": "python3"
  },
  "language_info": {
   "codemirror_mode": {
    "name": "ipython",
    "version": 3
   },
   "file_extension": ".py",
   "mimetype": "text/x-python",
   "name": "python",
   "nbconvert_exporter": "python",
   "pygments_lexer": "ipython3",
   "version": "3.7.1"
  }
 },
 "nbformat": 4,
 "nbformat_minor": 2
}
