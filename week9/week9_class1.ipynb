{
 "cells": [
  {
   "cell_type": "markdown",
   "metadata": {},
   "source": [
    "HTML\n",
    "- Hyper Text Markup Language\n",
    "- Displays text in a web browser\n",
    "\n",
    "TAGS \n",
    "- HTML works with tags\n",
    "- Header: <h1> Header Text </h1>\n",
    "- Pargraphs: <p> Paragraph </p>\n",
    "- A tag, creates a link: <a src=\"github.com\"> Link </a>\n",
    "<div class='artist'> text </div>"
   ]
  },
  {
   "cell_type": "markdown",
   "metadata": {},
   "source": [
    "<h1> header! </h1>\n",
    "<p> This is a paragraph! So exciting! Click <a href=\"https://pitchfork.com\"> here</a>  to go to a website</p>"
   ]
  },
  {
   "cell_type": "code",
   "execution_count": null,
   "metadata": {},
   "outputs": [],
   "source": []
  }
 ],
 "metadata": {
  "kernelspec": {
   "display_name": "Python 3",
   "language": "python",
   "name": "python3"
  },
  "language_info": {
   "codemirror_mode": {
    "name": "ipython",
    "version": 3
   },
   "file_extension": ".py",
   "mimetype": "text/x-python",
   "name": "python",
   "nbconvert_exporter": "python",
   "pygments_lexer": "ipython3",
   "version": "3.7.1"
  }
 },
 "nbformat": 4,
 "nbformat_minor": 2
}
