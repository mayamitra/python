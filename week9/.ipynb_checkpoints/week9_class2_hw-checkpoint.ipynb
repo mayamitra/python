{
 "cells": [
  {
   "cell_type": "code",
   "execution_count": 1,
   "metadata": {},
   "outputs": [],
   "source": [
    "import requests\n",
    "from bs4 import BeautifulSoup\n",
    "#beautiful soup helps us search the page; request just gives us the HTML\n",
    "import pandas as pd\n",
    "import numpy as np"
   ]
  },
  {
   "cell_type": "code",
   "execution_count": 10,
   "metadata": {},
   "outputs": [],
   "source": [
    "req = requests.get('https://www.yelp.com/biz/epistrophy-new-york?osq=epistrophy')"
   ]
  },
  {
   "cell_type": "code",
   "execution_count": 11,
   "metadata": {},
   "outputs": [
    {
     "data": {
      "text/plain": [
       "<Response [200]>"
      ]
     },
     "execution_count": 11,
     "metadata": {},
     "output_type": "execute_result"
    }
   ],
   "source": [
    "req #tells you whether or not u typed in the link correctly"
   ]
  },
  {
   "cell_type": "code",
   "execution_count": 12,
   "metadata": {},
   "outputs": [],
   "source": [
    "soup = BeautifulSoup(req.text,'html.parser') #can also say 'xml' instead of 'html.parser'"
   ]
  },
  {
   "cell_type": "code",
   "execution_count": 13,
   "metadata": {},
   "outputs": [
    {
     "data": {
      "text/plain": [
       "'\\n\\n\\n\\n\\n  \\n\\n\\n            (function() {\\n                var main = null;\\n\\n                var main=function(){window.onerror=function(k,a,c,i,f){var j=(document.getElementsByTagName(\"html\")[0].getAttribut'"
      ]
     },
     "execution_count": 13,
     "metadata": {},
     "output_type": "execute_result"
    }
   ],
   "source": [
    "soup.text[:200]"
   ]
  },
  {
   "cell_type": "code",
   "execution_count": 14,
   "metadata": {},
   "outputs": [],
   "source": [
    "first_review = soup.find('div', {'class':\"review review--with-sidebar\"})"
   ]
  },
  {
   "cell_type": "code",
   "execution_count": 15,
   "metadata": {},
   "outputs": [
    {
     "data": {
      "text/plain": [
       "<div class=\"review review--with-sidebar\" data-review-id=\"fz0pHJ4_KEGwKfFUT2dDqQ\" data-signup-object=\"user_id:sU4fq-TWOhvJcjFI5GLL3w\">\n",
       "<div class=\"review-sidebar\">\n",
       "<div class=\"review-sidebar-content\">\n",
       "<div class=\"ypassport media-block\">\n",
       "<div class=\"media-avatar responsive-photo-box\">\n",
       "<div class=\"photo-box pb-60s\" data-hovercard-id=\"ZtgwkUEMlGcFEa76Df5xwQ\">\n",
       "<a class=\"js-analytics-click\" data-analytics-label=\"user-photo\" href=\"/user_details?userid=sU4fq-TWOhvJcjFI5GLL3w\">\n",
       "<img alt=\"Rich R.\" class=\"photo-box-img\" height=\"60\" src=\"https://s3-media2.fl.yelpcdn.com/photo/Yh218hRCMbRgqrWT_T8wLg/60s.jpg\" srcset=\"https://s3-media2.fl.yelpcdn.com/photo/Yh218hRCMbRgqrWT_T8wLg/90s.jpg 1.50x,https://s3-media2.fl.yelpcdn.com/photo/Yh218hRCMbRgqrWT_T8wLg/168s.jpg 2.80x,https://s3-media2.fl.yelpcdn.com/photo/Yh218hRCMbRgqrWT_T8wLg/ms.jpg 1.67x,https://s3-media2.fl.yelpcdn.com/photo/Yh218hRCMbRgqrWT_T8wLg/180s.jpg 3.00x,https://s3-media2.fl.yelpcdn.com/photo/Yh218hRCMbRgqrWT_T8wLg/120s.jpg 2.00x\" width=\"60\"/>\n",
       "</a>\n",
       "</div>\n",
       "</div>\n",
       "<div class=\"media-story\">\n",
       "<ul class=\"user-passport-info\">\n",
       "<li class=\"user-name\">\n",
       "<a class=\"user-display-name js-analytics-click\" data-analytics-label=\"about_me\" data-hovercard-id=\"ZtgwkUEMlGcFEa76Df5xwQ\" href=\"/user_details?userid=sU4fq-TWOhvJcjFI5GLL3w\" id=\"dropdown_user-name\">Rich R.</a>\n",
       "</li>\n",
       "<li class=\"user-location responsive-hidden-small\">\n",
       "<b>Northport, NY</b>\n",
       "</li>\n",
       "</ul>\n",
       "<ul class=\"user-passport-stats\">\n",
       "<li class=\"friend-count responsive-small-display-inline-block\">\n",
       "<span aria-hidden=\"true\" class=\"icon icon--18-friends icon--size-18\" style=\"fill: #f15c00; width: 18px; height: 18px;\">\n",
       "<svg class=\"icon_svg\" role=\"img\">\n",
       "<use xlink:href=\"#18x18_friends\"></use>\n",
       "</svg>\n",
       "</span>\n",
       "<b>2</b> friends\n",
       "        </li>\n",
       "<li class=\"review-count responsive-small-display-inline-block\">\n",
       "<span aria-hidden=\"true\" class=\"icon icon--18-review icon--size-18\" style=\"fill: #f15c00; width: 18px; height: 18px;\">\n",
       "<svg class=\"icon_svg\" role=\"img\">\n",
       "<use xlink:href=\"#18x18_review\"></use>\n",
       "</svg>\n",
       "</span>\n",
       "<b>12</b> reviews\n",
       "        </li>\n",
       "</ul>\n",
       "</div>\n",
       "</div>\n",
       "<ul class=\"action-link-list action-link-list--small\">\n",
       "<li>\n",
       "<a class=\"arrange arrange--middle send-to-friend\" data-pop-uri=\"/send_to_friend/review/fz0pHJ4_KEGwKfFUT2dDqQ\" href=\"javascript:;\" rel=\"\">\n",
       "<div class=\"action-link_icon arrange_unit\">\n",
       "<span aria-hidden=\"true\" class=\"icon icon--18-share icon--size-18 icon--currentColor\" style=\"width: 18px; height: 18px;\">\n",
       "<svg class=\"icon_svg\" role=\"img\">\n",
       "<use xlink:href=\"#18x18_share\"></use>\n",
       "</svg>\n",
       "</span>\n",
       "</div>\n",
       "<div class=\"action-link_label arrange_unit arrange_unit--fill\">\n",
       "            Share review\n",
       "        </div>\n",
       "</a>\n",
       "</li>\n",
       "<li>\n",
       "<a class=\"arrange arrange--middle embed-review\" data-pop-uri=\"/review_embed_modal/fz0pHJ4_KEGwKfFUT2dDqQ\" href=\"javascript:;\" rel=\"\">\n",
       "<div class=\"action-link_icon arrange_unit\">\n",
       "<span aria-hidden=\"true\" class=\"icon icon--18-embed icon--size-18 icon--currentColor\" style=\"width: 18px; height: 18px;\">\n",
       "<svg class=\"icon_svg\" role=\"img\">\n",
       "<use xlink:href=\"#18x18_embed\"></use>\n",
       "</svg>\n",
       "</span>\n",
       "</div>\n",
       "<div class=\"action-link_label arrange_unit arrange_unit--fill\">\n",
       "            Embed review\n",
       "        </div>\n",
       "</a>\n",
       "</li>\n",
       "<li>\n",
       "<a class=\"arrange arrange--middle send-compliment\" href=\"javascript:;\" rel=\"\">\n",
       "<div class=\"action-link_icon arrange_unit\">\n",
       "<span aria-hidden=\"true\" class=\"icon icon--18-compliment icon--size-18 icon--currentColor\" style=\"width: 18px; height: 18px;\">\n",
       "<svg class=\"icon_svg\" role=\"img\">\n",
       "<use xlink:href=\"#18x18_compliment\"></use>\n",
       "</svg>\n",
       "</span>\n",
       "</div>\n",
       "<div class=\"action-link_label arrange_unit arrange_unit--fill\">\n",
       "            Compliment\n",
       "        </div>\n",
       "</a>\n",
       "</li>\n",
       "<li>\n",
       "<a class=\"arrange arrange--middle send-pm\" href=\"javascript:;\" rel=\"Rich R.\">\n",
       "<div class=\"action-link_icon arrange_unit\">\n",
       "<span aria-hidden=\"true\" class=\"icon icon--18-speech icon--size-18 icon--currentColor\" style=\"width: 18px; height: 18px;\">\n",
       "<svg class=\"icon_svg\" role=\"img\">\n",
       "<use xlink:href=\"#18x18_speech\"></use>\n",
       "</svg>\n",
       "</span>\n",
       "</div>\n",
       "<div class=\"action-link_label arrange_unit arrange_unit--fill\">\n",
       "            Send message\n",
       "        </div>\n",
       "</a>\n",
       "</li>\n",
       "<li>\n",
       "<a class=\"arrange arrange--middle manage-following manage-following-add\" data-csrf-token=\"b5c17119ac3350c70b86bbe844690b9f85cf956b71c1951705f86f866623d0f5\" href=\"javascript:;\" rel=\"sU4fq-TWOhvJcjFI5GLL3w\">\n",
       "<div class=\"action-link_icon arrange_unit\">\n",
       "<span aria-hidden=\"true\" class=\"icon icon--18-following icon--size-18 icon--currentColor\" style=\"width: 18px; height: 18px;\">\n",
       "<svg class=\"icon_svg\" role=\"img\">\n",
       "<use xlink:href=\"#18x18_following\"></use>\n",
       "</svg>\n",
       "</span>\n",
       "</div>\n",
       "<div class=\"action-link_label arrange_unit arrange_unit--fill\">\n",
       "            Follow Rich R.\n",
       "        </div>\n",
       "</a>\n",
       "</li>\n",
       "<li>\n",
       "<a class=\"arrange arrange--middle manage-following manage-following-remove hidden\" data-csrf-token=\"b5c17119ac3350c70b86bbe844690b9f85cf956b71c1951705f86f866623d0f5\" href=\"javascript:;\" rel=\"sU4fq-TWOhvJcjFI5GLL3w\">\n",
       "<div class=\"action-link_icon arrange_unit\">\n",
       "<span aria-hidden=\"true\" class=\"icon icon--18-unfollow icon--size-18 icon--currentColor\" style=\"width: 18px; height: 18px;\">\n",
       "<svg class=\"icon_svg\" role=\"img\">\n",
       "<use xlink:href=\"#18x18_unfollow\"></use>\n",
       "</svg>\n",
       "</span>\n",
       "</div>\n",
       "<div class=\"action-link_label arrange_unit arrange_unit--fill\">\n",
       "            Stop following Rich R.\n",
       "        </div>\n",
       "</a>\n",
       "</li>\n",
       "</ul>\n",
       "</div>\n",
       "</div>\n",
       "<div class=\"review-wrapper\">\n",
       "<div class=\"review-content\">\n",
       "<div class=\"biz-rating biz-rating-large clearfix\">\n",
       "<div>\n",
       "<div class=\"i-stars i-stars--regular-4 rating-large\" title=\"4.0 star rating\">\n",
       "<img alt=\"4.0 star rating\" class=\"offscreen\" height=\"303\" src=\"https://s3-media2.fl.yelpcdn.com/assets/srv0/yelp_design_web/9b34e39ccbeb/assets/img/stars/stars.png\" width=\"84\"/>\n",
       "</div>\n",
       "</div>\n",
       "<span class=\"rating-qualifier\">\n",
       "        1/11/2019\n",
       "    </span>\n",
       "</div>\n",
       "<p lang=\"en\">Clebrated a big b-day last night and am pleased to report Epistriphy  was up to the task.  Svc was great, vibe very cool, athough the noise level made it hard to hear Nancy Sinatra and the food was just what I needed on a frigid January night.  The $47 bottle of Avelo de Nero  didnt hurt either.<br/><br/>Our family shared tuna tartar and squid appies and found them to be beautifully presented, fresh and very tasty.  The olive oil on the table, if representative of what was used in the kitchen added greatly to the meal's success.     My wife had the pepper crusted tuna, which was done perfectley and was  like buttah.  Two orders of the short ribs were served on polenta, which could have come out of the kitchen hotter, but was tender,  delicious in the wine redction sauce and complemeted nicely with creamy polenta.  And my future son-in-law had the paprdelle with meat suace; he probably couldve stood a bigger portion and thought the pasta not al dente enough, but that mightve been the nature of the fresh pasta, not dried pasta one is normally accustomed.  No dessert for us, as we had b-day cupcakes waiting.       <br/><br/>Got b-day wishes from the server and a nice, homey feel from this quaint italiain restatrauarnt.  i hope to come back to try some pasta myself next time and a salad.</p>\n",
       "</div>\n",
       "<div class=\"review-footer clearfix\">\n",
       "<div class=\"rateReview voting-feedback\" data-origin=\"biz_details_review_feed\" data-review-id=\"fz0pHJ4_KEGwKfFUT2dDqQ\">\n",
       "<p class=\"voting-intro voting-prompt\">\n",
       "            Was this review …?\n",
       "    </p>\n",
       "<ul class=\"voting-buttons\" data-csrf-token=\"3eb40683bd81e55ba7d3558c5b83223179672344da726c9753d11a265dc1ec1f\">\n",
       "<li class=\"vote-item inline-block\">\n",
       "<a class=\"ybtn ybtn--small ybtn--secondary useful js-analytics-click\" data-analytics-label=\"ufc\" href=\"javascript:;\" rel=\"useful\">\n",
       "<span aria-hidden=\"true\" class=\"icon icon--18-useful-outline icon--size-18 icon--currentColor button-content u-space-r-half\" style=\"width: 18px; height: 18px;\">\n",
       "<svg class=\"icon_svg\" role=\"img\">\n",
       "<use xlink:href=\"#18x18_useful_outline\"></use>\n",
       "</svg>\n",
       "</span> <span class=\"vote-type\">Useful</span>\n",
       "<span class=\"count\"></span>\n",
       "</a>\n",
       "</li>\n",
       "<li class=\"vote-item inline-block\">\n",
       "<a class=\"ybtn ybtn--small ybtn--secondary funny js-analytics-click\" data-analytics-label=\"ufc\" href=\"javascript:;\" rel=\"funny\">\n",
       "<span aria-hidden=\"true\" class=\"icon icon--18-funny-outline icon--size-18 icon--currentColor button-content u-space-r-half\" style=\"width: 18px; height: 18px;\">\n",
       "<svg class=\"icon_svg\" role=\"img\">\n",
       "<use xlink:href=\"#18x18_funny_outline\"></use>\n",
       "</svg>\n",
       "</span> <span class=\"vote-type\">Funny</span>\n",
       "<span class=\"count\"></span>\n",
       "</a>\n",
       "</li>\n",
       "<li class=\"vote-item inline-block\">\n",
       "<a class=\"ybtn ybtn--small ybtn--secondary cool js-analytics-click\" data-analytics-label=\"ufc\" href=\"javascript:;\" rel=\"cool\">\n",
       "<span aria-hidden=\"true\" class=\"icon icon--18-cool-outline icon--size-18 icon--currentColor button-content u-space-r-half\" style=\"width: 18px; height: 18px;\">\n",
       "<svg class=\"icon_svg\" role=\"img\">\n",
       "<use xlink:href=\"#18x18_cool_outline\"></use>\n",
       "</svg>\n",
       "</span> <span class=\"vote-type\">Cool</span>\n",
       "<span class=\"count\"></span>\n",
       "</a>\n",
       "</li>\n",
       "</ul>\n",
       "<div class=\"js-deanon-modal-container\">\n",
       "<div class=\"js-deanon-modal u-hidden\">\n",
       "<div class=\"modal_body\">\n",
       "<div class=\"u-text-centered u-space-t6 u-space-b6\">\n",
       "<h3 class=\"u-space-b3\">Others will see how you vote!</h3>\n",
       "<div class=\"u-space-b3\">\n",
       "<img src=\"https://s3-media3.fl.yelpcdn.com/assets/srv0/yelp_deanonymize_ufc/f871a0ff7872/lib/img/200x120_ufc_globe.png\"/>\n",
       "</div>\n",
       "<div class=\"u-space-b2\" style=\"width:76%;margin:auto;\">\n",
       "                    Heads up: From now on, other Yelpers will be able to see how you voted. Want to chime in?\n",
       "                </div>\n",
       "<form action=\"/review_feedback/deanonymize/1.0.0\" class=\"js-deanon-form\" method=\"POST\">\n",
       "<input class=\"csrftok\" name=\"csrftok\" type=\"hidden\" value=\"b4b5e87d254dbcb69327ff4ba33249185d5b5af616f8ea0a3adf520cfe3f3c9b\"/>\n",
       "<button class=\"ybtn ybtn--primary ybtn--small js-let-me-vote-button u-space-b1\" href=\"javascript:;\" type=\"submit\" value=\"submit\"><span>Yes, Let Me Vote!</span></button>\n",
       "</form>\n",
       "<div class=\"js-maybe-later-button u-pseudo-link\">\n",
       "<small>Maybe Later</small>\n",
       "</div>\n",
       "</div>\n",
       "</div>\n",
       "</div>\n",
       "</div>\n",
       "</div>\n",
       "</div>\n",
       "</div>\n",
       "</div>"
      ]
     },
     "execution_count": 15,
     "metadata": {},
     "output_type": "execute_result"
    }
   ],
   "source": [
    "first_review"
   ]
  },
  {
   "cell_type": "code",
   "execution_count": 16,
   "metadata": {},
   "outputs": [
    {
     "data": {
      "text/plain": [
       "\"Clebrated a big b-day last night and am pleased to report Epistriphy \\xa0was up to the task. \\xa0Svc was great, vibe very cool, athough the noise level made it hard to hear Nancy Sinatra and the food was just what I needed on a frigid January night. \\xa0The $47 bottle of Avelo de Nero \\xa0didnt hurt either.Our family shared tuna tartar and squid appies and found them to be beautifully presented, fresh and very tasty. \\xa0The olive oil on the table, if representative of what was used in the kitchen added greatly to the meal's success. \\xa0 \\xa0 My wife had the pepper crusted tuna, which was done perfectley and was \\xa0like buttah. \\xa0Two orders of the short ribs were served on polenta, which could have come out of the kitchen hotter, but was tender, \\xa0delicious in the wine redction sauce and complemeted nicely with creamy polenta. \\xa0And my future son-in-law had the paprdelle with meat suace; he probably couldve stood a bigger portion and thought the pasta not al dente enough, but that mightve been the nature of the fresh pasta, not dried pasta one is normally accustomed. \\xa0No dessert for us, as we had b-day cupcakes waiting. \\xa0 \\xa0 \\xa0 Got b-day wishes from the server and a nice, homey feel from this quaint italiain restatrauarnt. \\xa0i hope to come back to try some pasta myself next time and a salad.\""
      ]
     },
     "execution_count": 16,
     "metadata": {},
     "output_type": "execute_result"
    }
   ],
   "source": [
    "first_review.find('p', {'lang': 'en'}).text"
   ]
  },
  {
   "cell_type": "code",
   "execution_count": 17,
   "metadata": {},
   "outputs": [],
   "source": [
    "review_text = first_review.find('p', {'lang': 'en'}).text"
   ]
  },
  {
   "cell_type": "code",
   "execution_count": 19,
   "metadata": {},
   "outputs": [],
   "source": [
    "#creating instagram-o-meter\n",
    "pos_words = ['cute', 'pretty', 'beautiful', 'pics', 'pictures', 'ambiance', 'aesthetic', 'cozy', 'warm', \n",
    "            'sunny', 'well-lit', 'relaxed', 'decor', 'fun', 'chic', 'romantic']\n",
    "neg_words = ['small', 'dirty', 'ugly', 'too','gross','smelly','uncomfortable', 'tight', 'dark', 'bad lighting', \n",
    "             'crowded', 'messy', 'weird', 'creepy', 'messy']"
   ]
  },
  {
   "cell_type": "code",
   "execution_count": 20,
   "metadata": {},
   "outputs": [
    {
     "data": {
      "text/plain": [
       "\"Clebrated a big b-day last night and am pleased to report Epistriphy \\xa0was up to the task. \\xa0Svc was great, vibe very cool, athough the noise level made it hard to hear Nancy Sinatra and the food was just what I needed on a frigid January night. \\xa0The $47 bottle of Avelo de Nero \\xa0didnt hurt either.Our family shared tuna tartar and squid appies and found them to be beautifully presented, fresh and very tasty. \\xa0The olive oil on the table, if representative of what was used in the kitchen added greatly to the meal's success. \\xa0 \\xa0 My wife had the pepper crusted tuna, which was done perfectley and was \\xa0like buttah. \\xa0Two orders of the short ribs were served on polenta, which could have come out of the kitchen hotter, but was tender, \\xa0delicious in the wine redction sauce and complemeted nicely with creamy polenta. \\xa0And my future son-in-law had the paprdelle with meat suace; he probably couldve stood a bigger portion and thought the pasta not al dente enough, but that mightve been the nature of the fresh pasta, not dried pasta one is normally accustomed. \\xa0No dessert for us, as we had b-day cupcakes waiting. \\xa0 \\xa0 \\xa0 Got b-day wishes from the server and a nice, homey feel from this quaint italiain restatrauarnt. \\xa0i hope to come back to try some pasta myself next time and a salad.\""
      ]
     },
     "execution_count": 20,
     "metadata": {},
     "output_type": "execute_result"
    }
   ],
   "source": [
    "review_text"
   ]
  },
  {
   "cell_type": "code",
   "execution_count": 21,
   "metadata": {},
   "outputs": [],
   "source": [
    "score = 0\n",
    "review_list = review_text.split() #splits it by word\n",
    "\n",
    "for word in review_list:\n",
    "    if word.lower() in pos_words: #use .lower() bc our list is lowercase\n",
    "        score +=1     \n",
    "    if word.lower() in neg_words:\n",
    "        score -=1"
   ]
  },
  {
   "cell_type": "code",
   "execution_count": 22,
   "metadata": {},
   "outputs": [
    {
     "data": {
      "text/plain": [
       "0"
      ]
     },
     "execution_count": 22,
     "metadata": {},
     "output_type": "execute_result"
    }
   ],
   "source": [
    "score"
   ]
  },
  {
   "cell_type": "code",
   "execution_count": 23,
   "metadata": {},
   "outputs": [],
   "source": [
    "url = 'https://www.yelp.com/biz/epistrophy-new-york?osq=epistrophy'"
   ]
  },
  {
   "cell_type": "code",
   "execution_count": 24,
   "metadata": {},
   "outputs": [],
   "source": [
    "response = requests.get(url)\n",
    "soup = BeautifulSoup(response.text, 'html.parser')\n",
    "reviews = soup.find_all('p', {'lang': \"en\"}) #will find all the reviews\n",
    "clean_reviews = [review.text for review in reviews]"
   ]
  },
  {
   "cell_type": "code",
   "execution_count": 32,
   "metadata": {},
   "outputs": [
    {
     "data": {
      "text/plain": [
       "'The Mott Mule was decent. The meal was just meh. I got the cacio e pepe was just okay.'"
      ]
     },
     "execution_count": 32,
     "metadata": {},
     "output_type": "execute_result"
    }
   ],
   "source": [
    "clean_reviews[-1]"
   ]
  },
  {
   "cell_type": "code",
   "execution_count": 38,
   "metadata": {},
   "outputs": [
    {
     "data": {
      "text/plain": [
       "[\"Clebrated a big b-day last night and am pleased to report Epistriphy \\xa0was up to the task. \\xa0Svc was great, vibe very cool, athough the noise level made it hard to hear Nancy Sinatra and the food was just what I needed on a frigid January night. \\xa0The $47 bottle of Avelo de Nero \\xa0didnt hurt either.Our family shared tuna tartar and squid appies and found them to be beautifully presented, fresh and very tasty. \\xa0The olive oil on the table, if representative of what was used in the kitchen added greatly to the meal's success. \\xa0 \\xa0 My wife had the pepper crusted tuna, which was done perfectley and was \\xa0like buttah. \\xa0Two orders of the short ribs were served on polenta, which could have come out of the kitchen hotter, but was tender, \\xa0delicious in the wine redction sauce and complemeted nicely with creamy polenta. \\xa0And my future son-in-law had the paprdelle with meat suace; he probably couldve stood a bigger portion and thought the pasta not al dente enough, but that mightve been the nature of the fresh pasta, not dried pasta one is normally accustomed. \\xa0No dessert for us, as we had b-day cupcakes waiting. \\xa0 \\xa0 \\xa0 Got b-day wishes from the server and a nice, homey feel from this quaint italiain restatrauarnt. \\xa0i hope to come back to try some pasta myself next time and a salad.\",\n",
       " \"Meh.Cute space, but small. Portions are the right size but the food is expensive. Didn't enjoy my dish, Spaghetti e Cacio Pepe. I would go back and try something else for sure.The service was bad and the servers didn't seem to care about anything. Overall, this was s very mediocre dining experience.\",\n",
       " 'I want to like Epistrophy so bad for its cozy vibes. But the service kills it. I\\'ve been three times now, and each time I nearly pulled a muscle trying to wave down the servers! \\xa0And the food doesn\\'t make up for the service. \\xa0Honestly, the place kinda feels like a tourist trap trying really hard to encapsulate the \"real\" Nolita. \\xa0At most, I\\'d return for a quick day drink at the bar...',\n",
       " \"Epistrophy is a lovely Italian restaurant with a great bar program. It was an unseasonably warm day (thanks global warming!) so we were able to take advantage of their sidewalk seating. Great little area for people watching without too much car traffic and noise.Everything in their menu looked amazing that it was hard to choose. So we decided to split a few plates.For starters, the burrata was a no-brainer. I typically don't think burrata needs any accoutrements, but theirs was served with beet carpaccio and toasted almonds, and changed my mind. The sweet and savory really elevated it.We also had the veal/beef meatballs in white wine sauce. It was six to the order, which was the perfect amount for two people. Loved the barebones dish, and dipping bread into the sauce was a highlight.Lastly, we decided to split a pasta dish. It was a pretty lengthy debate since everything sounded amazing, but we landed on the pappardelle in braised beef tomato sauce. It was [chef kissing fingers emoji]. The pasta was fresh and cooked perfectly. Light but still meaty (in both senses of the word).For cocktails, I had the New Fashioned and the 200 Sour since it was a bourbon kinda night. Both were very good.Service was great, and of course the food and atmosphere was amazing. Just the perfect mix of romantic and lively.\",\n",
       " 'I\\'ll start with the good- I really enjoyed the atmosphere. Relaxing ambiance, and it\\'s a cozy place to eat, drink, and catch up with friends. It\\'s nice they have circular tables so you can actually see everyone and the conversation isn\\'t just one across the other or side by side. The meh part of it- the actual food.I found the food to be very average and because of that, the prices to be really high for the amount you get and the taste. Here\\'s what we got:Calamari E Funghi- 3/5- not what I was expecting. This calamari wasn\\'t covered in batter or fried (totally missed the \"seared\" part on the menu). It was just the squid mixed with mushrooms on top of what I think was endive. It wasn\\'t bad- it was pretty tasty but this portion was tiny af and also not outstanding in any way ($11)Endive salad- 3/5- also not bad for a salad....but it\\'s a salad. Endive tossed with avocado, orange, croutons, and citrus vinaigrette and seriously something I couldn\\'t make on my own. As I\\'m writing this, part of me feels like they keep the restaurant so dark is so you can\\'t see your plate and how average everything looks on it when it comes out ($13)Gnocchi Al Funghi- 3/5. I mean truffle oil is great but just jacks up the price of a dish that is again, average- homemade potato gnocchi, mixed mushroom, truffle oil, parmigiano-reggiano ($17)Pappardelle Al Sugo Di Carne- 3/5. Flat, fresh pasta, braised beef in tomato sauce, parmigiano-reggiano...you know what I\\'m going to say next. average tasting ($16)The food isn\\'t terrible tasting by any means- everything tasted okay. But that was my biggest qualm with this place- the hefty price tag for portions that are SO SMALL especially for what I felt was very very average food. I\\'d give it a 2.5/5 for the food (if yelp did half stars) with all these factors added in. It\\'s one of those places where you\\'re super excited for the food to come out and when it does and you look at the dish, you\\'re just like oh...that\\'s it?I\\'d come back here for maybe a beer during happy hour and light food at the bar but not again for a full dinner meal. Too much money for only meh food.']"
      ]
     },
     "execution_count": 38,
     "metadata": {},
     "output_type": "execute_result"
    }
   ],
   "source": [
    "clean_reviews[:5]"
   ]
  },
  {
   "cell_type": "code",
   "execution_count": 36,
   "metadata": {},
   "outputs": [
    {
     "ename": "AttributeError",
     "evalue": "'list' object has no attribute 'split'",
     "output_type": "error",
     "traceback": [
      "\u001b[0;31m---------------------------------------------------------------------------\u001b[0m",
      "\u001b[0;31mAttributeError\u001b[0m                            Traceback (most recent call last)",
      "\u001b[0;32m<ipython-input-36-e8423f8fe56b>\u001b[0m in \u001b[0;36m<module>\u001b[0;34m\u001b[0m\n\u001b[1;32m      1\u001b[0m \u001b[0mscore\u001b[0m \u001b[0;34m=\u001b[0m \u001b[0;36m0\u001b[0m\u001b[0;34m\u001b[0m\u001b[0;34m\u001b[0m\u001b[0m\n\u001b[0;32m----> 2\u001b[0;31m \u001b[0mclean_reviews_list\u001b[0m \u001b[0;34m=\u001b[0m \u001b[0mclean_reviews\u001b[0m\u001b[0;34m.\u001b[0m\u001b[0msplit\u001b[0m\u001b[0;34m(\u001b[0m\u001b[0;34m)\u001b[0m \u001b[0;31m#splits it by word\u001b[0m\u001b[0;34m\u001b[0m\u001b[0;34m\u001b[0m\u001b[0m\n\u001b[0m\u001b[1;32m      3\u001b[0m \u001b[0;34m\u001b[0m\u001b[0m\n\u001b[1;32m      4\u001b[0m \u001b[0;32mfor\u001b[0m \u001b[0mword\u001b[0m \u001b[0;32min\u001b[0m \u001b[0mclean_reviews_list\u001b[0m\u001b[0;34m:\u001b[0m\u001b[0;34m\u001b[0m\u001b[0;34m\u001b[0m\u001b[0m\n\u001b[1;32m      5\u001b[0m     \u001b[0;32mif\u001b[0m \u001b[0mword\u001b[0m\u001b[0;34m.\u001b[0m\u001b[0mlower\u001b[0m\u001b[0;34m(\u001b[0m\u001b[0;34m)\u001b[0m \u001b[0;32min\u001b[0m \u001b[0mpos_words\u001b[0m\u001b[0;34m:\u001b[0m \u001b[0;31m#use .lower() bc our list is lowercase\u001b[0m\u001b[0;34m\u001b[0m\u001b[0;34m\u001b[0m\u001b[0m\n",
      "\u001b[0;31mAttributeError\u001b[0m: 'list' object has no attribute 'split'"
     ]
    }
   ],
   "source": [
    "score = 0\n",
    "clean_reviews_list = clean_reviews.split() #splits it by word\n",
    "\n",
    "for word in clean_reviews_list:\n",
    "    if word.lower() in pos_words: #use .lower() bc our list is lowercase\n",
    "        score +=1     \n",
    "    if word.lower() in neg_words:\n",
    "        score -=1"
   ]
  },
  {
   "cell_type": "code",
   "execution_count": 37,
   "metadata": {},
   "outputs": [
    {
     "data": {
      "text/plain": [
       "0"
      ]
     },
     "execution_count": 37,
     "metadata": {},
     "output_type": "execute_result"
    }
   ],
   "source": [
    "score"
   ]
  },
  {
   "cell_type": "code",
   "execution_count": null,
   "metadata": {},
   "outputs": [],
   "source": []
  }
 ],
 "metadata": {
  "kernelspec": {
   "display_name": "Python 3",
   "language": "python",
   "name": "python3"
  },
  "language_info": {
   "codemirror_mode": {
    "name": "ipython",
    "version": 3
   },
   "file_extension": ".py",
   "mimetype": "text/x-python",
   "name": "python",
   "nbconvert_exporter": "python",
   "pygments_lexer": "ipython3",
   "version": "3.7.1"
  }
 },
 "nbformat": 4,
 "nbformat_minor": 2
}
