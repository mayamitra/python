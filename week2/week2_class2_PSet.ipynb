{
 "cells": [
  {
   "cell_type": "markdown",
   "metadata": {
    "nbgrader": {
     "grade": false,
     "locked": true,
     "solution": false
    }
   },
   "source": [
    "# PSET 1, Maya Mitrasinovic\n",
    "# 1/30/18\n",
    "\n",
    "## Introduction to Python\n",
    "#### Variables, conditionals, functions\n",
    "------\n",
    "_Author: W.P.G.Peterson_  \n",
    "\n",
    "### Assignment Contents \n",
    "\n",
    "- [Introduction to Jupyter](#jupyter)\n",
    "- [Python introduction](#python)\n",
    "- [Variables](#vars)\n",
    "- [Assignment Grading Basics](#grading)\n",
    "- [Strings](#strings)\n",
    "- [Functions](#functions)\n",
    "- [If/Else/Elif](#if)  \n",
    "\n",
    "#### EXPECTED TIME: 2.5 HRS\n",
    "\n",
    "### Overview  \n",
    "This assignment is designed to get you up and running with `Python` using `Jupyter Notebooks`. Initially the assignment proceeds in a measured fashion - showing and explaining syntax explicitly, offering lists of commonly used features and functions of both `Python` and `Jupyter`. Most of the material will be a review of the lectures from this week.  \n",
    "Eventually, the pace picks up - less is explained and you are required to either search for answers or already know them. This is by design. Initially the goal is to make you comfortable in **this** particular `Python` environment, but after that, the assignment switches to predominantly testing `Python` knowledge gained in lecture rather than teaching or re-teaching concepts.  \n",
    "\n",
    "The concepts used in this assignment are quite basic, so, after your lectures, hopefully you are fluent enough with the concepts that you can focus on becoming comfortable with this form of assesment and this coding environment.  \n",
    "\n",
    "----  \n",
    "\n",
    "### Activities in this Assignment\n",
    "- Assigning and creating variables  \n",
    "- Use string indexing  \n",
    "- Use string methods  \n",
    "- Build simple functions  \n",
    "- Use if/else/elif control flow  \n"
   ]
  },
  {
   "cell_type": "markdown",
   "metadata": {
    "nbgrader": {
     "grade": false,
     "locked": true,
     "solution": false
    }
   },
   "source": [
    "<a id = \"jupyter\"></a>\n",
    "### Introduction to Jupyter Notebook\n",
    "\n",
    "If you are reading this line, it hopefully means you have successfully opened up a `Jupyter Notebook`. If you are simply viewing this notebook and do not have a `Python 3` Kernel running [and do not see something like this:\n",
    "![Kernel](./assets/Kernel.PNG)\n",
    "on the upper right corner of your screen] seek technical help!\n",
    "\n",
    "`Jupyter Notebook` offers plenty of functionality which can be extended with plug-ins and and other modifications, but this lesson will only review basic functionality.  \n",
    "\n",
    "\n",
    "First: what are we looking at? \n",
    "Below is an empty code cell"
   ]
  },
  {
   "cell_type": "code",
   "execution_count": null,
   "metadata": {
    "collapsed": true,
    "nbgrader": {
     "grade": false,
     "locked": true,
     "solution": false
    }
   },
   "outputs": [],
   "source": []
  },
  {
   "cell_type": "markdown",
   "metadata": {
    "nbgrader": {
     "grade": false,
     "locked": true,
     "solution": false
    }
   },
   "source": [
    "Note the `In [ ]` to its left - thats the clearest indication that a cell is ready to read and execute code.  \n",
    "\n",
    "*These* words, on the other hand, are appearing in a `markdown` cell. Below is an empty `markdown` cell, and below that is an empty `markdown` cell that has been executed."
   ]
  },
  {
   "cell_type": "markdown",
   "metadata": {
    "nbgrader": {
     "grade": false,
     "locked": true,
     "solution": false
    }
   },
   "source": []
  },
  {
   "cell_type": "markdown",
   "metadata": {
    "nbgrader": {
     "grade": false,
     "locked": true,
     "solution": false
    }
   },
   "source": []
  },
  {
   "cell_type": "markdown",
   "metadata": {
    "nbgrader": {
     "grade": false,
     "locked": true,
     "solution": false
    }
   },
   "source": [
    "`Markdown` cells can be used to integrate text, figures, etc. into your code. It is also possible to use `LaTeX` in `markdown` cells to control formatting.  \n",
    "\n",
    "When navigating through the various cells in a `Notebook`, you will use two modes: `Command Mode` and `Edit Mode`.  \n",
    "\n",
    "In `Command Mode`, cells will feature a blue border:\n",
    "![cmd](./assets/Command.PNG)  \n",
    "\n",
    "`Edit Mode` features a green border:\n",
    "![edit](./assets/Edit.PNG)\n",
    "\n",
    "While in `Command Mode`, double-clicking on a cell or hitting `enter` will activate `Edit Mode`. In `Edit Mode`, hitting `esc` returns to command mode.  \n",
    "\n",
    "A full list of keyboard shortcuts available in both `Command` and `Edit` modes can be found under the `<Help>` menu at the top of your screen. Alternatively, the list can be accessed by hitting `<h>` while in `Command Mode`.  \n",
    "\n",
    "A few important `Command Mode` shortcuts:  \n",
    "- `<a>` creates a new cell [a]bove the current cell\n",
    "- `<b>` creates a new cell [b]elow the current cell  \n",
    "- `<x>, <c>, <v>` will cut, copy and paste cells (mutiple cells selected with `<shift-click>`\n",
    "- `<d , d>` will delete the selected cell(s)\n",
    "- `<s>` or `<ctrl-s>` will save the notebook  \n",
    "- `<i , i>` will interrupt the current process [e.g. when a process is taking too long or there is some issue]  \n",
    "\n",
    "In `Edit Mode` the important shortcuts are:\n",
    "- `<ctrl-enter>` runs the current cell.\n",
    "- `<shift-enter>` runs the current cell and highlights the next cell.\n",
    "- `<alt-enter>` runs the current cell and creates a new cell below.\n",
    "\n",
    "For example, using this cell practice switching between `Command` and `Edit` mode; Running the cell, and creating new cells.  \n",
    "\n",
    "---\n",
    "During execution of a cell you will see the `In [ ]` change to:\n",
    "![running](./assets/Running.PNG)  \n",
    "\n",
    "And after completion, the number next to the `In` will increment:\n",
    "![run](./assets/Run.PNG)\n",
    "\n",
    "Indicating a cell has run.\n"
   ]
  },
  {
   "cell_type": "markdown",
   "metadata": {
    "nbgrader": {
     "grade": false,
     "locked": true,
     "solution": false
    }
   },
   "source": [
    "<a id = \"python\"></a>\n",
    "### Onto Python\n",
    "\n",
    "Python can simply be thought of as a big calculator. As a calculator, it features a number of built-in operators:\n",
    "\n",
    "- `+` for addition\n",
    "- `-` for subtraction\n",
    "- `*` for multiplication\n",
    "- `/` for division\n",
    "- `**` for exponents, e.g. `2**4` is $2^4$  \n",
    "- `//` for floor division e.g.  `9/4 = 2.25; 9//4 = 2; 9/2 = 4.5, 9//2 = 4`\n",
    "- `%` as the modulo operator. e.g. `9%3 = 0; 9%2 = 1; 9%4 = 1; 9%5 = 4` e.g. - n1%n2 returns the remainder from n1/n2\n",
    "\n",
    "Run (`<ctrl-enter> or <shift-enter>`) the below  cell for an example:"
   ]
  },
  {
   "cell_type": "code",
   "execution_count": 1,
   "metadata": {
    "collapsed": true,
    "nbgrader": {
     "grade": false,
     "locked": true,
     "solution": false
    }
   },
   "outputs": [
    {
     "data": {
      "text/plain": [
       "(4, -2, 15.600000000000001, 4.5, 4, 16)"
      ]
     },
     "execution_count": 1,
     "metadata": {},
     "output_type": "execute_result"
    }
   ],
   "source": [
    "2+2, 1-3, 5.2*3, 9/2, 9//2, 2**4"
   ]
  },
  {
   "cell_type": "markdown",
   "metadata": {
    "nbgrader": {
     "grade": false,
     "locked": true,
     "solution": false
    }
   },
   "source": [
    "Python can also print out messages to the \"console\" using the `print()` command.  \n",
    "Run the following:"
   ]
  },
  {
   "cell_type": "code",
   "execution_count": 2,
   "metadata": {
    "collapsed": true,
    "nbgrader": {
     "grade": false,
     "locked": true,
     "solution": false
    }
   },
   "outputs": [
    {
     "name": "stdout",
     "output_type": "stream",
     "text": [
      "Hello world\n",
      "Well hello to you too!\n"
     ]
    },
    {
     "data": {
      "text/plain": [
       "\"What's next\""
      ]
     },
     "execution_count": 2,
     "metadata": {},
     "output_type": "execute_result"
    }
   ],
   "source": [
    "print(\"Hello world\")\n",
    "print(\"Well hello to you too!\")\n",
    "\"What's next\""
   ]
  },
  {
   "cell_type": "markdown",
   "metadata": {
    "nbgrader": {
     "grade": false,
     "locked": true,
     "solution": false
    }
   },
   "source": [
    "You should see something like this after running the previous cell:\n",
    "![out](./assets/Output.PNG)  \n",
    "\n",
    "The top two lines (\"Hello world\", and \"Well hello...\") are both wrapped in `print()` statements -- This means Python has been told to print each to the console.  \n",
    "\"What's next\" is **not** in a `print()` statement, yet, it has appeared in our console -- Notice the `Out [19] ` appearing adjacent to \"What's next\". One of the convenience features of `Jupyter Notebook` (**not** Python) is that it will print out the *returned value* of the last line of a code cell.  \n",
    "Please run the below cell:"
   ]
  },
  {
   "cell_type": "code",
   "execution_count": 3,
   "metadata": {
    "collapsed": true,
    "nbgrader": {
     "grade": false,
     "locked": true,
     "solution": false
    }
   },
   "outputs": [
    {
     "name": "stdout",
     "output_type": "stream",
     "text": [
      "Hello world\n",
      "Well hello to you too!\n"
     ]
    }
   ],
   "source": [
    "print(\"Hello world\")\n",
    "\"What's next\"\n",
    "print(\"Well hello to you too!\")"
   ]
  },
  {
   "cell_type": "markdown",
   "metadata": {
    "nbgrader": {
     "grade": false,
     "locked": true,
     "solution": false
    }
   },
   "source": [
    "Notice that \"What's next\" does not print to the console, but the `Out[#]` has also disappeared. It is important to remember this difference between the behavior of *Python* and the behavior of *Jupyter Notebook*"
   ]
  },
  {
   "cell_type": "markdown",
   "metadata": {
    "nbgrader": {
     "grade": false,
     "locked": true,
     "solution": false
    }
   },
   "source": [
    "The four basic types in Python are `Integers`, `Floats`, `Strings` and `Booleans`.  "
   ]
  },
  {
   "cell_type": "code",
   "execution_count": 4,
   "metadata": {
    "collapsed": true,
    "nbgrader": {
     "grade": false,
     "locked": true,
     "solution": false
    }
   },
   "outputs": [
    {
     "name": "stdout",
     "output_type": "stream",
     "text": [
      "7 is a  <class 'int'>\n",
      "7.1 is a  <class 'float'>\n",
      "Joe is a  <class 'str'>\n",
      "True is a  <class 'bool'>\n"
     ]
    }
   ],
   "source": [
    "print(7, \"is a \", type(7))\n",
    "print(7.1, \"is a \", type(7.1))\n",
    "print(\"Joe\", \"is a \", type(\"Joe\"))\n",
    "print(True, \"is a \", type(True))"
   ]
  },
  {
   "cell_type": "markdown",
   "metadata": {
    "nbgrader": {
     "grade": false,
     "locked": true,
     "solution": false
    }
   },
   "source": [
    "Notice the two \"primitve\" types of numbers: `int`egers and `float`ing point."
   ]
  },
  {
   "cell_type": "markdown",
   "metadata": {
    "nbgrader": {
     "grade": false,
     "locked": true,
     "solution": false
    }
   },
   "source": [
    "<a id = \"vars\"></a>\n",
    "### Variable assignment  \n",
    "\n",
    "Variables may be assigned (almost) any name by the user. There are a few [reserved words](https://www.google.com/search?client=opera&ei=a4q1W7juKua0jwS30ZO4BA&q=python+keywords+3.6+list&oq=python+keywords+3.6+list&gs_l=psy-ab.3..33i22i29i30l10.6879.7300..7427...0.0..0.180.641.1j4......0....1..gws-wiz.......0i22i30.FR38nCgXD0g) and [names of builtin functions](https://docs.python.org/3.6/library/functions.html) that cannot be used for variable names. In general, Python style guides suggest using `lower_case_words_connected_by_undersore_for_variable_names`.  \n",
    "\n",
    "Assignment in Python occurs using the `=` operator. As seen in the next cell"
   ]
  },
  {
   "cell_type": "code",
   "execution_count": 5,
   "metadata": {
    "collapsed": true,
    "nbgrader": {
     "grade": false,
     "locked": true,
     "solution": false
    }
   },
   "outputs": [
    {
     "name": "stdout",
     "output_type": "stream",
     "text": [
      "my_num =  1\n",
      "another_num =  1\n",
      "\n",
      "Changing my_num\n",
      "\n",
      "my_num =  2\n",
      "another_num =  1\n"
     ]
    }
   ],
   "source": [
    "my_num = 1\n",
    "another_num = my_num\n",
    "\n",
    "print(\"my_num = \", my_num)\n",
    "print(\"another_num = \", another_num)\n",
    "\n",
    "print(\"\\nChanging my_num\\n\")\n",
    "\n",
    "my_num = 2\n",
    "\n",
    "print(\"my_num = \", my_num)\n",
    "print(\"another_num = \", another_num)"
   ]
  },
  {
   "cell_type": "markdown",
   "metadata": {
    "nbgrader": {
     "grade": false,
     "locked": true,
     "solution": false
    }
   },
   "source": [
    "Notice here how changing the value of `my_num` did not change the value of `another_num`.  \n",
    "\n",
    "There are some cases (covered next week) where the changing of one variable *can* change the value of another variable. But, as a general rule, if a variable's value is changed using the `=` operator, everything should be safe. On the other hand if a variable's value is changed via a method (covered below) then it is possible that the values of multiple variables might change.  \n",
    "\n",
    "\n",
    "Below we create one variable for each type of \"primitive\". Watch as the `floats` and `ints` are re-cast."
   ]
  },
  {
   "cell_type": "code",
   "execution_count": 6,
   "metadata": {
    "collapsed": true,
    "nbgrader": {
     "grade": false,
     "locked": true,
     "solution": false
    }
   },
   "outputs": [
    {
     "name": "stdout",
     "output_type": "stream",
     "text": [
      "my_float =  7.0 <class 'float'>\n",
      "my_float2 =  7.2 <class 'float'>\n",
      "my_int =  7 <class 'int'>\n",
      "my_float == my_float2?:  False\n",
      "my_int == my_float?:  True\n",
      "my_int == my_float2?:  False\n",
      "\n",
      "Recasting Numbers\n",
      "\n",
      "my_float =  7 <class 'int'>\n",
      "my_float2 =  7 <class 'int'>\n",
      "my_int =  7.0 <class 'float'>\n",
      "my_float == my_float2?:  True\n",
      "my_int == my_float?:  True\n",
      "my_int == my_float2?:  True\n"
     ]
    }
   ],
   "source": [
    "my_int = 7\n",
    "my_float = 7.0\n",
    "my_float2 = 7.2\n",
    "my_string = \"Joe\"\n",
    "my_bool = True\n",
    "\n",
    "print(\"my_float = \", my_float, type(my_float))\n",
    "print(\"my_float2 = \", my_float2, type(my_float2))\n",
    "print(\"my_int = \", my_int, type(my_int))\n",
    "print(\"my_float == my_float2?: \", my_float == my_float2)\n",
    "print(\"my_int == my_float?: \", my_int == my_float)\n",
    "print(\"my_int == my_float2?: \", my_int == my_float2)\n",
    "\n",
    "print('\\nRecasting Numbers\\n')\n",
    "my_float = int(my_float)\n",
    "my_float2 = int(my_float2)\n",
    "my_int = float(my_int)\n",
    "\n",
    "print(\"my_float = \", my_float, type(my_float))\n",
    "print(\"my_float2 = \", my_float2, type(my_float2))\n",
    "print(\"my_int = \", my_int, type(my_int))\n",
    "print(\"my_float == my_float2?: \", my_float == my_float2)\n",
    "print(\"my_int == my_float?: \", my_int == my_float)\n",
    "print(\"my_int == my_float2?: \", my_int == my_float2)"
   ]
  },
  {
   "cell_type": "markdown",
   "metadata": {
    "nbgrader": {
     "grade": false,
     "locked": true,
     "solution": false
    }
   },
   "source": [
    "`types` in Python (which as seen above can be found using the `type()` built-in function) are determined *dynamically*; this is to say that a single variable may have its type changed by the user.  \n",
    "\n",
    "The `my_float` and `my_float2` variables were *recast* to integers by wrapping the variable name in a call to the `int()` function.  \n",
    "\n",
    "Note how the comparison between the `floats` and `int` changed -- the recasting of `7.2` as an `int` changed it's value to a `7`, recasting the `7.0` as an `int` was also changed to `7`. It is important to remember that naive recasting *might* change an underlying value."
   ]
  },
  {
   "cell_type": "markdown",
   "metadata": {
    "nbgrader": {
     "grade": false,
     "locked": true,
     "solution": false
    }
   },
   "source": [
    "<a id = \"grading\"></a>\n",
    "### Assignment Grading Example:\n",
    "\n",
    "Having covered \"Python as a calculator\" and variable assignment, we are ready for our first graded code cell.  \n",
    "\n",
    "These assignmets will be graded automatically. Thus it is very important to follow submission instructions very carefully.\n",
    "\n",
    "The below cell will be graded. The full question and answer code is already provided so *if you want credit for this question, do not change anything*\n",
    "\n",
    "#### Question 1:"
   ]
  },
  {
   "cell_type": "code",
   "execution_count": 2,
   "metadata": {},
   "outputs": [
    {
     "name": "stdout",
     "output_type": "stream",
     "text": [
      "15\n",
      "5.916079783099616\n"
     ]
    }
   ],
   "source": [
    "### GRADED\n",
    "### Example question\n",
    "### Assign the value of 15 to var1; Use an exponential function to assign var2 the value of to the square root of 35.\n",
    "\n",
    "### NB: Unlike the above code cells, you will be able to edit this cell\n",
    "### YOUR ANSWER BELOW\n",
    "\n",
    "var1 = 15\n",
    "var2 = 35**(1/2)\n",
    " \n",
    "\n",
    "### Testing answers below:\n",
    "print(var1)\n",
    "print(var2)"
   ]
  },
  {
   "cell_type": "markdown",
   "metadata": {
    "nbgrader": {
     "grade": false,
     "locked": true,
     "solution": false
    }
   },
   "source": [
    "###  A Couple of Easy Math Questions:\n",
    "#### Question 2:"
   ]
  },
  {
   "cell_type": "code",
   "execution_count": 6,
   "metadata": {},
   "outputs": [
    {
     "name": "stdout",
     "output_type": "stream",
     "text": [
      "0.41713308457711445\n"
     ]
    }
   ],
   "source": [
    "### GRADED\n",
    "### Assign the value of 2683 divided by 6432 to ans1.\n",
    "### YOUR ANSWER BELOW\n",
    "\n",
    "ans1 = 2683/6432\n",
    "print(ans1)"
   ]
  },
  {
   "cell_type": "markdown",
   "metadata": {
    "nbgrader": {
     "grade": false,
     "locked": true,
     "solution": false
    }
   },
   "source": [
    "#### Question 3:"
   ]
  },
  {
   "cell_type": "code",
   "execution_count": 5,
   "metadata": {},
   "outputs": [
    {
     "name": "stdout",
     "output_type": "stream",
     "text": [
      "90.10188799999999\n"
     ]
    }
   ],
   "source": [
    "### GRADED\n",
    "### Find the value of 1.678 squared times 32. Assign to ans1.\n",
    "### YOUR ANSWER BELOW\n",
    "\n",
    "ans1 = 1.678**2*32\n",
    "print(ans1)"
   ]
  },
  {
   "cell_type": "markdown",
   "metadata": {
    "nbgrader": {
     "grade": false,
     "locked": true,
     "solution": false
    }
   },
   "source": [
    "#### Useful operators:\n",
    "\n",
    "Before departing from math, a note on some useful operators:\n",
    "\n",
    "- `x+=1 ` is the same as `x=x+1`\n",
    "- `x*=2` is the same as `x=x*2`\n",
    "- Same with `-` and `/`"
   ]
  },
  {
   "cell_type": "markdown",
   "metadata": {
    "nbgrader": {
     "grade": false,
     "locked": true,
     "solution": false
    }
   },
   "source": [
    "<a id = \"strings\"></a>\n",
    "### Strings:\n",
    "\n",
    "The \"String\" primitive type in Python are denoted using either single `<'>` quotation or double `<\">` quotations marks."
   ]
  },
  {
   "cell_type": "code",
   "execution_count": 14,
   "metadata": {
    "collapsed": true,
    "nbgrader": {
     "grade": false,
     "locked": true,
     "solution": false
    }
   },
   "outputs": [
    {
     "name": "stdout",
     "output_type": "stream",
     "text": [
      "<class 'str'> <class 'str'> <class 'str'>\n"
     ]
    }
   ],
   "source": [
    "string1 = \"I'm a string\"\n",
    "string2 = 'Me too'\n",
    "string3 = str(3)\n",
    "\n",
    "print(type(string1), type(string2), type(string3))"
   ]
  },
  {
   "cell_type": "markdown",
   "metadata": {
    "nbgrader": {
     "grade": false,
     "locked": true,
     "solution": false
    }
   },
   "source": [
    "Strings feature both `indexing` support as well as a number of useful `methods`.  \n",
    "\n",
    "#### Indexing\n",
    "Indexing allows a user to return a subset of the characters from a string, specified within - `[]` - square brackets.  \n",
    "\n",
    "The simplest subset is a single letter"
   ]
  },
  {
   "cell_type": "code",
   "execution_count": 15,
   "metadata": {
    "collapsed": true,
    "nbgrader": {
     "grade": false,
     "locked": true,
     "solution": false
    }
   },
   "outputs": [
    {
     "name": "stdout",
     "output_type": "stream",
     "text": [
      "H\n",
      "e\n"
     ]
    }
   ],
   "source": [
    "print(\"Hi\"[0])\n",
    "print(\"Joe\"[2])"
   ]
  },
  {
   "cell_type": "markdown",
   "metadata": {
    "nbgrader": {
     "grade": false,
     "locked": true,
     "solution": false
    }
   },
   "source": [
    "Note how `\"Hi\"[0]` returned the first letter of \"Hi\" and `\"Joe\"[2]\"` returned the third letter of \"Joe\".  \n",
    "Python uses 0-based indexing, which means that the first letter is at `index 0`, the second letter is at `index 1`, and the final letter is at `index n-1` where `n` is the total number of letters.  "
   ]
  },
  {
   "cell_type": "code",
   "execution_count": 7,
   "metadata": {
    "nbgrader": {
     "grade": false,
     "locked": true,
     "solution": false
    }
   },
   "outputs": [
    {
     "name": "stdout",
     "output_type": "stream",
     "text": [
      "Pyt\n",
      "Pyt\n",
      "Pyt\n",
      "Pto\n"
     ]
    }
   ],
   "source": [
    "my_string = \"Python\"\n",
    "print(\"Python\"[0:3])\n",
    "print(my_string[0:3])\n",
    "print(my_string[:3])\n",
    "print(my_string[::2])"
   ]
  },
  {
   "cell_type": "markdown",
   "metadata": {
    "nbgrader": {
     "grade": false,
     "locked": true,
     "solution": false
    }
   },
   "source": [
    "Here, a range of letters are desired, and `<:>` appears in the brackets. As seen above, the syntax `<string>[0:3]` returned the 1st, 2nd and 3rd letters from that `<string>`.  \n",
    "`<string>[::2]` on the other hand returned every other letter from `<string>` from the start to finish.  \n",
    "\n",
    "The indexing notation has three positions `[start : stop : step]`.  \n",
    "\n",
    "As partially modeled in `my_string[::2]`, the `start`, `stop`, and `step` functionally have default values of `[0:n:1]` where n is the length. Thus, when Python sees one of those positions empty, it substitutes the \"defaults\".  \n",
    "\n",
    "Finally, it is worth noting that, as seen in `<string>[0:3]`, the character at the `start` index is returned, but **the character at the `stop` index is not returned.**  \n",
    "### String Indexing Problems:"
   ]
  },
  {
   "cell_type": "code",
   "execution_count": 9,
   "metadata": {
    "nbgrader": {
     "grade": false,
     "locked": true,
     "solution": false
    }
   },
   "outputs": [],
   "source": [
    "### THIS STRING IS USED FOR ASSIGNED PROBLEMS\n",
    "test_string = \"The quick Brown Fox Jumped over the LAZY Dog JUST THAT one too manytimes.andthedogJUST SNAPPed\""
   ]
  },
  {
   "cell_type": "markdown",
   "metadata": {
    "nbgrader": {
     "grade": false,
     "locked": true,
     "solution": false
    }
   },
   "source": [
    "#### Question 4:\n",
    "Example Problem / solution:"
   ]
  },
  {
   "cell_type": "code",
   "execution_count": 61,
   "metadata": {},
   "outputs": [
    {
     "name": "stdout",
     "output_type": "stream",
     "text": [
      "B\n"
     ]
    }
   ],
   "source": [
    "### GRADED\n",
    "### Example:\n",
    "### Return the 10th character of test_string. Assign to ans1.\n",
    "### YOUR ANSWER BELOW\n",
    "\n",
    "ans1 = test_string[10]\n",
    "print(ans1)\n",
    "\n"
   ]
  },
  {
   "cell_type": "markdown",
   "metadata": {
    "nbgrader": {
     "grade": false,
     "locked": true,
     "solution": false
    }
   },
   "source": [
    "#### Question 5:"
   ]
  },
  {
   "cell_type": "code",
   "execution_count": 62,
   "metadata": {},
   "outputs": [
    {
     "name": "stdout",
     "output_type": "stream",
     "text": [
      "The quick Brown Fox Jum\n"
     ]
    }
   ],
   "source": [
    "### GRADED\n",
    "### Return the first through 23rd characters of test_string. Assign to ans1\n",
    "### YOUR ANSWER BELOW\n",
    "\n",
    "ans1 = test_string[:23]\n",
    "print(ans1)"
   ]
  },
  {
   "cell_type": "markdown",
   "metadata": {
    "nbgrader": {
     "grade": false,
     "locked": true,
     "solution": false
    }
   },
   "source": [
    "#### Question 6:"
   ]
  },
  {
   "cell_type": "code",
   "execution_count": 18,
   "metadata": {},
   "outputs": [
    {
     "name": "stdout",
     "output_type": "stream",
     "text": [
      "TuB Jdr  JToonedoTP\n"
     ]
    }
   ],
   "source": [
    "### GRADED\n",
    "### return every fifth character from test_string, starting at the beginning, ending at the end. Assign to ans1\n",
    "### YOUR ANSWER BELOW\n",
    "\n",
    "ans1 = test_string[::5]\n",
    "print(ans1)"
   ]
  },
  {
   "cell_type": "markdown",
   "metadata": {
    "nbgrader": {
     "grade": false,
     "locked": true,
     "solution": false
    }
   },
   "source": [
    "#### String Methods\n",
    "\n",
    "Strings [have many useful methods](https://www.google.com/search?client=opera&hs=Z1I&ei=jpm1W_xHq8GPBM6bragJ&q=string+methods+python&oq=string+methods+python&gs_l=psy-ab.3..0i131j0l9.2278.3001..3283...0.0..0.136.759.0j7......0....1..gws-wiz.......0i71j0i131i67j0i67.ZaZjems-ONA) associated with them. While documentation is available online, `Jupyter Notebook` also has a useful feature for finding these methods.  \n",
    "\n",
    "In the picture below I have created a string and assigned it to the variable \"my_string\". After that variable name, I put a period and I hit `<tab>`. A list of available `attributes` and `methods` will then pop up.  \n",
    "![tab](./assets/Tab.png)  \n",
    "\n",
    "Two important notes: 1. The variable must already be assigned to an object. (e.g. the cell with the assignment must have been run). 2. there must be a period after the variable name.  \n",
    "\n",
    "Another useful `Jupyter` tool displays documentation. After having selected a method and having placed the required parentheses; while the cursor is inside the parentheses, hitting `<shift-tab>` will bring up the documentation.  \n",
    "![ShiftTab](./assets/ShiftTab.png)  \n",
    "\n",
    "Below demos the method `.strip()` which removes the trailing and leading white-space from a string"
   ]
  },
  {
   "cell_type": "code",
   "execution_count": 32,
   "metadata": {
    "nbgrader": {
     "grade": false,
     "locked": true,
     "solution": false
    }
   },
   "outputs": [
    {
     "name": "stdout",
     "output_type": "stream",
     "text": [
      "      John Doe      \n",
      "John Doe\n"
     ]
    }
   ],
   "source": [
    "my_string = \"      John Doe      \"\n",
    "print( my_string)\n",
    "print(my_string.strip())"
   ]
  },
  {
   "cell_type": "markdown",
   "metadata": {
    "nbgrader": {
     "grade": false,
     "locked": true,
     "solution": false
    }
   },
   "source": [
    "The following questions require the use of `test_string` (found above) and string methods which have not been explicitly covered here. It is up to you to find the appropriate methods and apply them.  \n",
    "\n",
    "#### Question 7:"
   ]
  },
  {
   "cell_type": "code",
   "execution_count": 20,
   "metadata": {},
   "outputs": [
    {
     "name": "stdout",
     "output_type": "stream",
     "text": [
      "THE QUICK BROWN FOX JUMPED OVER THE LAZY DOG JUST THAT ONE TOO MANYTIMES.ANDTHEDOGJUST SNAPPED\n"
     ]
    }
   ],
   "source": [
    "### GRADED\n",
    "### Return test_string with every character in upper-case. Assign to ans1\n",
    "### YOUR ANSWER BELOW\n",
    "\n",
    "ans1 = test_string.upper()\n",
    "print(ans1)"
   ]
  },
  {
   "cell_type": "markdown",
   "metadata": {
    "nbgrader": {
     "grade": false,
     "locked": true,
     "solution": false
    }
   },
   "source": [
    "#### Question 8:"
   ]
  },
  {
   "cell_type": "code",
   "execution_count": 100,
   "metadata": {},
   "outputs": [
    {
     "name": "stdout",
     "output_type": "stream",
     "text": [
      "d\n"
     ]
    }
   ],
   "source": [
    "### GRADED\n",
    "### Return the character that is 15th from the end of test_string.\n",
    "### ### e.g. 1st from the end is \"d\", 2nd from end is \"e\". etc.\n",
    "### Assign to ans1\n",
    "### YOUR ANSWER BELOW\n",
    "\n",
    "ans1 = test_string[-15]\n",
    "print(ans1)"
   ]
  },
  {
   "cell_type": "markdown",
   "metadata": {
    "nbgrader": {
     "grade": false,
     "locked": true,
     "solution": false
    }
   },
   "source": [
    "#### Question 9:"
   ]
  },
  {
   "cell_type": "code",
   "execution_count": 105,
   "metadata": {},
   "outputs": [
    {
     "name": "stdout",
     "output_type": "stream",
     "text": [
      "*he quick Brown Fox Jumped over *he LAZY Dog JUS* *HA* one *oo many*imes.and*hedogJUS* SNAPPed\n"
     ]
    }
   ],
   "source": [
    "### GRADED\n",
    "### Replace every \"t\" - upper and lower case - in test string with a \"*\". Assign to ans1.\n",
    "### YOUR ANSWER BELOW\n",
    "\n",
    "ans0 = test_string.replace(\"t\", \"*\")\n",
    "ans1 = ans0.replace(\"T\", \"*\")\n",
    "\n",
    "##otherwise: test_string.lower().replace(\"t\", \"*\")\n",
    "print(ans1)"
   ]
  },
  {
   "cell_type": "markdown",
   "metadata": {
    "nbgrader": {
     "grade": false,
     "locked": true,
     "solution": false
    }
   },
   "source": [
    "#### Question 10:"
   ]
  },
  {
   "cell_type": "code",
   "execution_count": 56,
   "metadata": {},
   "outputs": [
    {
     "name": "stdout",
     "output_type": "stream",
     "text": [
      "6\n"
     ]
    }
   ],
   "source": [
    "### GRADED\n",
    "### Count the number of times the lower-case letter \"s\", and upper-case letter \"T\" appears in test_string.\n",
    "### Assign to ans1.\n",
    "### YOUR ANSWER BELOW\n",
    "ans1 = test_string.count(\"s\") + test_string.count(\"T\")\n",
    "print(ans1)"
   ]
  },
  {
   "cell_type": "markdown",
   "metadata": {
    "nbgrader": {
     "grade": false,
     "locked": true,
     "solution": false
    }
   },
   "source": [
    "<a id = \"functions\"></a>\n",
    "### Functions: \n",
    "The rest of the questions in this section rely on functions to test Python skills. Below is a graded example of a function. Again, do not change if you want credit for this question.\n",
    "\n",
    "#### Question 11"
   ]
  },
  {
   "cell_type": "code",
   "execution_count": 4,
   "metadata": {
    "nbgrader": {
     "grade": false,
     "grade_id": "func1",
     "locked": false,
     "points": "5",
     "solution": false
    }
   },
   "outputs": [
    {
     "name": "stdout",
     "output_type": "stream",
     "text": [
      "4\n",
      "-2\n",
      "0\n",
      "hihi\n"
     ]
    }
   ],
   "source": [
    "### GRADED\n",
    "### Example\n",
    "### Build a function called \"mult_by_two\"\n",
    "### ACCEPT one input either numeric or a string\n",
    "### RETURN that input multiplied by 2\n",
    "\n",
    "### YOUR ANSWER BELOW\n",
    "\n",
    "def mult_by_two( input ):\n",
    "    ans = input*2\n",
    "    return ans\n",
    "\n",
    "### test the function to check functionality\n",
    "print(mult_by_two(2))\n",
    "print(mult_by_two(-1))\n",
    "print(mult_by_two(0))\n",
    "print(mult_by_two(\"hi\"))"
   ]
  },
  {
   "cell_type": "markdown",
   "metadata": {
    "nbgrader": {
     "grade": false,
     "locked": true,
     "solution": false
    }
   },
   "source": [
    "Note the syntax for functions:  \n",
    "- `def`, followed by the name of the function.\n",
    "- followed by a set of parentheses with the inputs to the function (separated by commas; but parentheses can also be empty)\n",
    "- followed by a colon.\n",
    "- From then on, all the code of the function is indented four spaces (done automatically by `Jupyter`)  \n",
    "\n",
    "Below are a few more function examples."
   ]
  },
  {
   "cell_type": "code",
   "execution_count": 71,
   "metadata": {
    "nbgrader": {
     "grade": false,
     "locked": true,
     "solution": false
    }
   },
   "outputs": [],
   "source": [
    "def square_it( integer1 ):\n",
    "    val_to_return = integer1 ** 2\n",
    "    return val_to_return\n",
    "\n",
    "def how_many_es( string_input):\n",
    "    counter = 0\n",
    "    counter = string_input.count(\"e\")\n",
    "    return counter\n",
    "\n",
    "def multiply(num1, num2):\n",
    "    return num1 * num2\n",
    "\n",
    "def do_nothing( cat, dog):\n",
    "    pass"
   ]
  },
  {
   "cell_type": "markdown",
   "metadata": {
    "nbgrader": {
     "grade": false,
     "locked": true,
     "solution": false
    }
   },
   "source": [
    "Note, the above \"pass\" is simply a place-holder that tells `Python` to do nothing if the \"pass\" were not present. You will see \"pass\" in the empty functions for subsequent questions.  \n",
    "\n",
    "**NB:** As soon as a `return` statement is reached, that value is returned, and the function exits.  \n",
    "\n",
    "#### Question 12:"
   ]
  },
  {
   "cell_type": "code",
   "execution_count": 5,
   "metadata": {},
   "outputs": [
    {
     "name": "stdout",
     "output_type": "stream",
     "text": [
      "Maya rocks\n"
     ]
    }
   ],
   "source": [
    "### GRADED\n",
    "### Build a function called 'cap_first'\n",
    "### ACCEPT a non-empty string input.\n",
    "### RETURN that same string, with first letter capitalized,\n",
    "### ### and all subsequent letters in lower-case.\n",
    "\n",
    "\n",
    "### YOUR ANSWER BELOW\n",
    "\n",
    "def cap_first( input_string ):\n",
    "    ##if input_string != \"\":\n",
    "       ## input_string = input_string.strip()\n",
    "       ## input_string = input_string.capitalize()\n",
    "        ##return input_string\n",
    "    ##else: pass\n",
    "    ans = input_string.capitalize()\n",
    "    return ans\n",
    "    \n",
    "    \n",
    "print(cap_first(\"maya Rocks\"))"
   ]
  },
  {
   "cell_type": "markdown",
   "metadata": {
    "nbgrader": {
     "grade": false,
     "locked": true,
     "solution": false
    }
   },
   "source": [
    "#### Question 13:"
   ]
  },
  {
   "cell_type": "code",
   "execution_count": 6,
   "metadata": {},
   "outputs": [
    {
     "name": "stdout",
     "output_type": "stream",
     "text": [
      "6\n"
     ]
    }
   ],
   "source": [
    "### GRADED\n",
    "### Code a function called \"add_three\"\n",
    "### ACCEPT  three inputs, all numbers (floats or ints)\n",
    "### RETURN the sum of the three numbers added together.\n",
    "\n",
    "### YOUR ANSWER BELOW\n",
    "\n",
    "def add_three(num1, num2, num3 ):\n",
    "    ans = num1 + num2 + num3\n",
    "    return ans\n",
    "\n",
    "print(add_three(1,2,3))"
   ]
  },
  {
   "cell_type": "markdown",
   "metadata": {
    "nbgrader": {
     "grade": false,
     "locked": true,
     "solution": false
    }
   },
   "source": [
    "#### Question 14:"
   ]
  },
  {
   "cell_type": "code",
   "execution_count": 7,
   "metadata": {},
   "outputs": [
    {
     "name": "stdout",
     "output_type": "stream",
     "text": [
      "MySyH\n"
     ]
    }
   ],
   "source": [
    "### GRADED\n",
    "### Code a function called 'every_other'\n",
    "### ACCEPT a non-empty string as input\n",
    "### RETURN a string that contains every other character of that input string.\n",
    "\n",
    "### YOUR ANSWER BELOW\n",
    "\n",
    "def every_other( input_string ):\n",
    "    ans = input_string[::2]\n",
    "    ## if u did [2::2] it would start at the 2nd character\n",
    "    return ans\n",
    "\n",
    "print(every_other(\"MayaSaysHi\"))"
   ]
  },
  {
   "cell_type": "markdown",
   "metadata": {
    "nbgrader": {
     "grade": false,
     "locked": true,
     "solution": false
    }
   },
   "source": [
    "<a id = \"if\"></a>\n",
    "### If / Else / Elif\n",
    "\n",
    "The first elements of [control flow](https://docs.python.org/3/tutorial/controlflow.html) to cover are if/else/elif statements.  \n",
    "\n",
    "`if` statments are coupled with a boolean statement. **If** the boolean statement is `True` the code block below the if will execute."
   ]
  },
  {
   "cell_type": "code",
   "execution_count": 6,
   "metadata": {
    "collapsed": true,
    "nbgrader": {
     "grade": false,
     "locked": true,
     "solution": false
    }
   },
   "outputs": [
    {
     "name": "stdout",
     "output_type": "stream",
     "text": [
      "This will print\n"
     ]
    }
   ],
   "source": [
    "if True:\n",
    "    print(\"This will print\")\n",
    "if False:\n",
    "    print(\"This won't\")"
   ]
  },
  {
   "cell_type": "markdown",
   "metadata": {
    "nbgrader": {
     "grade": false,
     "locked": true,
     "solution": false
    }
   },
   "source": [
    "`else` statments follow `if` statements. They *can* but *do not have to* be present. The `else` will evaluate only when the boolean associated with the `if` evaluates to `False`"
   ]
  },
  {
   "cell_type": "code",
   "execution_count": 7,
   "metadata": {
    "collapsed": true,
    "nbgrader": {
     "grade": false,
     "locked": true,
     "solution": false
    }
   },
   "outputs": [
    {
     "name": "stdout",
     "output_type": "stream",
     "text": [
      "This will print\n",
      "But I will\n"
     ]
    }
   ],
   "source": [
    "if True:\n",
    "    print(\"This will print\")\n",
    "### Note: No else statement\n",
    "\n",
    "if False:\n",
    "    print(\"This won't\")\n",
    "else:\n",
    "    print(\"But I will\")"
   ]
  },
  {
   "cell_type": "markdown",
   "metadata": {
    "nbgrader": {
     "grade": false,
     "locked": true,
     "solution": false
    }
   },
   "source": [
    "`elif` statements are used to evaluate a sequence of `if` statments.  \n",
    "\n",
    "Feel free to play around in the next cell"
   ]
  },
  {
   "cell_type": "code",
   "execution_count": 52,
   "metadata": {
    "collapsed": true,
    "nbgrader": {
     "grade": false,
     "locked": false,
     "solution": false
    }
   },
   "outputs": [
    {
     "name": "stdout",
     "output_type": "stream",
     "text": [
      "it's four\n"
     ]
    }
   ],
   "source": [
    "my_num = 4\n",
    "if my_num == 1:\n",
    "    print(\"it's one\")\n",
    "elif my_num == 2:\n",
    "    print(\"it's two\")\n",
    "elif my_num == 3:\n",
    "    print(\"it's three\")\n",
    "elif my_num == 4:\n",
    "    print(\"it's four\")\n",
    "else:\n",
    "    print(\"it's greater than four\")"
   ]
  },
  {
   "cell_type": "markdown",
   "metadata": {
    "nbgrader": {
     "grade": false,
     "locked": true,
     "solution": false
    }
   },
   "source": [
    "The Python comparators are:\n",
    "\n",
    "- `==`  is equal to\n",
    "- `>` is greater than\n",
    "- `>=` is greater than or equal to\n",
    "- `<` is less than\n",
    "- `<=` is less than or equal to\n",
    "- `!=` is not equal to  \n",
    "\n",
    "Also, frequently, `in` might be used to create a boolean for testing to if an element is part of a collection. Collections covered next week."
   ]
  },
  {
   "cell_type": "code",
   "execution_count": 53,
   "metadata": {
    "collapsed": true,
    "nbgrader": {
     "grade": false,
     "locked": true,
     "solution": false
    }
   },
   "outputs": [
    {
     "name": "stdout",
     "output_type": "stream",
     "text": [
      "True\n",
      "True\n",
      "False\n"
     ]
    }
   ],
   "source": [
    "print(\"a\" in \"aeiou\")\n",
    "print(1 in [1,2,3,4,5])\n",
    "print(6 in [1,2,3,4,5])"
   ]
  },
  {
   "cell_type": "markdown",
   "metadata": {
    "nbgrader": {
     "grade": false,
     "locked": true,
     "solution": false
    }
   },
   "source": [
    "Finally, boolean operations of **`<and>`**, **`<or>`**, and **`<not>`** are achieved with `and`, `or`, and `not`."
   ]
  },
  {
   "cell_type": "code",
   "execution_count": 54,
   "metadata": {
    "collapsed": true,
    "nbgrader": {
     "grade": false,
     "locked": true,
     "solution": false
    }
   },
   "outputs": [
    {
     "name": "stdout",
     "output_type": "stream",
     "text": [
      "False\n",
      "True\n",
      "False\n",
      "False\n"
     ]
    }
   ],
   "source": [
    "print(1==2 and False)\n",
    "print(3<4 or 4>5)\n",
    "print(not True)\n",
    "print(not True or False)"
   ]
  },
  {
   "cell_type": "markdown",
   "metadata": {
    "nbgrader": {
     "grade": false,
     "locked": true,
     "solution": false
    }
   },
   "source": [
    "### If/Else Questions\n",
    "#### Question 15:"
   ]
  },
  {
   "cell_type": "code",
   "execution_count": 12,
   "metadata": {},
   "outputs": [
    {
     "name": "stdout",
     "output_type": "stream",
     "text": [
      "Pos\n"
     ]
    }
   ],
   "source": [
    "### GRADED\n",
    "### Code a function called 'pos_neg'\n",
    "### ACCEPT a number (float or int) as input\n",
    "### RETURN the string \"neg\" if the integer is less than zero;\n",
    "### ### string \"zero\" if the integer is zero;\n",
    "### ### or string \"pos\" if the integer is greater than zero.\n",
    "\n",
    "\n",
    "### YOUR CODE BELOW\n",
    "\n",
    "def pos_neg( num1 ):\n",
    "    if num1 < 0:\n",
    "        ans = \"Neg\"\n",
    "    elif num1 == 0:\n",
    "        ans = \"Zero\"\n",
    "    else:\n",
    "        ans = \"Pos\"\n",
    "    return ans\n",
    "        \n",
    "print(pos_neg(5))"
   ]
  },
  {
   "cell_type": "markdown",
   "metadata": {
    "nbgrader": {
     "grade": false,
     "locked": true,
     "solution": false
    }
   },
   "source": [
    "#### Question 16:"
   ]
  },
  {
   "cell_type": "code",
   "execution_count": 17,
   "metadata": {},
   "outputs": [
    {
     "name": "stdout",
     "output_type": "stream",
     "text": [
      "Maya was born in 2000\n"
     ]
    }
   ],
   "source": [
    "### GRADED\n",
    "### Code a function called \"intro\"\n",
    "### ACCEPT two inputs: a string and a number\n",
    "### RETURN the string \"<string input> was born in ####\" where #### is the 2018 minus the integer.\n",
    "### HOWEVER, if the string is empty (\"\") OR the number is negative, RETURN the string \"invalid input\"\n",
    "\n",
    "### NB: Be aware of spaces\n",
    "### YOUR CODE BELOW\n",
    "\n",
    "def intro( name, age):\n",
    "    if len(name) <=0 or age<0:\n",
    "        return(\"Invalid input\")\n",
    "    else: \n",
    "        ans = (name + \" was born in \" + str(2018-age))\n",
    "        return ans\n",
    "    \n",
    "print(intro(\"Maya\", 18))"
   ]
  },
  {
   "cell_type": "code",
   "execution_count": null,
   "metadata": {},
   "outputs": [],
   "source": []
  }
 ],
 "metadata": {
  "kernelspec": {
   "display_name": "Python 3",
   "language": "python",
   "name": "python3"
  },
  "language_info": {
   "codemirror_mode": {
    "name": "ipython",
    "version": 3
   },
   "file_extension": ".py",
   "mimetype": "text/x-python",
   "name": "python",
   "nbconvert_exporter": "python",
   "pygments_lexer": "ipython3",
   "version": "3.7.1"
  }
 },
 "nbformat": 4,
 "nbformat_minor": 2
}
