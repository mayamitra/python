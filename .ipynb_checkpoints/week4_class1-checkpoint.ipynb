{
 "cells": [
  {
   "cell_type": "markdown",
   "metadata": {},
   "source": [
    "# Pandas\n",
    "https://pandas.pydata.org/pandas-docs/stable/getting_started/10min.html"
   ]
  },
  {
   "cell_type": "markdown",
   "metadata": {},
   "source": [
    "Pandas is a library that somebody else made. We have it as a result of downloading Anaconda, but it's not regular Python. We have to make the environment we're working in know that we're using pandas. \n",
    "\n",
    "First thing you do:\n",
    "\n",
    "` In [1]: import numpy as np`\n",
    "\n",
    "`In [2]: import pandas as pd `"
   ]
  },
  {
   "cell_type": "markdown",
   "metadata": {},
   "source": [
    "#### Rows x Columns\n",
    "- Rows are observations\n",
    "- Columbs are variables/features\n",
    "- ex: df[1:3, 20:25]\n",
    "    - Rows: 1:3, Columns: 20:25\n",
    "\n"
   ]
  },
  {
   "cell_type": "code",
   "execution_count": 3,
   "metadata": {},
   "outputs": [],
   "source": [
    "import numpy as np\n",
    "import pandas as pd"
   ]
  },
  {
   "cell_type": "code",
   "execution_count": 9,
   "metadata": {},
   "outputs": [
    {
     "data": {
      "text/plain": [
       "0    1.0\n",
       "1    3.0\n",
       "2    5.0\n",
       "3    NaN\n",
       "4    6.0\n",
       "5    8.0\n",
       "dtype: float64"
      ]
     },
     "execution_count": 9,
     "metadata": {},
     "output_type": "execute_result"
    }
   ],
   "source": [
    "# .Series displays indexes --> indexes are the rows. It automatically numbers your rows\n",
    "\n",
    "s = pd.Series([1, 3, 5, np.nan, 6, 8])\n",
    "s"
   ]
  },
  {
   "cell_type": "code",
   "execution_count": 14,
   "metadata": {},
   "outputs": [
    {
     "data": {
      "text/plain": [
       "DatetimeIndex(['2013-01-01', '2013-01-02', '2013-01-03', '2013-01-04',\n",
       "               '2013-01-05', '2013-01-06'],\n",
       "              dtype='datetime64[ns]', freq='D')"
      ]
     },
     "execution_count": 14,
     "metadata": {},
     "output_type": "execute_result"
    }
   ],
   "source": [
    "# .date_range is a way to create a range of dates. Here is the syntax:\n",
    "    # pd.date_range('YearMonthDate', periods = NumOfDates)\n",
    "        ## Can go up to Hour --> minute --> second --> microsecond\n",
    "\n",
    "dates = pd.date_range('20130101', periods=6)\n",
    "dates"
   ]
  },
  {
   "cell_type": "code",
   "execution_count": 16,
   "metadata": {},
   "outputs": [
    {
     "data": {
      "text/plain": [
       "array([[0.80358172, 0.62996438, 0.93880382, 0.12954881],\n",
       "       [0.97536883, 0.7656829 , 0.92739232, 0.73058305],\n",
       "       [0.3543873 , 0.84824403, 0.83885158, 0.82381947],\n",
       "       [0.0376728 , 0.66171069, 0.16844224, 0.796899  ],\n",
       "       [0.306365  , 0.50916351, 0.31218915, 0.16758526],\n",
       "       [0.29216543, 0.23328345, 0.58445936, 0.44416298]])"
      ]
     },
     "execution_count": 16,
     "metadata": {},
     "output_type": "execute_result"
    }
   ],
   "source": [
    "#Random numbers in standard deviation, 2d array with 6 rows, 4 columns\n",
    "\n",
    "np.random.rand(6, 4)"
   ]
  },
  {
   "cell_type": "code",
   "execution_count": 17,
   "metadata": {},
   "outputs": [
    {
     "data": {
      "text/plain": [
       "array([[-0.70722974,  1.13684228, -0.48768041,  0.55106094],\n",
       "       [-1.46277959,  0.5021128 ,  2.12492907,  0.09408939],\n",
       "       [ 0.84379527,  0.49401787,  0.13111605, -0.49455711],\n",
       "       [-0.86342215,  1.28169883, -1.20329362,  0.75511739],\n",
       "       [-0.49748228,  1.00598366,  2.77385379, -0.29769773],\n",
       "       [ 0.06900549,  0.25528661, -1.57567921, -1.64950327]])"
      ]
     },
     "execution_count": 17,
     "metadata": {},
     "output_type": "execute_result"
    }
   ],
   "source": [
    "np.random.randn(6, 4)"
   ]
  },
  {
   "cell_type": "code",
   "execution_count": 21,
   "metadata": {},
   "outputs": [
    {
     "data": {
      "text/plain": [
       "4"
      ]
     },
     "execution_count": 21,
     "metadata": {},
     "output_type": "execute_result"
    }
   ],
   "source": [
    "#gives you one random number in the range\n",
    "\n",
    "np.random.randint(4, 6)"
   ]
  },
  {
   "cell_type": "code",
   "execution_count": 33,
   "metadata": {},
   "outputs": [
    {
     "data": {
      "text/html": [
       "<div>\n",
       "<style scoped>\n",
       "    .dataframe tbody tr th:only-of-type {\n",
       "        vertical-align: middle;\n",
       "    }\n",
       "\n",
       "    .dataframe tbody tr th {\n",
       "        vertical-align: top;\n",
       "    }\n",
       "\n",
       "    .dataframe thead th {\n",
       "        text-align: right;\n",
       "    }\n",
       "</style>\n",
       "<table border=\"1\" class=\"dataframe\">\n",
       "  <thead>\n",
       "    <tr style=\"text-align: right;\">\n",
       "      <th></th>\n",
       "      <th>A</th>\n",
       "      <th>B</th>\n",
       "      <th>C</th>\n",
       "      <th>D</th>\n",
       "    </tr>\n",
       "  </thead>\n",
       "  <tbody>\n",
       "    <tr>\n",
       "      <th>1</th>\n",
       "      <td>-1.259084</td>\n",
       "      <td>-1.112785</td>\n",
       "      <td>-0.418711</td>\n",
       "      <td>-1.462391</td>\n",
       "    </tr>\n",
       "    <tr>\n",
       "      <th>2</th>\n",
       "      <td>-0.719278</td>\n",
       "      <td>-2.547588</td>\n",
       "      <td>-0.719605</td>\n",
       "      <td>0.211324</td>\n",
       "    </tr>\n",
       "    <tr>\n",
       "      <th>3</th>\n",
       "      <td>2.475845</td>\n",
       "      <td>1.771164</td>\n",
       "      <td>-0.290883</td>\n",
       "      <td>-1.917834</td>\n",
       "    </tr>\n",
       "    <tr>\n",
       "      <th>4</th>\n",
       "      <td>0.557406</td>\n",
       "      <td>0.679647</td>\n",
       "      <td>-2.330268</td>\n",
       "      <td>0.244581</td>\n",
       "    </tr>\n",
       "    <tr>\n",
       "      <th>5</th>\n",
       "      <td>0.965109</td>\n",
       "      <td>0.695013</td>\n",
       "      <td>0.783884</td>\n",
       "      <td>0.007853</td>\n",
       "    </tr>\n",
       "    <tr>\n",
       "      <th>6</th>\n",
       "      <td>-1.980834</td>\n",
       "      <td>0.518836</td>\n",
       "      <td>0.851424</td>\n",
       "      <td>-0.131748</td>\n",
       "    </tr>\n",
       "  </tbody>\n",
       "</table>\n",
       "</div>"
      ],
      "text/plain": [
       "          A         B         C         D\n",
       "1 -1.259084 -1.112785 -0.418711 -1.462391\n",
       "2 -0.719278 -2.547588 -0.719605  0.211324\n",
       "3  2.475845  1.771164 -0.290883 -1.917834\n",
       "4  0.557406  0.679647 -2.330268  0.244581\n",
       "5  0.965109  0.695013  0.783884  0.007853\n",
       "6 -1.980834  0.518836  0.851424 -0.131748"
      ]
     },
     "execution_count": 33,
     "metadata": {},
     "output_type": "execute_result"
    }
   ],
   "source": [
    "#DATAFRAME\n",
    "#passed it data, told it what we wanted the index to be, and what we wanted to columns to be called\n",
    "\n",
    "df = pd.DataFrame(np.random.randn(6, 4), index = [1,2,3,4,5,6], columns=list('ABCD'))\n",
    "df"
   ]
  },
  {
   "cell_type": "code",
   "execution_count": 34,
   "metadata": {},
   "outputs": [
    {
     "data": {
      "text/html": [
       "<div>\n",
       "<style scoped>\n",
       "    .dataframe tbody tr th:only-of-type {\n",
       "        vertical-align: middle;\n",
       "    }\n",
       "\n",
       "    .dataframe tbody tr th {\n",
       "        vertical-align: top;\n",
       "    }\n",
       "\n",
       "    .dataframe thead th {\n",
       "        text-align: right;\n",
       "    }\n",
       "</style>\n",
       "<table border=\"1\" class=\"dataframe\">\n",
       "  <thead>\n",
       "    <tr style=\"text-align: right;\">\n",
       "      <th></th>\n",
       "      <th>A</th>\n",
       "      <th>B</th>\n",
       "      <th>C</th>\n",
       "      <th>D</th>\n",
       "    </tr>\n",
       "  </thead>\n",
       "  <tbody>\n",
       "    <tr>\n",
       "      <th>2013-01-01</th>\n",
       "      <td>0.533625</td>\n",
       "      <td>0.120747</td>\n",
       "      <td>0.321336</td>\n",
       "      <td>0.754527</td>\n",
       "    </tr>\n",
       "    <tr>\n",
       "      <th>2013-01-02</th>\n",
       "      <td>-0.096121</td>\n",
       "      <td>0.704410</td>\n",
       "      <td>-0.494134</td>\n",
       "      <td>2.429745</td>\n",
       "    </tr>\n",
       "    <tr>\n",
       "      <th>2013-01-03</th>\n",
       "      <td>-0.695041</td>\n",
       "      <td>1.500539</td>\n",
       "      <td>-0.760885</td>\n",
       "      <td>-0.103884</td>\n",
       "    </tr>\n",
       "    <tr>\n",
       "      <th>2013-01-04</th>\n",
       "      <td>-0.995473</td>\n",
       "      <td>-0.170716</td>\n",
       "      <td>-0.241909</td>\n",
       "      <td>-0.447883</td>\n",
       "    </tr>\n",
       "    <tr>\n",
       "      <th>2013-01-05</th>\n",
       "      <td>-0.737160</td>\n",
       "      <td>-0.623464</td>\n",
       "      <td>-0.338300</td>\n",
       "      <td>1.827258</td>\n",
       "    </tr>\n",
       "    <tr>\n",
       "      <th>2013-01-06</th>\n",
       "      <td>0.589930</td>\n",
       "      <td>-0.861739</td>\n",
       "      <td>0.399229</td>\n",
       "      <td>-0.057986</td>\n",
       "    </tr>\n",
       "  </tbody>\n",
       "</table>\n",
       "</div>"
      ],
      "text/plain": [
       "                   A         B         C         D\n",
       "2013-01-01  0.533625  0.120747  0.321336  0.754527\n",
       "2013-01-02 -0.096121  0.704410 -0.494134  2.429745\n",
       "2013-01-03 -0.695041  1.500539 -0.760885 -0.103884\n",
       "2013-01-04 -0.995473 -0.170716 -0.241909 -0.447883\n",
       "2013-01-05 -0.737160 -0.623464 -0.338300  1.827258\n",
       "2013-01-06  0.589930 -0.861739  0.399229 -0.057986"
      ]
     },
     "execution_count": 34,
     "metadata": {},
     "output_type": "execute_result"
    }
   ],
   "source": [
    "df = pd.DataFrame(np.random.randn(6, 4), index = dates, columns=list('ABCD'))\n",
    "df"
   ]
  },
  {
   "cell_type": "code",
   "execution_count": 37,
   "metadata": {},
   "outputs": [
    {
     "data": {
      "text/html": [
       "<div>\n",
       "<style scoped>\n",
       "    .dataframe tbody tr th:only-of-type {\n",
       "        vertical-align: middle;\n",
       "    }\n",
       "\n",
       "    .dataframe tbody tr th {\n",
       "        vertical-align: top;\n",
       "    }\n",
       "\n",
       "    .dataframe thead th {\n",
       "        text-align: right;\n",
       "    }\n",
       "</style>\n",
       "<table border=\"1\" class=\"dataframe\">\n",
       "  <thead>\n",
       "    <tr style=\"text-align: right;\">\n",
       "      <th></th>\n",
       "      <th>A</th>\n",
       "      <th>B</th>\n",
       "      <th>C</th>\n",
       "      <th>D</th>\n",
       "      <th>E</th>\n",
       "      <th>F</th>\n",
       "    </tr>\n",
       "  </thead>\n",
       "  <tbody>\n",
       "    <tr>\n",
       "      <th>0</th>\n",
       "      <td>1.0</td>\n",
       "      <td>2013-01-02</td>\n",
       "      <td>1.0</td>\n",
       "      <td>3</td>\n",
       "      <td>test</td>\n",
       "      <td>foo</td>\n",
       "    </tr>\n",
       "    <tr>\n",
       "      <th>1</th>\n",
       "      <td>1.0</td>\n",
       "      <td>2013-01-02</td>\n",
       "      <td>1.0</td>\n",
       "      <td>3</td>\n",
       "      <td>train</td>\n",
       "      <td>foo</td>\n",
       "    </tr>\n",
       "    <tr>\n",
       "      <th>2</th>\n",
       "      <td>1.0</td>\n",
       "      <td>2013-01-02</td>\n",
       "      <td>1.0</td>\n",
       "      <td>3</td>\n",
       "      <td>test</td>\n",
       "      <td>foo</td>\n",
       "    </tr>\n",
       "    <tr>\n",
       "      <th>3</th>\n",
       "      <td>1.0</td>\n",
       "      <td>2013-01-02</td>\n",
       "      <td>1.0</td>\n",
       "      <td>3</td>\n",
       "      <td>train</td>\n",
       "      <td>foo</td>\n",
       "    </tr>\n",
       "  </tbody>\n",
       "</table>\n",
       "</div>"
      ],
      "text/plain": [
       "     A          B    C  D      E    F\n",
       "0  1.0 2013-01-02  1.0  3   test  foo\n",
       "1  1.0 2013-01-02  1.0  3  train  foo\n",
       "2  1.0 2013-01-02  1.0  3   test  foo\n",
       "3  1.0 2013-01-02  1.0  3  train  foo"
      ]
     },
     "execution_count": 37,
     "metadata": {},
     "output_type": "execute_result"
    }
   ],
   "source": [
    "df2 = pd.DataFrame({'A': 1.,\n",
    "                     'B': pd.Timestamp('20130102'),\n",
    "                     'C': pd.Series(1, index=list(range(4)), dtype='float32'),\n",
    "                     'D': np.array([3] * 4, dtype='int32'),\n",
    "                     'E': pd.Categorical([\"test\", \"train\", \"test\", \"train\"]),\n",
    "                     'F': 'foo'})\n",
    "df2"
   ]
  },
  {
   "cell_type": "code",
   "execution_count": 36,
   "metadata": {},
   "outputs": [
    {
     "data": {
      "text/plain": [
       "A           float64\n",
       "B    datetime64[ns]\n",
       "C           float32\n",
       "D             int32\n",
       "E          category\n",
       "F            object\n",
       "dtype: object"
      ]
     },
     "execution_count": 36,
     "metadata": {},
     "output_type": "execute_result"
    }
   ],
   "source": [
    "df2.dtypes"
   ]
  },
  {
   "cell_type": "code",
   "execution_count": 38,
   "metadata": {},
   "outputs": [],
   "source": [
    "# setting a variable as the link to the data set --> formatting as json file bc that's what the site says it is\n",
    "\n",
    "nyc311 = pd.read_json('https://data.cityofnewyork.us/resource/fhrw-4uyv.json')"
   ]
  },
  {
   "cell_type": "code",
   "execution_count": 40,
   "metadata": {},
   "outputs": [
    {
     "data": {
      "text/html": [
       "<div>\n",
       "<style scoped>\n",
       "    .dataframe tbody tr th:only-of-type {\n",
       "        vertical-align: middle;\n",
       "    }\n",
       "\n",
       "    .dataframe tbody tr th {\n",
       "        vertical-align: top;\n",
       "    }\n",
       "\n",
       "    .dataframe thead th {\n",
       "        text-align: right;\n",
       "    }\n",
       "</style>\n",
       "<table border=\"1\" class=\"dataframe\">\n",
       "  <thead>\n",
       "    <tr style=\"text-align: right;\">\n",
       "      <th></th>\n",
       "      <th>address_type</th>\n",
       "      <th>agency</th>\n",
       "      <th>agency_name</th>\n",
       "      <th>bbl</th>\n",
       "      <th>borough</th>\n",
       "      <th>bridge_highway_direction</th>\n",
       "      <th>bridge_highway_name</th>\n",
       "      <th>bridge_highway_segment</th>\n",
       "      <th>city</th>\n",
       "      <th>closed_date</th>\n",
       "      <th>...</th>\n",
       "      <th>resolution_action_updated_date</th>\n",
       "      <th>resolution_description</th>\n",
       "      <th>road_ramp</th>\n",
       "      <th>status</th>\n",
       "      <th>street_name</th>\n",
       "      <th>taxi_company_borough</th>\n",
       "      <th>taxi_pick_up_location</th>\n",
       "      <th>unique_key</th>\n",
       "      <th>x_coordinate_state_plane</th>\n",
       "      <th>y_coordinate_state_plane</th>\n",
       "    </tr>\n",
       "  </thead>\n",
       "  <tbody>\n",
       "    <tr>\n",
       "      <th>0</th>\n",
       "      <td>ADDRESS</td>\n",
       "      <td>DSNY</td>\n",
       "      <td>Department of Sanitation</td>\n",
       "      <td>1.006200e+09</td>\n",
       "      <td>MANHATTAN</td>\n",
       "      <td>NaN</td>\n",
       "      <td>NaN</td>\n",
       "      <td>NaN</td>\n",
       "      <td>NEW YORK</td>\n",
       "      <td>NaN</td>\n",
       "      <td>...</td>\n",
       "      <td>2019-02-14T00:00:00.000</td>\n",
       "      <td>The Department of Sanitation has sent this com...</td>\n",
       "      <td>NaN</td>\n",
       "      <td>Assigned</td>\n",
       "      <td>WEST   10 STREET</td>\n",
       "      <td>NaN</td>\n",
       "      <td>NaN</td>\n",
       "      <td>41660852</td>\n",
       "      <td>983256.0</td>\n",
       "      <td>206753.0</td>\n",
       "    </tr>\n",
       "    <tr>\n",
       "      <th>1</th>\n",
       "      <td>ADDRESS</td>\n",
       "      <td>DSNY</td>\n",
       "      <td>Department of Sanitation</td>\n",
       "      <td>1.018700e+09</td>\n",
       "      <td>MANHATTAN</td>\n",
       "      <td>NaN</td>\n",
       "      <td>NaN</td>\n",
       "      <td>NaN</td>\n",
       "      <td>NEW YORK</td>\n",
       "      <td>NaN</td>\n",
       "      <td>...</td>\n",
       "      <td>2019-02-16T00:00:00.000</td>\n",
       "      <td>The Department of Sanitation has sent this com...</td>\n",
       "      <td>NaN</td>\n",
       "      <td>Assigned</td>\n",
       "      <td>WEST   99 STREET</td>\n",
       "      <td>NaN</td>\n",
       "      <td>NaN</td>\n",
       "      <td>41662305</td>\n",
       "      <td>992318.0</td>\n",
       "      <td>229571.0</td>\n",
       "    </tr>\n",
       "    <tr>\n",
       "      <th>2</th>\n",
       "      <td>ADDRESS</td>\n",
       "      <td>NYPD</td>\n",
       "      <td>New York City Police Department</td>\n",
       "      <td>2.033560e+09</td>\n",
       "      <td>BRONX</td>\n",
       "      <td>NaN</td>\n",
       "      <td>NaN</td>\n",
       "      <td>NaN</td>\n",
       "      <td>BRONX</td>\n",
       "      <td>NaN</td>\n",
       "      <td>...</td>\n",
       "      <td>NaN</td>\n",
       "      <td>Your complaint has been forwarded to the New Y...</td>\n",
       "      <td>NaN</td>\n",
       "      <td>Open</td>\n",
       "      <td>DECATUR AVENUE</td>\n",
       "      <td>NaN</td>\n",
       "      <td>NaN</td>\n",
       "      <td>41659928</td>\n",
       "      <td>1019562.0</td>\n",
       "      <td>259651.0</td>\n",
       "    </tr>\n",
       "    <tr>\n",
       "      <th>3</th>\n",
       "      <td>ADDRESS</td>\n",
       "      <td>NYPD</td>\n",
       "      <td>New York City Police Department</td>\n",
       "      <td>2.032590e+09</td>\n",
       "      <td>BRONX</td>\n",
       "      <td>NaN</td>\n",
       "      <td>NaN</td>\n",
       "      <td>NaN</td>\n",
       "      <td>BRONX</td>\n",
       "      <td>NaN</td>\n",
       "      <td>...</td>\n",
       "      <td>2019-02-10T02:25:17.000</td>\n",
       "      <td>Your complaint has been received by the Police...</td>\n",
       "      <td>NaN</td>\n",
       "      <td>Assigned</td>\n",
       "      <td>HEATH AVENUE</td>\n",
       "      <td>NaN</td>\n",
       "      <td>NaN</td>\n",
       "      <td>41659555</td>\n",
       "      <td>1010824.0</td>\n",
       "      <td>257661.0</td>\n",
       "    </tr>\n",
       "    <tr>\n",
       "      <th>4</th>\n",
       "      <td>ADDRESS</td>\n",
       "      <td>NYPD</td>\n",
       "      <td>New York City Police Department</td>\n",
       "      <td>1.021320e+09</td>\n",
       "      <td>MANHATTAN</td>\n",
       "      <td>NaN</td>\n",
       "      <td>NaN</td>\n",
       "      <td>NaN</td>\n",
       "      <td>NEW YORK</td>\n",
       "      <td>NaN</td>\n",
       "      <td>...</td>\n",
       "      <td>NaN</td>\n",
       "      <td>Your complaint has been forwarded to the New Y...</td>\n",
       "      <td>NaN</td>\n",
       "      <td>Open</td>\n",
       "      <td>WEST 177 STREET</td>\n",
       "      <td>NaN</td>\n",
       "      <td>NaN</td>\n",
       "      <td>41659370</td>\n",
       "      <td>1002833.0</td>\n",
       "      <td>247344.0</td>\n",
       "    </tr>\n",
       "  </tbody>\n",
       "</table>\n",
       "<p>5 rows × 39 columns</p>\n",
       "</div>"
      ],
      "text/plain": [
       "  address_type agency                      agency_name           bbl  \\\n",
       "0      ADDRESS   DSNY         Department of Sanitation  1.006200e+09   \n",
       "1      ADDRESS   DSNY         Department of Sanitation  1.018700e+09   \n",
       "2      ADDRESS   NYPD  New York City Police Department  2.033560e+09   \n",
       "3      ADDRESS   NYPD  New York City Police Department  2.032590e+09   \n",
       "4      ADDRESS   NYPD  New York City Police Department  1.021320e+09   \n",
       "\n",
       "     borough bridge_highway_direction bridge_highway_name  \\\n",
       "0  MANHATTAN                      NaN                 NaN   \n",
       "1  MANHATTAN                      NaN                 NaN   \n",
       "2      BRONX                      NaN                 NaN   \n",
       "3      BRONX                      NaN                 NaN   \n",
       "4  MANHATTAN                      NaN                 NaN   \n",
       "\n",
       "  bridge_highway_segment      city closed_date            ...             \\\n",
       "0                    NaN  NEW YORK         NaN            ...              \n",
       "1                    NaN  NEW YORK         NaN            ...              \n",
       "2                    NaN     BRONX         NaN            ...              \n",
       "3                    NaN     BRONX         NaN            ...              \n",
       "4                    NaN  NEW YORK         NaN            ...              \n",
       "\n",
       "  resolution_action_updated_date  \\\n",
       "0        2019-02-14T00:00:00.000   \n",
       "1        2019-02-16T00:00:00.000   \n",
       "2                            NaN   \n",
       "3        2019-02-10T02:25:17.000   \n",
       "4                            NaN   \n",
       "\n",
       "                              resolution_description road_ramp    status  \\\n",
       "0  The Department of Sanitation has sent this com...       NaN  Assigned   \n",
       "1  The Department of Sanitation has sent this com...       NaN  Assigned   \n",
       "2  Your complaint has been forwarded to the New Y...       NaN      Open   \n",
       "3  Your complaint has been received by the Police...       NaN  Assigned   \n",
       "4  Your complaint has been forwarded to the New Y...       NaN      Open   \n",
       "\n",
       "        street_name taxi_company_borough taxi_pick_up_location unique_key  \\\n",
       "0  WEST   10 STREET                  NaN                   NaN   41660852   \n",
       "1  WEST   99 STREET                  NaN                   NaN   41662305   \n",
       "2    DECATUR AVENUE                  NaN                   NaN   41659928   \n",
       "3      HEATH AVENUE                  NaN                   NaN   41659555   \n",
       "4   WEST 177 STREET                  NaN                   NaN   41659370   \n",
       "\n",
       "  x_coordinate_state_plane  y_coordinate_state_plane  \n",
       "0                 983256.0                  206753.0  \n",
       "1                 992318.0                  229571.0  \n",
       "2                1019562.0                  259651.0  \n",
       "3                1010824.0                  257661.0  \n",
       "4                1002833.0                  247344.0  \n",
       "\n",
       "[5 rows x 39 columns]"
      ]
     },
     "execution_count": 40,
     "metadata": {},
     "output_type": "execute_result"
    }
   ],
   "source": [
    "#will give you first five rows:\n",
    "nyc311.head()"
   ]
  },
  {
   "cell_type": "code",
   "execution_count": 41,
   "metadata": {},
   "outputs": [
    {
     "name": "stdout",
     "output_type": "stream",
     "text": [
      "<class 'pandas.core.frame.DataFrame'>\n",
      "RangeIndex: 1000 entries, 0 to 999\n",
      "Data columns (total 39 columns):\n",
      "address_type                      995 non-null object\n",
      "agency                            1000 non-null object\n",
      "agency_name                       1000 non-null object\n",
      "bbl                               898 non-null float64\n",
      "borough                           1000 non-null object\n",
      "bridge_highway_direction          1 non-null object\n",
      "bridge_highway_name               1 non-null object\n",
      "bridge_highway_segment            1 non-null object\n",
      "city                              991 non-null object\n",
      "closed_date                       417 non-null object\n",
      "community_board                   1000 non-null object\n",
      "complaint_type                    1000 non-null object\n",
      "created_date                      1000 non-null object\n",
      "cross_street_1                    931 non-null object\n",
      "cross_street_2                    929 non-null object\n",
      "descriptor                        1000 non-null object\n",
      "due_date                          919 non-null object\n",
      "facility_type                     1000 non-null object\n",
      "incident_address                  950 non-null object\n",
      "incident_zip                      991 non-null float64\n",
      "intersection_street_1             45 non-null object\n",
      "intersection_street_2             45 non-null object\n",
      "latitude                          989 non-null float64\n",
      "location                          989 non-null object\n",
      "location_type                     945 non-null object\n",
      "longitude                         989 non-null float64\n",
      "open_data_channel_type            1000 non-null object\n",
      "park_borough                      1000 non-null object\n",
      "park_facility_name                1000 non-null object\n",
      "resolution_action_updated_date    724 non-null object\n",
      "resolution_description            965 non-null object\n",
      "road_ramp                         1 non-null object\n",
      "status                            1000 non-null object\n",
      "street_name                       950 non-null object\n",
      "taxi_company_borough              2 non-null object\n",
      "taxi_pick_up_location             4 non-null object\n",
      "unique_key                        1000 non-null int64\n",
      "x_coordinate_state_plane          989 non-null float64\n",
      "y_coordinate_state_plane          989 non-null float64\n",
      "dtypes: float64(6), int64(1), object(32)\n",
      "memory usage: 304.8+ KB\n"
     ]
    }
   ],
   "source": [
    "nyc311.info()"
   ]
  },
  {
   "cell_type": "code",
   "execution_count": 42,
   "metadata": {},
   "outputs": [],
   "source": [
    "#you can tell that there are 1000 rows because there are 1000 entries"
   ]
  },
  {
   "cell_type": "code",
   "execution_count": null,
   "metadata": {},
   "outputs": [],
   "source": []
  }
 ],
 "metadata": {
  "kernelspec": {
   "display_name": "Python 3",
   "language": "python",
   "name": "python3"
  },
  "language_info": {
   "codemirror_mode": {
    "name": "ipython",
    "version": 3
   },
   "file_extension": ".py",
   "mimetype": "text/x-python",
   "name": "python",
   "nbconvert_exporter": "python",
   "pygments_lexer": "ipython3",
   "version": "3.7.1"
  }
 },
 "nbformat": 4,
 "nbformat_minor": 2
}
