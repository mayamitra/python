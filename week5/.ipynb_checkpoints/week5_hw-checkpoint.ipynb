{
 "cells": [
  {
   "cell_type": "code",
   "execution_count": 1,
   "metadata": {},
   "outputs": [],
   "source": [
    "from IPython.display import HTML\n",
    "\n",
    "import pandas as pd\n",
    "import numpy as np\n",
    "import seaborn as sns\n",
    "import matplotlib.pyplot as plt\n",
    "\n",
    "plt.style.use('fivethirtyeight')\n",
    "%matplotlib inline\n",
    "\n",
    "# Increase default figure and font sizes for easier viewing.\n",
    "plt.rcParams['figure.figsize'] = (8, 6)\n",
    "plt.rcParams['font.size'] = 14"
   ]
  },
  {
   "cell_type": "code",
   "execution_count": 10,
   "metadata": {},
   "outputs": [],
   "source": [
    "voterData = pd.read_excel('../data/week4/university_voting.xlsx')"
   ]
  },
  {
   "cell_type": "code",
   "execution_count": 13,
   "metadata": {},
   "outputs": [
    {
     "data": {
      "text/plain": [
       "Appalachian State University            1\n",
       "Arizona State University                1\n",
       "Arkansas State University               1\n",
       "Arkansas Tech University                1\n",
       "Auburn University                       1\n",
       "Austin Peay State University            1\n",
       "Ball State University                   1\n",
       "Baylor University                       1\n",
       "Boise State University                  1\n",
       "Boston College                          1\n",
       "Bowling Green State University          1\n",
       "Bridgewater State University            1\n",
       "Brigham Young University                1\n",
       "Brigham Young University-Idaho          1\n",
       "Brown University                        1\n",
       "Buffalo State University                1\n",
       "CUNY-Brooklyn                           1\n",
       "CUNY-Staten Island                      1\n",
       "Cal Poly-Pomona                         1\n",
       "Cal Poly-San Luis Obispo                1\n",
       "Cal State University-Chico              1\n",
       "Cal State University-Dominguez Hills    1\n",
       "Cal State University-East Bay           1\n",
       "Cal State University-Fresno             1\n",
       "Cal State University-Fullerton          1\n",
       "Cal State University-Long Beach         1\n",
       "Cal State University-Los Angeles        1\n",
       "Cal State University-Northridge         1\n",
       "Cal State University-Sacramento         1\n",
       "Cal State University-San Bernardino     1\n",
       "                                       ..\n",
       "University of Wisconsin-Madison         1\n",
       "University of Wisconsin-Milwaukee       1\n",
       "University of Wisconsin-Oshkosh         1\n",
       "University of Wisconsin-Whitewater      1\n",
       "University of Wyoming                   1\n",
       "Utah State University                   1\n",
       "Utah Valley University                  1\n",
       "Valdosta State University               1\n",
       "Vanderbilt University                   1\n",
       "Villanova University                    1\n",
       "Virginia Commonwealth University        1\n",
       "Virginia Polytechnic University         1\n",
       "Washington State University             1\n",
       "Washington University-St. Louis         1\n",
       "Wayne State University                  1\n",
       "Weber State University                  1\n",
       "Webster University                      1\n",
       "West Chester University                 1\n",
       "West Virginia University                1\n",
       "Western Governors University            1\n",
       "Western Illinois University             1\n",
       "Western Kentucky University             1\n",
       "Western Michigan University             1\n",
       "Western Washington University           1\n",
       "Wichita State University                1\n",
       "William Paterson University             1\n",
       "Wilmington University                   1\n",
       "Wright State University                 1\n",
       "Yale University                         1\n",
       "Youngstown State University             1\n",
       "Name: University, Length: 301, dtype: int64"
      ]
     },
     "execution_count": 13,
     "metadata": {},
     "output_type": "execute_result"
    }
   ],
   "source": [
    "voterData.University.value_counts().sort_index()"
   ]
  },
  {
   "cell_type": "code",
   "execution_count": null,
   "metadata": {},
   "outputs": [],
   "source": [
    "voterData.groupby('University').plot(kind='bar');"
   ]
  },
  {
   "cell_type": "code",
   "execution_count": null,
   "metadata": {},
   "outputs": [],
   "source": [
    "voterData.groupby('University')['Trump'].sum().plot(kind = 'bar')"
   ]
  },
  {
   "cell_type": "code",
   "execution_count": null,
   "metadata": {},
   "outputs": [],
   "source": []
  }
 ],
 "metadata": {
  "kernelspec": {
   "display_name": "Python 3",
   "language": "python",
   "name": "python3"
  },
  "language_info": {
   "codemirror_mode": {
    "name": "ipython",
    "version": 3
   },
   "file_extension": ".py",
   "mimetype": "text/x-python",
   "name": "python",
   "nbconvert_exporter": "python",
   "pygments_lexer": "ipython3",
   "version": "3.7.1"
  }
 },
 "nbformat": 4,
 "nbformat_minor": 2
}
