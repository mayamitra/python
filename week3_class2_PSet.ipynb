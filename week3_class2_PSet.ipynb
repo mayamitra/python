{
 "cells": [
  {
   "cell_type": "markdown",
   "metadata": {
    "nbgrader": {
     "grade": false,
     "locked": true,
     "solution": false
    }
   },
   "source": [
    "## Intermediate Python\n",
    "#### Data Structures: Looping, Lists, Tuples, Dictionaries\n",
    "---------\n",
    "_Author: W.P.G.Peterson_\n",
    "<!--V2.0-->\n",
    "\n",
    "### Assignment Contents:\n",
    "- [Looping Structures](#loops)\n",
    "- [Collections](#coll)  \n",
    "- [Lists](#lists)\n",
    "- [Variable Assignment Nuances](#var)\n",
    "- [Tuples](#tuples)\n",
    "    - [Iterable unpacking / zip & enumerate](#unpack)\n",
    "- [Dictionaries](#dict)\n",
    "    - [Passing Parameters](#pass)\n",
    "- [Dictionary / List Comprehensions](#comps)\n",
    "- [Review](#review)\n",
    "- [Passing Functions](#pass-fun)  \n",
    "\n",
    "#### EXPECTED TIME: 3.5 HRS\n",
    "\n",
    "### Overview\n",
    "This assignment introduces and explores the fundamental `Python` collection types. It also extends upon topics introduced in the \"Basic Python\" assignment, and introduces useful `Python` functions and features.  \n",
    "\n",
    "\n",
    "Comfort with the material in these two assignments should translate into a basic comfort with the fundamentals of `Python`. The assignments should also be useful as resources for review. The syntax of `Python` is not particularly complicated, and it is frequently forgiving. However, un-complicated does not mean easy - combination locks are un-complicated but are virtually impossible to open without the combination. Nothing substitutes for practice when it comes to remembering how all these concepts, syntax, and formatting connect.  \n",
    "\n",
    "While the concepts in this assignment are still mostly straight-forward, increasing comfort with this format of assesment is assumed, so expect questions of increasing complexity.     \n",
    "\n",
    "### Activities in this Assignment \n",
    "- Use `for` and `while` loops  \n",
    "- Use lists and list methods  \n",
    "- Review edge cases of variable assignment / manipulation\n",
    "- Use tuples, zip, enumerate and unpacking  \n",
    "- Use and build non-trivial dictionaries  \n",
    "- Use list/dict comprehensions  \n",
    "\n",
    "<a id = \"looping\"></a>\n",
    "### Looping Structures  \n",
    "Before heading into the meat of this lesson - collections - we will review and test the use of looping (iteration) structures. Iteration will be a fundamental part of how we test understanding of various collections.  \n",
    "\n",
    "The two looping structures available in Python are `for` loops and `while` loops."
   ]
  },
  {
   "cell_type": "code",
   "execution_count": 72,
   "metadata": {
    "nbgrader": {
     "grade": false,
     "locked": true,
     "solution": false
    }
   },
   "outputs": [
    {
     "name": "stdout",
     "output_type": "stream",
     "text": [
      "1\n",
      "2\n",
      "3\n",
      "4\n",
      "twos =  32\n",
      "\n",
      "Looping through string 'hello'\n",
      "h\n",
      "e\n",
      "l\n",
      "l\n",
      "o\n"
     ]
    }
   ],
   "source": [
    "### Two sample \"for\" loops\n",
    "\n",
    "twos = 2\n",
    "for num in [1,2,3,4]:\n",
    "    print(num)\n",
    "    twos *= 2\n",
    "print(\"twos = \", twos)  \n",
    "\n",
    "print(\"\\nLooping through string 'hello'\")\n",
    "for char in \"hello\":\n",
    "    print(char)"
   ]
  },
  {
   "cell_type": "markdown",
   "metadata": {
    "nbgrader": {
     "grade": false,
     "locked": true,
     "solution": false
    }
   },
   "source": [
    "`for` loops execute a set number of times. The syntax is: \n",
    "- `for <variable name(s)> in <iterable>:` \n",
    "- then the indented code block.   \n",
    "\n",
    "In general, anything that can be traversed is iterable. For example, lists (as seen above of `[1,2,3,4]`) and strings are both iterable.  \n",
    "\n",
    "One function used in the following questions and introduced in lecture is `range()`.   \n",
    "See examples below:"
   ]
  },
  {
   "cell_type": "code",
   "execution_count": 2,
   "metadata": {
    "nbgrader": {
     "grade": false,
     "locked": true,
     "solution": false
    }
   },
   "outputs": [
    {
     "name": "stdout",
     "output_type": "stream",
     "text": [
      "range(0, 5)\n",
      "[0, 1, 2, 3, 4]\n",
      "[3, 4, 5, 6]\n",
      "[0, 2, 4]\n",
      "0\n",
      "1\n",
      "2\n",
      "3\n",
      "4\n"
     ]
    }
   ],
   "source": [
    "print(range(5))\n",
    "print(list(range(5)))\n",
    "print(list(range(3,7)))\n",
    "print(list(range(0,5,2)))\n",
    "for n in range(5):\n",
    "    print(n)"
   ]
  },
  {
   "cell_type": "markdown",
   "metadata": {
    "nbgrader": {
     "grade": false,
     "locked": true,
     "solution": false
    }
   },
   "source": [
    "Note from the above:  \n",
    "- Printing out a \"range\" object directly will simply yeild the statement `range(n1,n2)`.\n",
    "    - Range is a `generator`. A generator provides items (numbers in this case) one at a time.  \n",
    "    \n",
    "    \n",
    "- `range()` is iterable and useable in `for` loops\n",
    "    - trying to print out a `range()` object directly does not yield all those numbers.  \n",
    "    \n",
    "    \n",
    "- `range()` goes *up to but does not include* the stopping number -- like indexing strings.\n",
    "\n",
    "#### Question 1:"
   ]
  },
  {
   "cell_type": "code",
   "execution_count": 21,
   "metadata": {},
   "outputs": [
    {
     "name": "stdout",
     "output_type": "stream",
     "text": [
      "0\n",
      "16\n",
      "32\n",
      "16\n",
      "16\n"
     ]
    }
   ],
   "source": [
    "### GRADED\n",
    "### Example\n",
    "### Code a function called 'first_div_16'\n",
    "### ACCEPT two positive integers, n1 and n2, as inputs\n",
    "### RETURN the first number in range(n1,n2) that is divisible by 16.  \n",
    "### HOWEVER, if no number in the range is divisible by 16 RETURN 0\n",
    "\n",
    "### YOUR ANSWER BELOW\n",
    "\n",
    "def first_div_16(n1, n2):\n",
    "    for i in range(n1, n2):\n",
    "        if i%16 == 0:\n",
    "            return i\n",
    "        elif (i+1)%16 == 0:\n",
    "            return i+1\n",
    "    return 0\n",
    "\n",
    "### Testing\n",
    "print(first_div_16(2,5))\n",
    "print(first_div_16(2,30))\n",
    "print(first_div_16(17,32))\n",
    "print(first_div_16(1,100))\n",
    "print(first_div_16(15,32))"
   ]
  },
  {
   "cell_type": "code",
   "execution_count": 2,
   "metadata": {
    "collapsed": true,
    "nbgrader": {
     "grade": true,
     "grade_id": "Question 1",
     "locked": true,
     "points": "1",
     "solution": false
    }
   },
   "outputs": [],
   "source": [
    "#\n",
    "# AUTOGRADER TEST - DO NOT REMOVE\n",
    "#\n"
   ]
  },
  {
   "cell_type": "markdown",
   "metadata": {
    "nbgrader": {
     "grade": false,
     "locked": true,
     "solution": false
    }
   },
   "source": [
    "#### Question 2:"
   ]
  },
  {
   "cell_type": "code",
   "execution_count": 27,
   "metadata": {},
   "outputs": [
    {
     "name": "stdout",
     "output_type": "stream",
     "text": [
      "are\n"
     ]
    }
   ],
   "source": [
    "### GRADED\n",
    "### Build a function called 'first_starting_vowel'\n",
    "### ACCEPT a list of strings as input\n",
    "### RETURN the first string that starts with a lowercase vowel (\"a\",\"e\",\"i\",\"o\",or \"u\")\n",
    "### HOWEVER if no string starts with vowel, RETURN the empty string (\"\")\n",
    "\n",
    "### YOUR ANSWER BELOW\n",
    "\n",
    "\n",
    "def first_starting_vowel(string_list):\n",
    "    for word in string_list:\n",
    "        if word.startswith((\"a\", \"e\", \"i\", \"o\", \"u\")) == True:\n",
    "            return word\n",
    "        #else:\n",
    "           # pass \n",
    "            \n",
    "    return \" \"\n",
    "        \n",
    "            \n",
    "    \"\"\"\n",
    "    Return the first string in the list that starts with a lowercase vowel\n",
    "    \n",
    "    Positional Argument:\n",
    "        string_list -- a list of strings\n",
    "        \n",
    "    Example:\n",
    "        example_list = [\"hello\",\"these\",\"are\",\"strings\",\"in\",\"a\",\"list\"]\n",
    "        print(first_starting_vowel(example_list)) # --> \"are\"\n",
    "        print(first_starting_vowel(example_list[:2]))#--> \"\"\n",
    "    \"\"\"\n",
    "\n",
    "example_list = [\"hello\",\"these\",\"are\",\"strings\",\"in\",\"a\",\"list\"]\n",
    "print(first_starting_vowel(example_list))"
   ]
  },
  {
   "cell_type": "code",
   "execution_count": 60,
   "metadata": {},
   "outputs": [],
   "source": [
    "example_list = [\"hello\",\"these\",\"are\",\"strings\",\"in\",\"a\",\"list\"]\n",
    "#print(first_starting_vowel(example_list))"
   ]
  },
  {
   "cell_type": "code",
   "execution_count": 78,
   "metadata": {
    "collapsed": true,
    "nbgrader": {
     "grade": true,
     "grade_id": "Question 2",
     "locked": true,
     "points": "10",
     "solution": false
    }
   },
   "outputs": [],
   "source": [
    "#\n",
    "# AUTOGRADER TEST - DO NOT REMOVE\n",
    "#\n"
   ]
  },
  {
   "cell_type": "markdown",
   "metadata": {
    "nbgrader": {
     "grade": false,
     "locked": true,
     "solution": false
    }
   },
   "source": [
    "### While Loops:\n",
    "`while` loops evaluate a boolean condition, and *while* that condition is true, the loop continues to execute.  \n",
    "Whether or not the condition is true is only checked at the end/beginning of each loop. "
   ]
  },
  {
   "cell_type": "code",
   "execution_count": 79,
   "metadata": {
    "nbgrader": {
     "grade": false,
     "locked": true,
     "solution": false
    }
   },
   "outputs": [
    {
     "name": "stdout",
     "output_type": "stream",
     "text": [
      "2\n",
      "4\n",
      "6\n",
      "8\n",
      "10\n",
      "\n",
      "Will this go on forever?\n",
      "It could.\n"
     ]
    }
   ],
   "source": [
    "x = 1\n",
    "while x<10:\n",
    "    x +=1\n",
    "    if x %2 ==0:\n",
    "        print(x)\n",
    "        \n",
    "while True:\n",
    "    print(\"\\nWill this go on forever?\")\n",
    "    print(\"It could.\")\n",
    "    break # But now it won't."
   ]
  },
  {
   "cell_type": "markdown",
   "metadata": {
    "nbgrader": {
     "grade": false,
     "locked": true,
     "solution": false
    }
   },
   "source": [
    "Although the above boolean condition of `True` will always be true, (and could easily result in an infinite loop) there are a multiple ways of exiting a loop. One is a `return` statement - as seen in our functions - and the other is a `break` statement - as above.\n",
    "\n",
    "`pass` and `continue` may also be helpful when your loop-logic becomes more complicated. [Documentation](https://docs.python.org/3/tutorial/controlflow.html#break-and-continue-statements-and-else-clauses-on-loops)  \n",
    "\n",
    "#### Question 3:"
   ]
  },
  {
   "cell_type": "code",
   "execution_count": 28,
   "metadata": {},
   "outputs": [
    {
     "name": "stdout",
     "output_type": "stream",
     "text": [
      "1.0\n",
      "-1\n",
      "1.385009765625\n"
     ]
    }
   ],
   "source": [
    "### GRADED\n",
    "### Code a function called 'halve_to_2'\n",
    "### ACCEPT one numeric input.\n",
    "\n",
    "### If the number <= 0, RETURN -1\n",
    "### If the number > 0, divide that integer over-and-over by 2 until it becomes smaller than 2.\n",
    "\n",
    "### RETURN that smaller-than-2 number\n",
    "\n",
    "### e.g. input of 4 Will yield 1 (4->2->1), 5 yields 1.25 (5->2.5->1.25) etc.\n",
    "\n",
    "### YOUR ANSWER BELOW\n",
    "\n",
    "def halve_to_2( num ):\n",
    "    \"\"\"\n",
    "    Divide input-number by 2 until it becomes smaller than 2, then return.\n",
    "    If input-number <=0 return -1\n",
    "    \n",
    "    Positional Argument:\n",
    "        num -- numeric input\n",
    "    \n",
    "    Example:\n",
    "        print(halve_to_2(4)) #--> 1\n",
    "        print(halve_to_2(-39)) #--> -1\n",
    "        print(halve_to_2)(5673) #--> 1.385009765625\n",
    "    \n",
    "    \"\"\"\n",
    "    if num <= 0:\n",
    "        return -1\n",
    "    elif num > 0:\n",
    "        while num >= 2:\n",
    "            num /= 2\n",
    "    return num\n",
    "\n",
    "print(halve_to_2(4))\n",
    "print(halve_to_2(-39)) \n",
    "print(halve_to_2(5673)) "
   ]
  },
  {
   "cell_type": "code",
   "execution_count": 5,
   "metadata": {
    "collapsed": true,
    "nbgrader": {
     "grade": true,
     "grade_id": "Question 3",
     "locked": true,
     "points": "15",
     "solution": false
    }
   },
   "outputs": [],
   "source": [
    "#\n",
    "# AUTOGRADER TEST - DO NOT REMOVE\n",
    "#\n"
   ]
  },
  {
   "cell_type": "markdown",
   "metadata": {
    "nbgrader": {
     "grade": false,
     "locked": true,
     "solution": false
    }
   },
   "source": [
    "#### Question 4:"
   ]
  },
  {
   "cell_type": "code",
   "execution_count": 34,
   "metadata": {},
   "outputs": [
    {
     "name": "stdout",
     "output_type": "stream",
     "text": [
      "HHlllllloooooooooo\n"
     ]
    },
    {
     "data": {
      "text/plain": [
       "' \\nGiven a string input, return a string containing every other character 2n+2 times\\nWhere \"n\" is the 0-based index of the letter\\n    \\nPositional Argument:\\ninput_string -- a non-empty string\\n    \\nExample:\\nstr1 = \"Hello\"\\nstr2 = \"naME\"\\n    \\nprint(string_expansion(str1)) #--> HHlllllloooooooooo\\nprint(string_expansion(str2)) #--> nnMMMMMM\\n'"
      ]
     },
     "execution_count": 34,
     "metadata": {},
     "output_type": "execute_result"
    }
   ],
   "source": [
    "##I DON'T GET THE SOLUTION!!!!!!\n",
    "\n",
    "\n",
    "### GRADED\n",
    "### Code a function called 'string_exansion'\n",
    "### ACCEPT a non-empty string as input\n",
    "### RETURN a string that contains every other character, 2n+2 times, where n is the original index of the letter.\n",
    "\n",
    "### e.g. Input of \"Hello\" should result in \"HHlllllloooooooooo\".\n",
    "### Input of \"ROBErt\" should result in \"RRBBBBBBrrrrrrrrrr\"\n",
    "\n",
    "### YOUR ANSWER BELOW\n",
    "\n",
    "def string_expansion( input_string ):\n",
    "    solution = \"\"\n",
    "    s = input_string[::2]\n",
    "\n",
    "    for i, c in enumerate(s):\n",
    "       # n = input_string[s]\n",
    "        n = 2*((i*2)+1) # this is the same as 2x+2 because x is increasing by 2 each time, bc index is ::2\n",
    "        solution += c*n\n",
    "    return solution\n",
    "\n",
    "str1 = \"Hello\"\n",
    "print(string_expansion(str1))\n",
    "\n",
    "    \n",
    "    \n",
    "\"\"\" \n",
    "Given a string input, return a string containing every other character 2n+2 times\n",
    "Where \"n\" is the 0-based index of the letter\n",
    "    \n",
    "Positional Argument:\n",
    "input_string -- a non-empty string\n",
    "    \n",
    "Example:\n",
    "str1 = \"Hello\"\n",
    "str2 = \"naME\"\n",
    "    \n",
    "print(string_expansion(str1)) #--> HHlllllloooooooooo\n",
    "print(string_expansion(str2)) #--> nnMMMMMM\n",
    "\"\"\" "
   ]
  },
  {
   "cell_type": "code",
   "execution_count": null,
   "metadata": {},
   "outputs": [],
   "source": [
    "def string_expansion( input_string ):\n",
    "    solution = \"\"\n",
    "    s = input_string[::2]\n",
    "\n",
    "    for i, c in enumerate(s):\n",
    "       # n = input_string[s]\n",
    "        n = 2*((i*2)+1) # this is the same as 2x+2 because x is increasing by 2 each time, bc index is ::2\n",
    "        solution += c*n\n",
    "    return solution\n",
    "\n",
    "str1 = \"Hello\"\n",
    "print(string_expansion(str1))\n",
    "\n"
   ]
  },
  {
   "cell_type": "code",
   "execution_count": null,
   "metadata": {
    "nbgrader": {
     "grade": true,
     "grade_id": "Question 4",
     "locked": true,
     "points": "20",
     "solution": false
    }
   },
   "outputs": [],
   "source": [
    "# \n",
    "# AUTOGRADER TEST - DO NOT REMOVE\n",
    "#\n"
   ]
  },
  {
   "cell_type": "markdown",
   "metadata": {
    "nbgrader": {
     "grade": false,
     "locked": true,
     "solution": false
    }
   },
   "source": [
    "<a id = \"coll\"></a>\n",
    "### Collections\n",
    "#### Cheat Sheet:\n",
    "Lists: `[]`, mutable, orderd  \n",
    "Tuples: `()`, immutable, ordered  \n",
    "Sets: `{}`, mutable, unordered, unique values -- Not Covered  \n",
    "Dicts: `{:}`, mutable, unique \"keys\" required\n",
    "\n",
    "<a id = \"lists\"></a>\n",
    "### Lists\n",
    "Last week's assignment used `lists` in a few problems, but they were not fully introduced.\n",
    "\n",
    "Lists are a collection of items that may be changed (mutable); but do not all need to be of the same type:"
   ]
  },
  {
   "cell_type": "code",
   "execution_count": 120,
   "metadata": {
    "nbgrader": {
     "grade": false,
     "locked": true,
     "solution": false
    }
   },
   "outputs": [
    {
     "name": "stdout",
     "output_type": "stream",
     "text": [
      "[1, 2, 3, 4, 5] <class 'list'> 5\n",
      "['1', 2, 3, 'rabbit', False, 4, [1, 2, 3]] <class 'list'> 7\n"
     ]
    }
   ],
   "source": [
    "l1 = [1,2,3,4,5]\n",
    "l2 = [\"1\",2,3,\"rabbit\", False, 4,[1,2,3]]\n",
    "\n",
    "print(l1, type(l1), len(l1))\n",
    "print(l2, type(l2), len(l2))"
   ]
  },
  {
   "cell_type": "markdown",
   "metadata": {
    "nbgrader": {
     "grade": false,
     "locked": true,
     "solution": false
    }
   },
   "source": [
    "Indeed, as shown above, an element of a list can indeed be another list - frequently referred to as nested lists.  \n",
    "\n",
    "Indexing in `lists` is similar to that in `str`ings"
   ]
  },
  {
   "cell_type": "code",
   "execution_count": 121,
   "metadata": {
    "nbgrader": {
     "grade": false,
     "locked": true,
     "solution": false
    }
   },
   "outputs": [
    {
     "name": "stdout",
     "output_type": "stream",
     "text": [
      "1\n",
      "['1', 3, False, [1, 2, 3]]\n",
      "[2, 3]\n"
     ]
    }
   ],
   "source": [
    "print(l1[0])\n",
    "print(l2[::2])\n",
    "print(l2[-1][1:])"
   ]
  },
  {
   "cell_type": "markdown",
   "metadata": {
    "nbgrader": {
     "grade": false,
     "locked": true,
     "solution": false
    }
   },
   "source": [
    "Below, a few examples of list methods:"
   ]
  },
  {
   "cell_type": "code",
   "execution_count": 122,
   "metadata": {
    "nbgrader": {
     "grade": false,
     "locked": true,
     "solution": false
    }
   },
   "outputs": [
    {
     "name": "stdout",
     "output_type": "stream",
     "text": [
      "[1, 2, 3, 4, 5]\n",
      "\n",
      ".append(5)\n",
      "[1, 2, 3, 4, 5, 5]\n",
      "\n",
      ".pop(2)\n",
      "[1, 2, 4, 5, 5]\n",
      "\n",
      ".count(5) 2\n"
     ]
    }
   ],
   "source": [
    "l1 = [1,2,3,4,5]\n",
    "print(l1)\n",
    "\n",
    "print(\"\\n.append(5)\")\n",
    "l1.append(5)\n",
    "print(l1)\n",
    "\n",
    "print(\"\\n.pop(2)\")\n",
    "l1.pop(2)\n",
    "print(l1)\n",
    "\n",
    "print(\"\\n.count(5)\", l1.count(5))"
   ]
  },
  {
   "cell_type": "markdown",
   "metadata": {
    "nbgrader": {
     "grade": false,
     "locked": true,
     "solution": false
    }
   },
   "source": [
    "#### Question 5:"
   ]
  },
  {
   "cell_type": "code",
   "execution_count": 32,
   "metadata": {},
   "outputs": [],
   "source": [
    "### GRADED\n",
    "### Code a function called 'item_count_from_index'\n",
    "### ACCEPT two inputs, a list and an integer-index\n",
    "### RETURN a count (number) of how many times the item at that index appears in the list.\n",
    "\n",
    "### HOWEVER, if the integer-index is out of bounds for the list RETURN the empty string (\"\")\n",
    "### (e.g. list of 3 items, index of 5 is out of bounds)\n",
    "\n",
    "### YOUR ANSWER BELOW\n",
    "\n",
    "def item_count_from_index( input_list, index):\n",
    "    if index > len(input_list):\n",
    "        return \" \"\n",
    "    else:\n",
    "        a = input_list[index]\n",
    "        return input_list.count(a)    \n",
    "    \n",
    "    \"\"\"\n",
    "    Return the count of items in a list found at a certain index\n",
    "    If index out of bounds, RETURN \"\"\n",
    "    \n",
    "    Positional Argument:\n",
    "        input_list -- a list of items, of unspecified types,\n",
    "            assume items are comparable. e.g. support == and != comparison\n",
    "        index -- an integer index\n",
    "    \n",
    "    Examples:\n",
    "        print(item_count_from_index([1,2,2,3,3,2,4],2)) #--> 3\n",
    "        print(item_count_from_index([],2)) #--> \"\"\n",
    "        \n",
    "    \"\"\""
   ]
  },
  {
   "cell_type": "code",
   "execution_count": 30,
   "metadata": {},
   "outputs": [
    {
     "name": "stdout",
     "output_type": "stream",
     "text": [
      "3\n"
     ]
    }
   ],
   "source": [
    "print(item_count_from_index([1,2,2,3,3,2,4],2))"
   ]
  },
  {
   "cell_type": "code",
   "execution_count": 34,
   "metadata": {},
   "outputs": [
    {
     "name": "stdout",
     "output_type": "stream",
     "text": [
      " \n"
     ]
    }
   ],
   "source": [
    "print(item_count_from_index([],2))"
   ]
  },
  {
   "cell_type": "code",
   "execution_count": null,
   "metadata": {
    "nbgrader": {
     "grade": true,
     "grade_id": "Question 5",
     "locked": true,
     "points": "10",
     "solution": false
    }
   },
   "outputs": [],
   "source": [
    "#\n",
    "# AUTOGRADER TEST - DO NOT REMOVE\n",
    "#\n"
   ]
  },
  {
   "cell_type": "markdown",
   "metadata": {
    "nbgrader": {
     "grade": false,
     "locked": true,
     "solution": false
    }
   },
   "source": [
    "#### Question 6:"
   ]
  },
  {
   "cell_type": "code",
   "execution_count": 45,
   "metadata": {},
   "outputs": [
    {
     "name": "stdout",
     "output_type": "stream",
     "text": [
      "16\n",
      "Boo!\n",
      "Boo!\n"
     ]
    }
   ],
   "source": [
    "### GRADED\n",
    "### Code a function called 'length_times_largest'\n",
    "### ACCEPT a list as input\n",
    "### RETURN the length of the list times the largest integer (not float) in the list\n",
    "### HOWEVER if the list does not contain an integer, RETURN the empty string (\"\")\n",
    "\n",
    "### YOUR ANSWER BELOW\n",
    "\n",
    "def length_times_largest(input_list):\n",
    "    for i in input_list:\n",
    "        if type(i) != int:\n",
    "            return \"Boo!\" ## THIS PART ISN'T WORKING RIGHT!\n",
    "        else:\n",
    "            a = len(input_list)\n",
    "            b = max(input_list)\n",
    "            return a *b\n",
    "            \n",
    "        \n",
    "    \n",
    "    \"\"\"\n",
    "    Given a list of objects, return the length of the list times the\n",
    "    largest integer in the list.\n",
    "    \n",
    "    Positional Argument:\n",
    "        input_list -- a list of objects of unspecified types.\n",
    "        \n",
    "    Example:\n",
    "        print(length_times_largest([1,2,3,4])) #--> 16\n",
    "        print(length_times_largest([\"a\",\"b\",\"c\",4])) #--> 16\n",
    "        print(length_times_largest([\"1\",\"100\",2])) #--> 6\n",
    "        print(length_times_largest([\"a\",\"b\"])) #--> \"\"\n",
    "        print(length_times_largest([0.0,40.6])) #--> \"\"\n",
    "        \n",
    "    \"\"\"\n",
    "    \n",
    "print(length_times_largest([1,2,3,4])) #--> 16\n",
    "print(length_times_largest([0.0,40.6])) #--> \"\"\n",
    "print(length_times_largest([\"1\",\"100\",2])) #--> 6"
   ]
  },
  {
   "cell_type": "code",
   "execution_count": 12,
   "metadata": {
    "collapsed": true,
    "nbgrader": {
     "grade": true,
     "grade_id": "Question 6",
     "locked": true,
     "points": "15",
     "solution": false
    }
   },
   "outputs": [],
   "source": [
    "#\n",
    "# AUTOGRADER TEST - DO NOT REMOVE\n",
    "#\n"
   ]
  },
  {
   "cell_type": "markdown",
   "metadata": {
    "nbgrader": {
     "grade": false,
     "locked": true,
     "solution": false
    }
   },
   "source": [
    "#### Question 7:"
   ]
  },
  {
   "cell_type": "code",
   "execution_count": 60,
   "metadata": {},
   "outputs": [
    {
     "name": "stdout",
     "output_type": "stream",
     "text": [
      "None\n",
      "None\n",
      "None\n"
     ]
    }
   ],
   "source": [
    "### GRADED\n",
    "### Code a function called 'combine'\n",
    "### ACCEPT two inputs:\n",
    "### The first input is a list.\n",
    "### The second input is either either a list or some other type of object\n",
    "\n",
    "### IF AND ONLY IF the second input is a *list*;\n",
    "### ### \"extend\" the first list by adding to it the elements of the second list.\n",
    "### e.g. if the inputs are [1,2,3], [4,5], the output should be [1,2,3,4,5] NOT [1,2,3,[4,5]].\n",
    "\n",
    "### IF the second input is NOT a list, append that item to the original list.\n",
    "### e.g. if the inputs are [1,2,3], (4,5), the output should be [1,2,3,(4,5)] NOT [1,2,3,4,5].\n",
    "\n",
    "### RETURN the resulting combination.\n",
    "\n",
    "### YOUR ANSWER BELOW\n",
    "\n",
    "def combine(list1, to_add):\n",
    "    return list1.append(to_add) ##OMG WHY IS THIS NOT PRINTING ANYTHING!!!!!\n",
    "    \n",
    "   # if type(to_add) == list:\n",
    "       # a = list1.append(to_add)\n",
    "       # return a\n",
    "    #elif type(to_add) != list:\n",
    "      #  b = list1.append(to_add)\n",
    "       # return b\n",
    "        \n",
    "    \"\"\"\n",
    "    Return the combination of the two inputs\n",
    "    \n",
    "    Positional Argument:\n",
    "        list1 -- a list of objects\n",
    "        to_add -- an object, list or otherwise\n",
    "        \n",
    "    Example:\n",
    "    \n",
    "        l1 = [1,2,3]\n",
    "        a1 = [4,5]\n",
    "        a2 = \"b\"\n",
    "        a3 = (2,\"b\") # a tuple\n",
    "        \n",
    "        print(combine(l1,a1)) #-->[1,2,3,4,5]\n",
    "        print(combine(l1,a2)) #-->[1,2,3,'b']\n",
    "        print(combine(l1,a3)) #-->[1,2,3,(2,'b')]\n",
    "    \"\"\"\n",
    "\n",
    "l1 = [1,2,3]\n",
    "a1 = [4,5]\n",
    "a2 = \"b\"\n",
    "a3 = (2,\"b\") # a tuple\n",
    "        \n",
    "print(combine(l1,a1)) #-->[1,2,3,4,5]\n",
    "print(combine(l1,a2)) #-->[1,2,3,'b']\n",
    "print(combine(l1,a3)) #-->[1,2,3,(2,'b')]"
   ]
  },
  {
   "cell_type": "code",
   "execution_count": 51,
   "metadata": {
    "nbgrader": {
     "grade": true,
     "grade_id": "Question 7",
     "locked": true,
     "points": "10",
     "solution": false
    }
   },
   "outputs": [],
   "source": [
    "#\n",
    "# AUTOGRADER TEST - DO NOT REMOVE\n",
    "#\n"
   ]
  },
  {
   "cell_type": "markdown",
   "metadata": {
    "nbgrader": {
     "grade": false,
     "locked": true,
     "solution": false
    }
   },
   "source": [
    "<a id = \"var\"></a>\n",
    "### Variable Assignment\n",
    "In a number of the above exercises you should have used some list methods in your solutions. These can potentially cause problems depending on how variables are defined.   \n",
    "\n",
    "In the last assignment, I stated that **most** of the time, when variables are defined by being set equal to another variable, a change in one variable will not affect the other variable.  \n",
    "\n",
    "The below will show some cases when that is not true."
   ]
  },
  {
   "cell_type": "code",
   "execution_count": 15,
   "metadata": {
    "nbgrader": {
     "grade": false,
     "locked": true,
     "solution": false
    }
   },
   "outputs": [
    {
     "name": "stdout",
     "output_type": "stream",
     "text": [
      "a:  [1, 2, 3]\n",
      "b:  [1, 2, 3] \n",
      "\n",
      "Appending 4 to a, and only a\n",
      "a:  [1, 2, 3, 4]\n",
      "b:  [1, 2, 3, 4] \n",
      "\n",
      "setting a[0] = 0\n",
      "a:  [0, 2, 3, 4]\n",
      "b:  [0, 2, 3, 4] \n",
      "\n",
      "setting a = [1,2,3]\n",
      "a:  [1, 2, 3]\n",
      "b:  [0, 2, 3, 4] \n",
      "\n"
     ]
    }
   ],
   "source": [
    "a = [1,2,3]\n",
    "b = a\n",
    "print(\"a: \", a)\n",
    "print(\"b: \", b, \"\\n\")\n",
    "\n",
    "print(\"Appending 4 to a, and only a\")\n",
    "\n",
    "a.append(4)\n",
    "print(\"a: \", a)\n",
    "print(\"b: \", b, \"\\n\")\n",
    "\n",
    "print(\"setting a[0] = 0\")\n",
    "a[0] = 0\n",
    "print(\"a: \", a)\n",
    "print(\"b: \", b, \"\\n\")\n",
    "\n",
    "print(\"setting a = [1,2,3]\")\n",
    "a = [1,2,3]\n",
    "print(\"a: \", a)\n",
    "print(\"b: \", b, \"\\n\")"
   ]
  },
  {
   "cell_type": "markdown",
   "metadata": {
    "nbgrader": {
     "grade": false,
     "locked": true,
     "solution": false
    }
   },
   "source": [
    "In general, when changing the value of a variable using `\"=\"`, other variables will not be changed. However, when the values associated with variables start to change *in-place* there might be trouble.  \n",
    "\n",
    "Python \"variables\" are actually just pointers that direct the interpreter to a place in memory. When a variable takes on a new value either:  \n",
    "1. The value at the specific place in memory changed.  \n",
    "2. A new memory space was allocated with a new value in it, and the pointer changed to direct to that new location."
   ]
  },
  {
   "cell_type": "code",
   "execution_count": 16,
   "metadata": {
    "nbgrader": {
     "grade": false,
     "locked": true,
     "solution": false
    }
   },
   "outputs": [
    {
     "name": "stdout",
     "output_type": "stream",
     "text": [
      "140268820023048\n",
      "140268820023048\n"
     ]
    }
   ],
   "source": [
    "b = a\n",
    "# Print out the memory location of each variable using `id()`\n",
    "print(id(a))\n",
    "print(id(b))"
   ]
  },
  {
   "cell_type": "markdown",
   "metadata": {
    "nbgrader": {
     "grade": false,
     "locked": true,
     "solution": false
    }
   },
   "source": [
    "#### Question 8:"
   ]
  },
  {
   "cell_type": "code",
   "execution_count": 61,
   "metadata": {},
   "outputs": [],
   "source": [
    "### GRADED\n",
    "### In the above example. When `b` is set equal to `a` <b = a>, in how many locations is Python storing the list\n",
    "### [1,2,3]?\n",
    "\n",
    "### 'a') 1\n",
    "### 'b') 2\n",
    "### 'c') Python isn't storing it; Jupyter is.\n",
    "\n",
    "### Assign the string associated with your choice to ans1\n",
    "### YOUR ANSWER BELOW \n",
    "\n",
    "ans1 = 'a'"
   ]
  },
  {
   "cell_type": "code",
   "execution_count": 18,
   "metadata": {
    "collapsed": true,
    "nbgrader": {
     "grade": true,
     "grade_id": "Question 8",
     "locked": true,
     "points": "5",
     "solution": false
    }
   },
   "outputs": [],
   "source": [
    "#\n",
    "# AUTOGRADER TEST - DO NOT REMOVE\n",
    "#\n"
   ]
  },
  {
   "cell_type": "markdown",
   "metadata": {
    "nbgrader": {
     "grade": false,
     "locked": true,
     "solution": false
    }
   },
   "source": [
    "#### Question 9:"
   ]
  },
  {
   "cell_type": "code",
   "execution_count": 62,
   "metadata": {},
   "outputs": [],
   "source": [
    "### GRADED\n",
    "### Assume once again b is set equal to a as in the above question.  \n",
    "### Which of the following COULD cause a change in value to both a and b\n",
    "\n",
    "### 'a') the use of a list method\n",
    "### 'b') the deletion of one of the variables <del(<var>)>\n",
    "### 'c') defining a value for one of the variables using '='\n",
    "### 'd') the setting of a value in the list using indexing\n",
    "\n",
    "### pick all that apply in a list of string: e.g. [\"x,\",\"y\", \"z\"] and assign to ans1\n",
    "### if none apply, return empty list \"[]\"\n",
    "### YOUR ANSWER BELOW\n",
    "\n",
    "ans1 = ['b', 'c', 'd']"
   ]
  },
  {
   "cell_type": "code",
   "execution_count": 20,
   "metadata": {
    "collapsed": true,
    "nbgrader": {
     "grade": true,
     "grade_id": "Question 9",
     "locked": true,
     "points": "10",
     "solution": false
    }
   },
   "outputs": [],
   "source": [
    "#\n",
    "# AUTOGRADER TEST - DO NOT REMOVE\n",
    "#\n"
   ]
  },
  {
   "cell_type": "markdown",
   "metadata": {
    "nbgrader": {
     "grade": false,
     "locked": true,
     "solution": false
    }
   },
   "source": [
    "<a id = \"tuples\"></a>\n",
    "### Tuples \n",
    "*Pronounced either \"tup-\" or \"toop- / tewp-\"*  \n",
    "\n",
    "Tuples are similar to lists; they are ordered, they can hold variables of multiple types, they are indexable and iterable.  \n",
    "\n",
    "Their major difference -- Tuples are immutable. Once a tuple has been created, it cannot be changed."
   ]
  },
  {
   "cell_type": "code",
   "execution_count": 21,
   "metadata": {
    "nbgrader": {
     "grade": false,
     "locked": true,
     "solution": false
    }
   },
   "outputs": [
    {
     "ename": "TypeError",
     "evalue": "'tuple' object does not support item assignment",
     "output_type": "error",
     "traceback": [
      "\u001b[0;31m---------------------------------------------------------------------------\u001b[0m",
      "\u001b[0;31mTypeError\u001b[0m                                 Traceback (most recent call last)",
      "\u001b[0;32m<ipython-input-21-51268fe9d311>\u001b[0m in \u001b[0;36m<module>\u001b[0;34m()\u001b[0m\n\u001b[1;32m      1\u001b[0m \u001b[0mmy_tup\u001b[0m \u001b[0;34m=\u001b[0m \u001b[0;34m(\u001b[0m\u001b[0;36m1\u001b[0m\u001b[0;34m,\u001b[0m\u001b[0;36m2\u001b[0m\u001b[0;34m,\u001b[0m\u001b[0;36m3\u001b[0m\u001b[0;34m)\u001b[0m\u001b[0;34m\u001b[0m\u001b[0m\n\u001b[0;32m----> 2\u001b[0;31m \u001b[0mmy_tup\u001b[0m\u001b[0;34m[\u001b[0m\u001b[0;36m2\u001b[0m\u001b[0;34m]\u001b[0m \u001b[0;34m=\u001b[0m \u001b[0;36m4\u001b[0m \u001b[0;31m# Error\u001b[0m\u001b[0;34m\u001b[0m\u001b[0m\n\u001b[0m",
      "\u001b[0;31mTypeError\u001b[0m: 'tuple' object does not support item assignment"
     ]
    }
   ],
   "source": [
    "my_tup = (1,2,3)\n",
    "my_tup[2] = 4 # Error"
   ]
  },
  {
   "cell_type": "markdown",
   "metadata": {
    "nbgrader": {
     "grade": false,
     "locked": true,
     "solution": false
    }
   },
   "source": [
    "Thus, changing a tuple requires destruction and creation.  \n",
    "In many cases lists could be used instead of tuples, however, Tuples do help to ensure that the values, or number of values are not changed in a particular collection.  \n",
    "This might be useful when passing collections of parameters between functions, or for ensuring a collection has a certain length. For example if you want to pass an object and a calculated attribute around together, such as a word and it's length, ('word', 4), might be a better choice than ['word',4].  \n",
    "Ultimately tuples can offer safe-guards in your programming when changing values (mutability) is not desired.    \n",
    "\n",
    "#### Question 10"
   ]
  },
  {
   "cell_type": "code",
   "execution_count": 73,
   "metadata": {},
   "outputs": [
    {
     "name": "stdout",
     "output_type": "stream",
     "text": [
      "<class 'NoneType'>\n"
     ]
    },
    {
     "ename": "TypeError",
     "evalue": "object of type 'int' has no len()",
     "output_type": "error",
     "traceback": [
      "\u001b[0;31m---------------------------------------------------------------------------\u001b[0m",
      "\u001b[0;31mTypeError\u001b[0m                                 Traceback (most recent call last)",
      "\u001b[0;32m<ipython-input-73-f0ed8baa690f>\u001b[0m in \u001b[0;36m<module>\u001b[0;34m\u001b[0m\n\u001b[1;32m     37\u001b[0m     \"\"\"\n\u001b[1;32m     38\u001b[0m \u001b[0;32mfor\u001b[0m \u001b[0mobj\u001b[0m \u001b[0;32min\u001b[0m \u001b[0;34m(\u001b[0m\u001b[0;36m1\u001b[0m\u001b[0;34m,\u001b[0m\u001b[0;34m\"hi\"\u001b[0m\u001b[0;34m,\u001b[0m\u001b[0;36m1.5\u001b[0m\u001b[0;34m,\u001b[0m \u001b[0;32mTrue\u001b[0m\u001b[0;34m,\u001b[0m \u001b[0;34m[\u001b[0m\u001b[0;36m1\u001b[0m\u001b[0;34m,\u001b[0m\u001b[0;36m2\u001b[0m\u001b[0;34m,\u001b[0m\u001b[0;36m3\u001b[0m\u001b[0;34m]\u001b[0m\u001b[0;34m,\u001b[0m\u001b[0;34m(\u001b[0m\u001b[0;36m4\u001b[0m\u001b[0;34m,\u001b[0m\u001b[0;36m5\u001b[0m\u001b[0;34m)\u001b[0m\u001b[0;34m)\u001b[0m\u001b[0;34m:\u001b[0m\u001b[0;34m\u001b[0m\u001b[0;34m\u001b[0m\u001b[0m\n\u001b[0;32m---> 39\u001b[0;31m     \u001b[0mprint\u001b[0m\u001b[0;34m(\u001b[0m\u001b[0mtype_and_length\u001b[0m\u001b[0;34m(\u001b[0m\u001b[0mobj\u001b[0m\u001b[0;34m)\u001b[0m\u001b[0;34m)\u001b[0m\u001b[0;34m\u001b[0m\u001b[0;34m\u001b[0m\u001b[0m\n\u001b[0m",
      "\u001b[0;32m<ipython-input-73-f0ed8baa690f>\u001b[0m in \u001b[0;36mtype_and_length\u001b[0;34m(obj)\u001b[0m\n\u001b[1;32m     13\u001b[0m \u001b[0;34m\u001b[0m\u001b[0m\n\u001b[1;32m     14\u001b[0m \u001b[0;32mdef\u001b[0m \u001b[0mtype_and_length\u001b[0m\u001b[0;34m(\u001b[0m\u001b[0mobj\u001b[0m\u001b[0;34m)\u001b[0m\u001b[0;34m:\u001b[0m\u001b[0;34m\u001b[0m\u001b[0;34m\u001b[0m\u001b[0m\n\u001b[0;32m---> 15\u001b[0;31m     \u001b[0;32mif\u001b[0m \u001b[0mlen\u001b[0m\u001b[0;34m(\u001b[0m\u001b[0mobj\u001b[0m\u001b[0;34m)\u001b[0m \u001b[0;34m<\u001b[0m \u001b[0;36m0\u001b[0m\u001b[0;34m:\u001b[0m\u001b[0;34m\u001b[0m\u001b[0;34m\u001b[0m\u001b[0m\n\u001b[0m\u001b[1;32m     16\u001b[0m         \u001b[0;32mreturn\u001b[0m \u001b[0;34m(\u001b[0m\u001b[0mobj\u001b[0m\u001b[0;34m,\u001b[0m \u001b[0mtype\u001b[0m\u001b[0;34m(\u001b[0m\u001b[0mobj\u001b[0m\u001b[0;34m)\u001b[0m\u001b[0;34m,\u001b[0m \u001b[0mlen\u001b[0m\u001b[0;34m(\u001b[0m\u001b[0mobj\u001b[0m\u001b[0;34m)\u001b[0m\u001b[0;34m)\u001b[0m\u001b[0;34m\u001b[0m\u001b[0;34m\u001b[0m\u001b[0m\n\u001b[1;32m     17\u001b[0m     \u001b[0;32melse\u001b[0m\u001b[0;34m:\u001b[0m\u001b[0;34m\u001b[0m\u001b[0;34m\u001b[0m\u001b[0m\n",
      "\u001b[0;31mTypeError\u001b[0m: object of type 'int' has no len()"
     ]
    }
   ],
   "source": [
    "### GRADED\n",
    "### Code a function called 'type_and_length'\n",
    "### ACCEPT one input of any of the six types used thus far (int, str, float, bool, list, tuple)\n",
    "### RETURN a 3-tuple of (input, type, length)\n",
    "\n",
    "### Hint: type can be found with type(<input>)\n",
    "### If the <input> does not have `len()` return None for length.\n",
    "### Note, None is not a string, it is a type and object in and of itself.  \n",
    "\n",
    "print(type(None)) # None example\n",
    "\n",
    "### YOUR ANSWER BELOW\n",
    "\n",
    "def type_and_length(obj):\n",
    "    if len(obj) < 0:\n",
    "        return (obj, type(obj), len(obj))\n",
    "    else:\n",
    "        return (obj, type(obj), none)        \n",
    "        \n",
    "    \"\"\"\n",
    "    Return a tuple containing the inputted object, its type and length\n",
    "    \n",
    "    Positional Argument:\n",
    "        obj - an object that may be any of the following:\n",
    "            (int, str, float, bool, list, tuple)\n",
    "    \n",
    "    Example:\n",
    "        for obj in (1,\"hi\",1.5, True, [1,2,3],(4,5)):\n",
    "            print(type_and_length(obj))\n",
    "            #-->\n",
    "                (1, <class 'int'>, None)\n",
    "                ('hi', <class 'str'>, 2)\n",
    "                (1.5, <class 'float'>, None)\n",
    "                (True, <class 'bool'>, None)\n",
    "                ([1, 2, 3], <class 'list'>, 3)\n",
    "                ((4, 5), <class 'tuple'>, 2)\n",
    "    \"\"\"\n",
    "for obj in (1,\"hi\",1.5, True, [1,2,3],(4,5)):\n",
    "    print(type_and_length(obj))"
   ]
  },
  {
   "cell_type": "code",
   "execution_count": 23,
   "metadata": {
    "collapsed": true,
    "nbgrader": {
     "grade": true,
     "grade_id": "Question 10",
     "locked": true,
     "points": "10",
     "solution": false
    }
   },
   "outputs": [],
   "source": [
    "#\n",
    "# AUTOGRADER TEST - DO NOT REMOVE\n",
    "#\n"
   ]
  },
  {
   "cell_type": "markdown",
   "metadata": {
    "nbgrader": {
     "grade": false,
     "locked": true,
     "solution": false
    }
   },
   "source": [
    "<a id = \"unpack\"></a>\n",
    "#### Iterable Unpacking / Zip & Enumerate function\n",
    "The \"unpacking\" of variables from an iterable - frequently called \"tuple\" unpacking becuase it is usually used with tuples - is the ability to assign multiple variables to the items contained in an iterable object. "
   ]
  },
  {
   "cell_type": "code",
   "execution_count": 28,
   "metadata": {
    "nbgrader": {
     "grade": false,
     "locked": true,
     "solution": false
    }
   },
   "outputs": [
    {
     "name": "stdout",
     "output_type": "stream",
     "text": [
      "tuple\n",
      "1 2\n",
      "\n",
      "list\n",
      "1 2\n",
      "\n",
      "range\n",
      "0 1 2\n"
     ]
    }
   ],
   "source": [
    "print('tuple')\n",
    "a,b = (1,2)\n",
    "print(a,b)\n",
    "\n",
    "print('\\nlist')\n",
    "a,b = [1,2]\n",
    "print(a,b)\n",
    "\n",
    "print('\\nrange')\n",
    "a,b,c = range(3)\n",
    "print(a,b,c)"
   ]
  },
  {
   "cell_type": "markdown",
   "metadata": {
    "nbgrader": {
     "grade": false,
     "locked": true,
     "solution": false
    }
   },
   "source": [
    "One final feature of tuple unpacking notation before moving on:\n",
    "When unpacking, if not all of the values are desired, \"the rest\" of the values can be dumped into a variable by decorating it with a `*` --- Shown below:"
   ]
  },
  {
   "cell_type": "code",
   "execution_count": 29,
   "metadata": {
    "nbgrader": {
     "grade": false,
     "locked": true,
     "solution": false
    }
   },
   "outputs": [
    {
     "name": "stdout",
     "output_type": "stream",
     "text": [
      "0 [1, 2, 3, 4] 5 6\n",
      "0 1 2 [3, 4, 5, 6]\n"
     ]
    }
   ],
   "source": [
    "a,*b,c,d = range(7)\n",
    "print(a,b,c,d)\n",
    "\n",
    "a,b,c,*d = range(7)\n",
    "print(a,b,c,d)"
   ]
  },
  {
   "cell_type": "markdown",
   "metadata": {
    "nbgrader": {
     "grade": false,
     "locked": true,
     "solution": false
    }
   },
   "source": [
    "One of the times I most frequently use tuple unpacking is in conjunction with the `zip()` and `enumerate()` functions.  \n",
    "\n",
    "The following demonstration and exercise will expose the behavior of `zip()`"
   ]
  },
  {
   "cell_type": "code",
   "execution_count": 74,
   "metadata": {
    "nbgrader": {
     "grade": false,
     "locked": true,
     "solution": false
    }
   },
   "outputs": [
    {
     "name": "stdout",
     "output_type": "stream",
     "text": [
      "<zip object at 0x1051effc8>\n",
      "(1, 3, 5)\n",
      "(2, 4, 6)\n",
      "\n",
      " <zip object at 0x1051effc8>\n",
      "second for loop using same zip object:\n",
      "\n",
      "end second for loop.\n",
      "Note: zip is a one-time-use generator\n"
     ]
    }
   ],
   "source": [
    "z_obj = zip([1,2],[3,4], [5,6])\n",
    "print(z_obj)\n",
    "\n",
    "for z in z_obj:\n",
    "    print(z)\n",
    "    \n",
    "print(\"\\n\",z_obj)\n",
    "print(\"second for loop using same zip object:\")\n",
    "for z in z_obj:\n",
    "    print(z)\n",
    "print(\"\\nend second for loop.\")\n",
    "print(\"Note: zip is a one-time-use generator\")"
   ]
  },
  {
   "cell_type": "markdown",
   "metadata": {
    "nbgrader": {
     "grade": false,
     "locked": true,
     "solution": false
    }
   },
   "source": [
    "#### Question 11"
   ]
  },
  {
   "cell_type": "code",
   "execution_count": 76,
   "metadata": {},
   "outputs": [
    {
     "name": "stdout",
     "output_type": "stream",
     "text": [
      "<zip object at 0x1051ef548>\n"
     ]
    }
   ],
   "source": [
    "### GRADED\n",
    "### Code a function called 'reverse_zip'\n",
    "### ACCEPT a zip object\n",
    "### ### The zip object will be in the exact same format as the above example (different values)\n",
    "\n",
    "### RETURN a list of the 3 lists passed to 'zip()'\n",
    "### e.g. above the function would return [[1,2],[3,4],[5,6]] for z_obj above\n",
    "\n",
    "### YOUR ANSWER BELOW\n",
    "\n",
    "def reverse_zip(zip_obj):\n",
    "    return zip(zip_obj)\n",
    "    \"\"\"\n",
    "    Given a zip_object, return the lists passed into `zip()` to create\n",
    "    That zip_object\n",
    "    \n",
    "    Positional Argument:\n",
    "        zip_obj -- a zip object\n",
    "    \n",
    "    Example:\n",
    "        zip_obj = zip([5,6],[9,10],[\"a\",\"b\"])\n",
    "        \n",
    "        print(reverse_zip(zip_obj)) #--> [[5,6],[9,10],[\"a\",\"b\"]]\n",
    "    \"\"\"\n",
    "zip_obj = zip([5,6],[9,10],[\"a\",\"b\"])\n",
    "print(reverse_zip(zip_obj)) #--> [[5,6],[9,10],[\"a\",\"b\"]]"
   ]
  },
  {
   "cell_type": "code",
   "execution_count": 32,
   "metadata": {
    "collapsed": true,
    "nbgrader": {
     "grade": true,
     "grade_id": "Question 11",
     "locked": true,
     "points": "15",
     "solution": false
    }
   },
   "outputs": [],
   "source": [
    "#\n",
    "# AUTOGRADER TEST - DO NOT REMOVE\n",
    "#\n"
   ]
  },
  {
   "cell_type": "markdown",
   "metadata": {
    "nbgrader": {
     "grade": false,
     "locked": true,
     "solution": false
    }
   },
   "source": [
    "Like `zip()`, `enumerate()`, creates a generator function that returns tuples, this time with an index and an object:"
   ]
  },
  {
   "cell_type": "code",
   "execution_count": 33,
   "metadata": {
    "nbgrader": {
     "grade": false,
     "locked": true,
     "solution": false
    }
   },
   "outputs": [
    {
     "name": "stdout",
     "output_type": "stream",
     "text": [
      "0 a\n",
      "1 b\n",
      "2 c\n",
      "3 d\n"
     ]
    }
   ],
   "source": [
    "for n, l in enumerate(['a', 'b', 'c', 'd']):\n",
    "    print(n,l)"
   ]
  },
  {
   "cell_type": "markdown",
   "metadata": {
    "nbgrader": {
     "grade": false,
     "locked": true,
     "solution": false
    }
   },
   "source": [
    "Enumerate is particularly useful when looping over a list to collect indicies corresponding to particular values.\n",
    "#### Question 12"
   ]
  },
  {
   "cell_type": "code",
   "execution_count": 34,
   "metadata": {
    "collapsed": true
   },
   "outputs": [],
   "source": [
    "### GRADED\n",
    "### Code a function called 'obj_indicies'\n",
    "### ACCEPT Two Inputs: a list, then some object to search for.\n",
    "### RETURN a list of the indicies where that object appears in the list.\n",
    "\n",
    "### e.g. ([1,2,2,3], 2) should return [1,2]; ([1,2,2,3], 4) should return []\n",
    "\n",
    "### YOUR ANSWER BELOW\n",
    "\n",
    "def obj_indicies(list_to_search, search_for):\n",
    "    \"\"\"\n",
    "    Return a list of indicies which are all the locations of the specified\n",
    "    object in the passed list\n",
    "    \n",
    "    Positional Arguments:\n",
    "        list_to_search - a list of objects\n",
    "        search_for - the object to be searched for.\n",
    "    \n",
    "    Example:\n",
    "        l1 = [1,2,2,3,4,5,10]\n",
    "        print(obj_indicies(l1,2)) #--> [1,2]\n",
    "        print(obj_indicies(l1,6)) #-->[]\n",
    "        print(obj_indicies(l1,10)) #-->[6]\n",
    "\n",
    "    \"\"\"\n",
    "    pass"
   ]
  },
  {
   "cell_type": "code",
   "execution_count": 35,
   "metadata": {
    "collapsed": true,
    "nbgrader": {
     "grade": true,
     "grade_id": "Question 12",
     "locked": true,
     "points": "15",
     "solution": false
    }
   },
   "outputs": [],
   "source": [
    "#\n",
    "# AUTOGRADER TEST - DO NOT REMOVE\n",
    "#\n"
   ]
  },
  {
   "cell_type": "markdown",
   "metadata": {
    "nbgrader": {
     "grade": false,
     "locked": true,
     "solution": false
    }
   },
   "source": [
    "<a id = \"dict\"></a>\n",
    "### Dictionaries\n",
    "At their base, dictionaries are a collection of `key / value` pairs. [See also `\"mapping\"` and `\"associative array\"`.]  \n",
    "\n",
    "All the keys in a dictionary must be unique, though they may be many different kinds of objects. Values may also be any kind of object, but values may repeat.  \n",
    "\n",
    "Within a dictionary, the keys and values are associated with `:` inside the dictionary's outer wrapper of `{}`.  \n",
    "e.g `{key1:value1, key2:value2, ...}`"
   ]
  },
  {
   "cell_type": "code",
   "execution_count": 36,
   "metadata": {
    "nbgrader": {
     "grade": false,
     "locked": true,
     "solution": false
    }
   },
   "outputs": [
    {
     "name": "stdout",
     "output_type": "stream",
     "text": [
      "{10024: 'John', 105: 'Mary', 10023: 'Alice'}\n",
      "\n",
      "trying to index dict ordinally\n"
     ]
    },
    {
     "ename": "KeyError",
     "evalue": "1",
     "output_type": "error",
     "traceback": [
      "\u001b[0;31m---------------------------------------------------------------------------\u001b[0m",
      "\u001b[0;31mKeyError\u001b[0m                                  Traceback (most recent call last)",
      "\u001b[0;32m<ipython-input-36-b4f5054a36b3>\u001b[0m in \u001b[0;36m<module>\u001b[0;34m()\u001b[0m\n\u001b[1;32m      4\u001b[0m \u001b[0;34m\u001b[0m\u001b[0m\n\u001b[1;32m      5\u001b[0m \u001b[0mprint\u001b[0m\u001b[0;34m(\u001b[0m\u001b[0;34m\"\\ntrying to index dict ordinally\"\u001b[0m\u001b[0;34m)\u001b[0m\u001b[0;34m\u001b[0m\u001b[0m\n\u001b[0;32m----> 6\u001b[0;31m \u001b[0mprint\u001b[0m\u001b[0;34m(\u001b[0m\u001b[0memp_dict\u001b[0m\u001b[0;34m[\u001b[0m\u001b[0;36m1\u001b[0m\u001b[0;34m]\u001b[0m\u001b[0;34m)\u001b[0m \u001b[0;31m# Error\u001b[0m\u001b[0;34m\u001b[0m\u001b[0m\n\u001b[0m",
      "\u001b[0;31mKeyError\u001b[0m: 1"
     ]
    }
   ],
   "source": [
    "### Dictionary with employee ID as key, and name as value \n",
    "emp_dict = {10024:\"John\", 10023:\"Alice\", 105:\"Mary\"}\n",
    "print(emp_dict)\n",
    "\n",
    "print(\"\\ntrying to index dict ordinally\")\n",
    "print(emp_dict[1]) # Error"
   ]
  },
  {
   "cell_type": "markdown",
   "metadata": {
    "nbgrader": {
     "grade": false,
     "locked": true,
     "solution": false
    }
   },
   "source": [
    "Even though the dictionary \"appears\" to have an order when it is printed out, in Python's mind, it is unordered. This means two things.  \n",
    "1. Dictionaries are very fast.\n",
    "2. Indexing occurs using keys"
   ]
  },
  {
   "cell_type": "code",
   "execution_count": 37,
   "metadata": {
    "nbgrader": {
     "grade": false,
     "locked": true,
     "solution": false
    }
   },
   "outputs": [
    {
     "data": {
      "text/plain": [
       "'John'"
      ]
     },
     "execution_count": 37,
     "metadata": {},
     "output_type": "execute_result"
    }
   ],
   "source": [
    "# indexing with a key\n",
    "emp_dict[10024]"
   ]
  },
  {
   "cell_type": "markdown",
   "metadata": {
    "nbgrader": {
     "grade": false,
     "locked": true,
     "solution": false
    }
   },
   "source": [
    "Despite the fact dictionaries are not orderd, their keys can be looped through."
   ]
  },
  {
   "cell_type": "code",
   "execution_count": 38,
   "metadata": {
    "nbgrader": {
     "grade": false,
     "locked": true,
     "solution": false
    }
   },
   "outputs": [
    {
     "name": "stdout",
     "output_type": "stream",
     "text": [
      "\n",
      "Looping through dict: \n",
      "\n",
      "key:  10024\n",
      "value:  John\n",
      "\n",
      "key:  105\n",
      "value:  Mary\n",
      "\n",
      "key:  10023\n",
      "value:  Alice\n"
     ]
    }
   ],
   "source": [
    "print('\\nLooping through dict: ')\n",
    "for k in emp_dict:\n",
    "    print(\"\\nkey: \", k)\n",
    "    print(\"value: \", emp_dict[k])"
   ]
  },
  {
   "cell_type": "markdown",
   "metadata": {
    "nbgrader": {
     "grade": false,
     "locked": true,
     "solution": false
    }
   },
   "source": [
    "#### Question 13"
   ]
  },
  {
   "cell_type": "code",
   "execution_count": 39,
   "metadata": {
    "collapsed": true
   },
   "outputs": [],
   "source": [
    "### GRADED\n",
    "### Code a function called \"return_value\"\n",
    "### ACCEPT two inputs: a dictionary and a key from that dictionary\n",
    "### ### ASSUME the provided key is in the dictionary\n",
    "### RETURN the value associated with that key in the dictionary\n",
    "\n",
    "### YOUR ANSWER BELOW\n",
    "\n",
    "def return_value(input_dict, input_key):\n",
    "    \"\"\"\n",
    "    Return the value from the inputted dictionary located at the location of\n",
    "    the given key\n",
    "    \n",
    "    Positional Arguments:\n",
    "        input_dict - a dictionary\n",
    "        input_key - a key in that dictionary\n",
    "    \n",
    "    Example:\n",
    "        test_dict = {1:2, \"A\":\"B\", 3:\"c\", \"1\":\"a\"}\n",
    "        \n",
    "        print(return_value(test_dict,\"A\")) #--> \"B\"\n",
    "        print(return_value(test_dict,3)) #--> \"c\"\n",
    "        print(return_value(test_dict,\"1\")) #--> \"a\"\n",
    "\n",
    "    \"\"\"\n",
    "    pass"
   ]
  },
  {
   "cell_type": "code",
   "execution_count": 40,
   "metadata": {
    "collapsed": true,
    "nbgrader": {
     "grade": true,
     "grade_id": "Question 13",
     "locked": true,
     "points": "10",
     "solution": false
    }
   },
   "outputs": [],
   "source": [
    "#\n",
    "# AUTOGRADER TEST - DO NOT REMOVE\n",
    "#\n"
   ]
  },
  {
   "cell_type": "markdown",
   "metadata": {
    "nbgrader": {
     "grade": false,
     "locked": true,
     "solution": false
    }
   },
   "source": [
    "The above examples are trivial. However, when you look for them, dictionaries, and dictionary-like object are everywhere. One major example is JSON (JavaScript Object Notataion). Similarly non-relational data-bases will use dictionary-like notation. In these complex examples, values are frequently dictionaries themselves.  \n",
    "\n",
    "The below example is from [json.org/example](https://json.org/example.html)"
   ]
  },
  {
   "cell_type": "code",
   "execution_count": 41,
   "metadata": {
    "collapsed": true,
    "nbgrader": {
     "grade": false,
     "locked": true,
     "solution": false
    }
   },
   "outputs": [],
   "source": [
    "tough = {\n",
    "    \"glossary\": {\n",
    "        \"title\": \"example glossary\",\n",
    "\t\t\"GlossDiv\": {\n",
    "            \"title\": \"S\",\n",
    "\t\t\t\"GlossList\": {\n",
    "                \"GlossEntry\": {\n",
    "                    \"ID\": \"SGML\",\n",
    "\t\t\t\t\t\"SortAs\": \"SGML\",\n",
    "\t\t\t\t\t\"GlossTerm\": \"Standard Generalized Markup Language\",\n",
    "\t\t\t\t\t\"Acronym\": \"SGML\",\n",
    "\t\t\t\t\t\"Abbrev\": \"ISO 8879:1986\",\n",
    "\t\t\t\t\t\"GlossDef\": {\n",
    "                        \"para\": \"A meta-markup language, used to create markup languages such as DocBook.\",\n",
    "\t\t\t\t\t\t\"GlossSeeAlso\": [\"GML\", \"XML\"]\n",
    "                    },\n",
    "\t\t\t\t\t\"GlossSee\": \"markup\"\n",
    "                }\n",
    "            }\n",
    "        }\n",
    "    }\n",
    "}"
   ]
  },
  {
   "cell_type": "markdown",
   "metadata": {
    "nbgrader": {
     "grade": false,
     "locked": true,
     "solution": false
    }
   },
   "source": [
    "Suppose you wanted to navigate to the information in line 17 - the key/value pair of \"GlossSee\":\"markup\""
   ]
  },
  {
   "cell_type": "code",
   "execution_count": 42,
   "metadata": {
    "nbgrader": {
     "grade": false,
     "locked": true,
     "solution": false
    }
   },
   "outputs": [
    {
     "name": "stdout",
     "output_type": "stream",
     "text": [
      "['glossary']\n",
      "['GlossDiv', 'title']\n",
      "['title', 'GlossList']\n",
      "['GlossEntry']\n",
      "['ID', 'Acronym', 'Abbrev', 'GlossDef', 'SortAs', 'GlossTerm', 'GlossSee']\n"
     ]
    }
   ],
   "source": [
    "print(list(tough.keys()))\n",
    "print(list(tough['glossary'].keys()))\n",
    "print(list(tough['glossary']['GlossDiv'].keys()))\n",
    "print(list(tough['glossary']['GlossDiv']['GlossList'].keys()))\n",
    "print(list(tough['glossary']['GlossDiv']['GlossList']['GlossEntry'].keys()))"
   ]
  },
  {
   "cell_type": "markdown",
   "metadata": {
    "nbgrader": {
     "grade": false,
     "locked": true,
     "solution": false
    }
   },
   "source": [
    "Only after navigating through four keys, our desired key - \"GlossSee\" - is exposed.  \n",
    "\n",
    "This complexity becomes a blocker for many people, and they will choose to stay away from dictionaries. However, particularly when progressively building and collecting data, dictionaries offer a fast, native, and organized system for doing so. Similarly, because of their ubiquity, many packages support translation of dictionaries into their particular object type.  \n",
    "\n",
    "#### Question 14"
   ]
  },
  {
   "cell_type": "code",
   "execution_count": 43,
   "metadata": {
    "collapsed": true,
    "nbgrader": {
     "grade": false,
     "grade_id": "dict2",
     "locked": false,
     "points": "20",
     "solution": false
    }
   },
   "outputs": [],
   "source": [
    "### GRADED\n",
    "### This exercise involves building a non-trivial dictionary.\n",
    "### The subject is books.\n",
    "\n",
    "### The key for each book is its title\n",
    "### The value associated with that key is a dictionary\n",
    "\n",
    "### ### In that dictionary there will be Three keys: They are all strings, they are:\n",
    "### ### \"Pages\", \"Author\", \"Publisher\"\n",
    "\n",
    "### ### ### \"Pages\" is associated with one value - an int\n",
    "\n",
    "### ### ### \"Author is associated with a dictionary as value\n",
    "### ### ### ### That \"Author\" dictionary has two keys: \"First\", and \"Last\" each with a string value\n",
    "\n",
    "### ### ### \"Publisher\" is associated with a dictionary as value\n",
    "### ### ### ### That \"Publisher\" dict has one key \"Location\" with a string as value.\n",
    "\n",
    "### An Example might look like:\n",
    "### {\"Harry Potter\": {\"Pages\":200, \"Author\":{\"First\":\"J.K\", \"Last\":\"Rowling\"}, \"Publisher\":{\"Location\":\"NYC\"}},\n",
    "###  \"Fear and Lothing in Las Vegas\": { ...}}\n",
    "\n",
    "### Code a function called \"build_book_dict\"\n",
    "### ACCEPT five inputs, all lists of n-length\n",
    "### ### A list of titles, pages, first<name>, last<name>, and <publisher>location.\n",
    "\n",
    "### RETURN a dictionary as described above.\n",
    "### Keys must be spelled just as they appear above - correctly and capitalized.\n",
    "\n",
    "### YOUR ANSWER BELOW\n",
    "\n",
    "def build_book_dict(titles, pages, firsts, lasts, locations):\n",
    "    \"\"\"\n",
    "    Return a nested dictionary storing information about Books\n",
    "    \n",
    "    Positional Arguments:\n",
    "        titles -- A list of strings\n",
    "        pages -- A list of ints\n",
    "        firsts -- A list of strings\n",
    "        lasts -- A list of strings\n",
    "        locations -- A list of strings\n",
    "    \n",
    "    Example:\n",
    "        titles = [\"Harry Potter\", \"Fear and Lothing in Las Vegas\"]\n",
    "        pages = [200, 350]\n",
    "        firsts = [\"J.K.\", \"Hunter\"]\n",
    "        lasts = [\"Rowling\", \"Thompson\"]\n",
    "        locations = [\"NYC\", \"Aspen\"]\n",
    "        \n",
    "        book_dict = build_book_dict(titles, pages, firsts, lasts, locations)\n",
    "        print(book_dict) # -->\n",
    "            {'Fear and Lothing in Las Vegas': {'Publisher': {'Location': 'Aspen'},\n",
    "            'Author': {'Last': 'Thompson', 'First': 'Hunter'}, 'Pages': 350},\n",
    "            'Harry Potter': {'Publisher': {'Location': 'NYC'},\n",
    "            'Author': {'Last': 'Rowling', 'First': 'J.K.'}, 'Pages': 200}}\n",
    "        \n",
    "    \"\"\"\n",
    "    \n",
    "    return dict()"
   ]
  },
  {
   "cell_type": "code",
   "execution_count": 44,
   "metadata": {
    "collapsed": true,
    "nbgrader": {
     "grade": true,
     "grade_id": "Question 14",
     "locked": true,
     "points": "20",
     "solution": false
    }
   },
   "outputs": [],
   "source": [
    "#\n",
    "# AUTOGRADER TEST - DO NOT REMOVE\n",
    "#\n"
   ]
  },
  {
   "cell_type": "markdown",
   "metadata": {
    "nbgrader": {
     "grade": false,
     "locked": true,
     "solution": false
    }
   },
   "source": [
    "<a id = \"params\"></a>\n",
    "#### Passing Parameters\n",
    "One final utility of Dictionaries is their ability to to pass parameters into functions. While we have yet to work with complex functions, Machine Learning, for example, calls functions with many many parameters."
   ]
  },
  {
   "cell_type": "code",
   "execution_count": 45,
   "metadata": {
    "nbgrader": {
     "grade": false,
     "locked": true,
     "solution": false
    }
   },
   "outputs": [
    {
     "name": "stdout",
     "output_type": "stream",
     "text": [
      "5 6 None tp\n"
     ]
    }
   ],
   "source": [
    "def example_func(a,b,param2,thatParam):\n",
    "    print(a,b,param2, thatParam)\n",
    "\n",
    "params = {\"a\" :5, \"thatParam\":\"tp\", \"b\":6, \"param2\":None}\n",
    "\n",
    "example_func(**params)"
   ]
  },
  {
   "cell_type": "markdown",
   "metadata": {
    "nbgrader": {
     "grade": false,
     "locked": true,
     "solution": false
    }
   },
   "source": [
    "The above is an example of passing \"keyword arguments\" to a function [frequently shortened to \"kwargs\" in documentation]. The dictionary must have keys of strings that match the parameter names, and their associated values will then be placed into the function. To enable this unpacking, the `<**>` is put before the dictionary.  \n",
    "\n",
    "Similarly, parameters of functions may also be passed in via list decorated with a single `*` with the values in correct order."
   ]
  },
  {
   "cell_type": "code",
   "execution_count": 46,
   "metadata": {
    "nbgrader": {
     "grade": false,
     "locked": true,
     "solution": false
    }
   },
   "outputs": [
    {
     "name": "stdout",
     "output_type": "stream",
     "text": [
      "1 2 5 6\n"
     ]
    }
   ],
   "source": [
    "param_list = [1,2,5,6]\n",
    "example_func(*param_list)"
   ]
  },
  {
   "cell_type": "markdown",
   "metadata": {
    "nbgrader": {
     "grade": false,
     "locked": true,
     "solution": false
    }
   },
   "source": [
    "Parameters may be passed in via location and by name. **HOWEVER**, named parameters must always come after the location parameters. Once parameters start to be named, they may be put in any order. This is true whether input is by list/dict or conventionally"
   ]
  },
  {
   "cell_type": "code",
   "execution_count": 47,
   "metadata": {
    "nbgrader": {
     "grade": false,
     "locked": true,
     "solution": false
    }
   },
   "outputs": [
    {
     "name": "stdout",
     "output_type": "stream",
     "text": [
      "1 2 5 6\n"
     ]
    }
   ],
   "source": [
    "example_func(1,2,thatParam = 6, param2=5)"
   ]
  },
  {
   "cell_type": "code",
   "execution_count": 48,
   "metadata": {
    "nbgrader": {
     "grade": false,
     "locked": true,
     "solution": false
    }
   },
   "outputs": [
    {
     "name": "stdout",
     "output_type": "stream",
     "text": [
      "1 2 10 6\n"
     ]
    }
   ],
   "source": [
    "l = [1,2]\n",
    "p_dict = {\"thatParam\":6, \"param2\":10}\n",
    "example_func(*l, **p_dict)"
   ]
  },
  {
   "cell_type": "code",
   "execution_count": 49,
   "metadata": {
    "nbgrader": {
     "grade": false,
     "locked": true,
     "solution": false
    }
   },
   "outputs": [
    {
     "ename": "SyntaxError",
     "evalue": "iterable argument unpacking follows keyword argument unpacking (<ipython-input-49-bc35c0370312>, line 2)",
     "output_type": "error",
     "traceback": [
      "\u001b[0;36m  File \u001b[0;32m\"<ipython-input-49-bc35c0370312>\"\u001b[0;36m, line \u001b[0;32m2\u001b[0m\n\u001b[0;31m    example_func(**p_dict, *l)\u001b[0m\n\u001b[0m                          ^\u001b[0m\n\u001b[0;31mSyntaxError\u001b[0m\u001b[0;31m:\u001b[0m iterable argument unpacking follows keyword argument unpacking\n"
     ]
    }
   ],
   "source": [
    "### Throws SyntaxError\n",
    "example_func(**p_dict, *l)"
   ]
  },
  {
   "cell_type": "markdown",
   "metadata": {
    "nbgrader": {
     "grade": false,
     "locked": true,
     "solution": false
    }
   },
   "source": [
    "#### Question 15"
   ]
  },
  {
   "cell_type": "code",
   "execution_count": 50,
   "metadata": {
    "collapsed": true
   },
   "outputs": [],
   "source": [
    "### GRADED\n",
    "### In which of the following is the \"*\" NOT used in Python?\n",
    "### 'a') multiplication\n",
    "### 'b') exponents\n",
    "### 'c') tuple unpacking\n",
    "### 'd') passing dictionaries into functions as parameters\n",
    "### 'e') if statement syntax\n",
    "### 'f') passing lists into functions for parameter\n",
    "\n",
    "### Assign string associated with your choice to ans1\n",
    "### YOUR ANSWER BELOW\n",
    "\n",
    "ans1 =''"
   ]
  },
  {
   "cell_type": "code",
   "execution_count": 51,
   "metadata": {
    "collapsed": true,
    "nbgrader": {
     "grade": true,
     "grade_id": "Question 15",
     "locked": true,
     "points": "5",
     "solution": false
    }
   },
   "outputs": [],
   "source": [
    "#\n",
    "# AUTOGRADER TEST - DO NOT REMOVE\n",
    "#\n"
   ]
  },
  {
   "cell_type": "markdown",
   "metadata": {
    "nbgrader": {
     "grade": false,
     "locked": true,
     "solution": false
    }
   },
   "source": [
    "<a id = \"comps\"></a>\n",
    "### Dictionary / List Comprehensions\n",
    "\n",
    "A quick, effective and easy way of building lists or dictionaries is using [\"comprehensions\".](https://docs.python.org/3/tutorial/datastructures.html#list-comprehensions) Comprehensions incorporate one (or more) for loops within the creation of a list."
   ]
  },
  {
   "cell_type": "code",
   "execution_count": 52,
   "metadata": {
    "nbgrader": {
     "grade": false,
     "locked": true,
     "solution": false
    }
   },
   "outputs": [
    {
     "name": "stdout",
     "output_type": "stream",
     "text": [
      "[2, 4, 6, 8]\n"
     ]
    }
   ],
   "source": [
    "list_1 = [1,2,3,4]\n",
    "list_2 = [n*2 for n in list_1]\n",
    "print(list_2)"
   ]
  },
  {
   "cell_type": "markdown",
   "metadata": {
    "nbgrader": {
     "grade": false,
     "locked": true,
     "solution": false
    }
   },
   "source": [
    "Comprehensions can also incorporate one or more if/else clauses (elif is not used in comprehensions) either as filters or as switches:"
   ]
  },
  {
   "cell_type": "code",
   "execution_count": 53,
   "metadata": {
    "nbgrader": {
     "grade": false,
     "locked": true,
     "solution": false
    }
   },
   "outputs": [
    {
     "name": "stdout",
     "output_type": "stream",
     "text": [
      "[8, 16, 24, 32]\n",
      "[2, 8, 6, 32, 10, 24, 14, 64, 18]\n"
     ]
    }
   ],
   "source": [
    "l1 = [2,4,6,8,10,12,14,16,18]\n",
    "\n",
    "# if as a filter:\n",
    "# Only adding to list if conditional is true\n",
    "l2 = [n*2 for n in l1 if n%4 == 0]\n",
    "print(l2)\n",
    "\n",
    "# if/else as switch\n",
    "# Always adding to list, if/else determines how it is added\n",
    "l3 = [n*4 if n % 8 ==0 else n*2 if n% 4 ==0 else n for n in l1 ]\n",
    "print(l3)"
   ]
  },
  {
   "cell_type": "markdown",
   "metadata": {
    "nbgrader": {
     "grade": false,
     "locked": true,
     "solution": false
    }
   },
   "source": [
    "As shown above, when filtering in list comprehensions, the `<if>` statment comes after the `<for>` statement. When using the `<if/else/...>` as a switch, the statements come before the `<for>` statment.  \n",
    "\n",
    "Dictionaries can be constructed in a similar manner."
   ]
  },
  {
   "cell_type": "code",
   "execution_count": 54,
   "metadata": {
    "nbgrader": {
     "grade": false,
     "locked": true,
     "solution": false
    }
   },
   "outputs": [
    {
     "name": "stdout",
     "output_type": "stream",
     "text": [
      "{'strings,': 8, 'quick': 'QUICK', 'a': 'A', 'brown': 'BROWN', 'This': 4, 'unique': 6, 'is': 2, 'fox.': 4, 'list': 4, 'said': 4, 'the': 'THE', 'of': 2}\n"
     ]
    }
   ],
   "source": [
    "string1 = \"This is a list of unique strings, said the quick brown fox.\"\n",
    "list1 = string1.split(\" \")\n",
    "\n",
    "### ensure there are no duplicate strings by using a `set`\n",
    "list1 = list(set(list1))\n",
    "\n",
    "### Dictionary comprehension\n",
    "dict1 = {s : len(s) if len(s) % 2 == 0 else s.upper() for s in list1}\n",
    "print(dict1)"
   ]
  },
  {
   "cell_type": "markdown",
   "metadata": {
    "nbgrader": {
     "grade": false,
     "locked": true,
     "solution": false
    }
   },
   "source": [
    "As shown above, dictionaries are useful when the result of a specific function or functions (particularly if they are long-running functions) need to be associated with a particular object. Again if/[else] clauses can be used as a filter / switch.  \n",
    "\n",
    "#### Question 16"
   ]
  },
  {
   "cell_type": "code",
   "execution_count": 55,
   "metadata": {
    "collapsed": true,
    "nbgrader": {
     "grade": false,
     "grade_id": "comp1",
     "locked": false,
     "points": "10",
     "solution": false
    }
   },
   "outputs": [],
   "source": [
    "### GRADED\n",
    "### Code a function called \"divisible_by_3\"\n",
    "### ACCEPT a list of numbers (int or float) as input\n",
    "### RETURN a list of all the numbers in that list that are divisible by 3, multiplied by 2.\n",
    "### e.g. [1,2,3,4,5,6] as input should yield [6,12]\n",
    "\n",
    "### ### Preferably use a list comprehension\n",
    "\n",
    "### YOUR ANSWER BELOW\n",
    "\n",
    "\n",
    "def divisible_by_3(input_list):\n",
    "    \"\"\"\n",
    "    Return all of the numbers that were divisible by 3 multiplied by 2\n",
    "    \n",
    "    Positional Arguments:\n",
    "        input_list -- A list of numbers, floats or ints\n",
    "    \n",
    "    Example:\n",
    "        num_list = [1,4,5,6,7,8,2,9,3,3,6,9]\n",
    "        print(divisible_by_3(num_list)) #--> [12, 18, 6, 6, 12, 18]\n",
    "            \n",
    "    \"\"\"\n",
    "    return []"
   ]
  },
  {
   "cell_type": "code",
   "execution_count": 56,
   "metadata": {
    "collapsed": true,
    "nbgrader": {
     "grade": true,
     "grade_id": "Question 16",
     "locked": true,
     "points": "10",
     "solution": false
    }
   },
   "outputs": [],
   "source": [
    "#\n",
    "# AUTOGRADER TEST - DO NOT REMOVE\n",
    "#\n"
   ]
  },
  {
   "cell_type": "markdown",
   "metadata": {
    "nbgrader": {
     "grade": false,
     "locked": true,
     "solution": false
    }
   },
   "source": [
    "<a id = \"review\"></a>\n",
    "### Review\n",
    "#### Question 17"
   ]
  },
  {
   "cell_type": "code",
   "execution_count": 57,
   "metadata": {
    "collapsed": true
   },
   "outputs": [],
   "source": [
    "### GRADED\n",
    "### Code a function called \"final_element\"\n",
    "### ACCEPT a nested list as an input.\n",
    "### Input will be in the format [[1,2,3,...,n],[4,5,6,...,n],...,['x','y','z',...,n-1,'q']]\n",
    "### More specifically, \"m\" lists, all of \"n\" elements, will be contained in the nested list\n",
    "\n",
    "### RETURN the final element in the final list from that nested list.\n",
    "### In the above example, that would be the string 'q'.\n",
    "\n",
    "### YOUR ANSWER BELOW\n",
    "\n",
    "def final_element(input_nested_list):\n",
    "    \"\"\"\n",
    "    Return the final element in the final list of the input\n",
    "    \n",
    "    Positional Argument:\n",
    "        input_nested_list - a list containing \"m\" lists,\n",
    "            each of which has \"n\" elements\n",
    "    \n",
    "    Example:\n",
    "        nested = [[1,2,3],[4,5,6],[7,8,\"a\"]]\n",
    "        print(final_element(nested)) #--> 'a'\n",
    "    \n",
    "    \"\"\"\n",
    "    return ''"
   ]
  },
  {
   "cell_type": "code",
   "execution_count": 58,
   "metadata": {
    "collapsed": true,
    "nbgrader": {
     "grade": true,
     "grade_id": "Question 17",
     "locked": true,
     "points": "15",
     "solution": false
    }
   },
   "outputs": [],
   "source": [
    "#\n",
    "# AUTOGRADER TEST - DO NOT REMOVE\n",
    "#\n"
   ]
  },
  {
   "cell_type": "markdown",
   "metadata": {
    "nbgrader": {
     "grade": false,
     "locked": true,
     "solution": false
    }
   },
   "source": [
    "#### Question 18"
   ]
  },
  {
   "cell_type": "code",
   "execution_count": 59,
   "metadata": {
    "collapsed": true
   },
   "outputs": [],
   "source": [
    "### GRADED\n",
    "### A tuple is:\n",
    "### 'a') immutable\n",
    "### 'b') mutable\n",
    "\n",
    "### assign string associated with your choice to ans1\n",
    "### YOUR ANSWER BELOW\n",
    "\n",
    "ans1 = ''"
   ]
  },
  {
   "cell_type": "code",
   "execution_count": 60,
   "metadata": {
    "collapsed": true,
    "nbgrader": {
     "grade": true,
     "grade_id": "Question 18",
     "locked": true,
     "points": "5",
     "solution": false
    }
   },
   "outputs": [],
   "source": [
    "#\n",
    "# AUTOGRADER TEST - DO NOT REMOVE\n",
    "#\n"
   ]
  },
  {
   "cell_type": "markdown",
   "metadata": {
    "nbgrader": {
     "grade": false,
     "locked": true,
     "solution": false
    }
   },
   "source": [
    "#### Question 19"
   ]
  },
  {
   "cell_type": "code",
   "execution_count": 61,
   "metadata": {
    "collapsed": true
   },
   "outputs": [],
   "source": [
    "### GRADED\n",
    "### Assume `my_dict` is a dictionary.\n",
    "### True or False:\n",
    "### my_dict[0] will return the first element of `my_dict\n",
    "\n",
    "### Assign boolean choice to ans1\n",
    "### YOUR ANSWER BELOW\n",
    "\n",
    "ans1 = ''"
   ]
  },
  {
   "cell_type": "code",
   "execution_count": 62,
   "metadata": {
    "collapsed": true,
    "nbgrader": {
     "grade": true,
     "grade_id": "Question 19",
     "locked": true,
     "points": "5",
     "solution": false
    }
   },
   "outputs": [],
   "source": [
    "#\n",
    "# AUTOGRADER TEST - DO NOT REMOVE\n",
    "#\n"
   ]
  },
  {
   "cell_type": "markdown",
   "metadata": {
    "nbgrader": {
     "grade": false,
     "locked": true,
     "solution": false
    }
   },
   "source": [
    "#### Question 20"
   ]
  },
  {
   "cell_type": "code",
   "execution_count": 63,
   "metadata": {
    "collapsed": true
   },
   "outputs": [],
   "source": [
    "### GRADED\n",
    "### True or False:\n",
    "### A key can be used multiple times in a dictionary.\n",
    "\n",
    "### assign boolean choice to ans1\n",
    "### YOUR ANSWER BELOW\n",
    "\n",
    "ans1 = ''"
   ]
  },
  {
   "cell_type": "code",
   "execution_count": 64,
   "metadata": {
    "collapsed": true,
    "nbgrader": {
     "grade": true,
     "grade_id": "Question 20",
     "locked": true,
     "points": "5",
     "solution": false
    }
   },
   "outputs": [],
   "source": [
    "#\n",
    "# AUTOGRADER TEST - DO NOT REMOVE\n",
    "#\n"
   ]
  },
  {
   "cell_type": "markdown",
   "metadata": {
    "nbgrader": {
     "grade": false,
     "locked": true,
     "solution": false
    }
   },
   "source": [
    "<a id = \"pass-fun\"></a>\n",
    "#### Passing Functions\n",
    "For a final demonstration, I want to look at the nature of functions.  \n",
    "\n",
    "Like ints, strings, lists, dictionarys, and everything else in `Python`, funcions are objects. This means functions can be passed around like other objects, and can also be called afterwards.  \n",
    "\n",
    "\n",
    "-------------------------------------\n",
    "\n",
    "\n",
    "The programming exercise \"FizzBuzz\" asks the following: Given a list of numbers, if a number is divisible by 3 print 'Fizz'. If a number is divizible by 5, print 'Buzz'. If it is divisible by both 3 and 5, print 'FizzBuzz'.  \n",
    "\n",
    "Below I have defined two trivial functions that return the string 'Fizz' given any input, and onther that returns 'Buzz,' given any input. They are saved in a dictionary with 3, and 5 as their keys."
   ]
  },
  {
   "cell_type": "code",
   "execution_count": 65,
   "metadata": {
    "nbgrader": {
     "grade": false,
     "locked": true,
     "solution": false
    }
   },
   "outputs": [
    {
     "name": "stdout",
     "output_type": "stream",
     "text": [
      "FizzBuzz\n",
      "1\n",
      "2\n",
      "Fizz\n",
      "4\n",
      "Buzz\n",
      "Fizz\n",
      "7\n",
      "8\n",
      "Fizz\n",
      "Buzz\n",
      "11\n",
      "Fizz\n",
      "13\n",
      "14\n",
      "FizzBuzz\n",
      "16\n",
      "17\n",
      "Fizz\n",
      "19\n",
      "Buzz\n",
      "Fizz\n",
      "22\n",
      "23\n",
      "Fizz\n",
      "Buzz\n",
      "26\n",
      "Fizz\n",
      "28\n",
      "29\n",
      "FizzBuzz\n"
     ]
    }
   ],
   "source": [
    "def three_func(n):\n",
    "    return 'Fizz'\n",
    "\n",
    "def five_func(n):\n",
    "    return 'Buzz'\n",
    "\n",
    "func_dict = {3:three_func, 5:five_func}\n",
    "\n",
    "# For all numbers, 0 to 30\n",
    "for n in range(31):\n",
    "    # Start with empty string\n",
    "    toPrint = ''\n",
    "    \n",
    "    # For each key in the \"func_dict\"\n",
    "    for k in sorted(list(func_dict.keys())):\n",
    "        \n",
    "        # If number is divisible by the key\n",
    "        if n % k == 0:\n",
    "            \n",
    "            # Call the associated function\n",
    "            # Note how the function is called: func_dict[k](n)\n",
    "            toPrint += func_dict[k](n)\n",
    "    \n",
    "    # if toPrint has not been updated, print the number\n",
    "    if toPrint == '':\n",
    "        print(n)\n",
    "    else:\n",
    "        print(toPrint)"
   ]
  },
  {
   "cell_type": "markdown",
   "metadata": {},
   "source": [
    "#### Question 21"
   ]
  },
  {
   "cell_type": "code",
   "execution_count": 66,
   "metadata": {
    "collapsed": true
   },
   "outputs": [],
   "source": [
    "### GRADED\n",
    "### Code a function called \"apply_functions\"\n",
    "\n",
    "### ACCEPT two lists as inputs:\n",
    "### The first list will be a list of iterables\n",
    "### The second list will be some subset of the functions <len>, <sum>, and <type>\n",
    "\n",
    "### RETURN a list of the same length as the first list, where every element in that list\n",
    "### is a *tuple* which has had the functions from the second list applied on them.\n",
    "\n",
    "### e.g. if the lists are [(1,2),[3,4]], and [len, sum, type] The return should be:\n",
    "### [(2,3,tuple),(2,7,list)].\n",
    "### Note the tuples are in the order of (length, sum, type); the same order as the passed functions\n",
    "\n",
    "### YOUR ANSWER BELOW\n",
    "\n",
    "def apply_functions(list_of_objs, list_of_funcs):\n",
    "    \"\"\"\n",
    "    Return a list where all the functions in the second argument\n",
    "    have been applied to the elements of the first argument\n",
    "    \n",
    "    Positional Arguments:\n",
    "    list_of_objs -- A list of objects (lists and/ or tuples)\n",
    "    list_of_funcs -- A list of functions that may be applied to the\n",
    "        objects of the first argument\n",
    "        \n",
    "    Example:\n",
    "        objs = [(1,2),[1,3,4,5,6,7],[0]]\n",
    "        funcs = [len,sum]\n",
    "        print(apply_functions(objs, funcs))\n",
    "        #--> [(2, 3), (6, 26), (1, 0)]\n",
    "    \"\"\"\n",
    "    return []"
   ]
  },
  {
   "cell_type": "code",
   "execution_count": 67,
   "metadata": {
    "collapsed": true,
    "nbgrader": {
     "grade": true,
     "grade_id": "Question 21",
     "locked": true,
     "points": "15",
     "solution": false
    }
   },
   "outputs": [],
   "source": [
    "#\n",
    "# AUTOGRADER TEST - DO NOT REMOVE\n",
    "#\n"
   ]
  },
  {
   "cell_type": "code",
   "execution_count": null,
   "metadata": {
    "collapsed": true
   },
   "outputs": [],
   "source": []
  },
  {
   "cell_type": "code",
   "execution_count": null,
   "metadata": {
    "collapsed": true
   },
   "outputs": [],
   "source": []
  }
 ],
 "metadata": {
  "kernelspec": {
   "display_name": "Python 3",
   "language": "python",
   "name": "python3"
  },
  "language_info": {
   "codemirror_mode": {
    "name": "ipython",
    "version": 3
   },
   "file_extension": ".py",
   "mimetype": "text/x-python",
   "name": "python",
   "nbconvert_exporter": "python",
   "pygments_lexer": "ipython3",
   "version": "3.7.1"
  }
 },
 "nbformat": 4,
 "nbformat_minor": 2
}
