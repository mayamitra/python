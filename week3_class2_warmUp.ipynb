{
 "cells": [
  {
   "cell_type": "markdown",
   "metadata": {},
   "source": [
    "# Warm Up"
   ]
  },
  {
   "cell_type": "code",
   "execution_count": 3,
   "metadata": {},
   "outputs": [
    {
     "name": "stdout",
     "output_type": "stream",
     "text": [
      "What is your name? Vincent\n",
      "Hi Dad!\n"
     ]
    }
   ],
   "source": [
    "def family():\n",
    "    name = input(\"What is your name? \")\n",
    "    if name == \"Violintina\":\n",
    "        return \"Hi Mom!\"\n",
    "    elif name == \"Vincent\":\n",
    "        return \"Hi Dad!\"\n",
    "    elif name == \"Valentino\":\n",
    "        return \"Hi Nephew!\"\n",
    "    else:\n",
    "        return \"Do I know you?\"\n",
    "\n",
    "print(family())"
   ]
  },
  {
   "cell_type": "code",
   "execution_count": 10,
   "metadata": {},
   "outputs": [
    {
     "name": "stdout",
     "output_type": "stream",
     "text": [
      "7 <class 'int'>\n",
      "s <class 'str'>\n",
      "True <class 'bool'>\n",
      "11.2 <class 'float'>\n"
     ]
    }
   ],
   "source": [
    "def obj_and_type(list_input):\n",
    "    for obj in a:\n",
    "        print(obj, type(obj))\n",
    "        #return(obj, type(obj))  \n",
    "        #RETURN STATEMENT IS A ONE TIME DEAL (will only print the first item), WHILE PRINT GOES THROUGH THE WHOLE LIST\n",
    "\n",
    "L1 = [7, \"s\", True, 11.2]\n",
    "# could also be a tuple (AKA a list using ( ) not [ ] )\n",
    "obj_and_type(L1)"
   ]
  },
  {
   "cell_type": "code",
   "execution_count": 21,
   "metadata": {},
   "outputs": [
    {
     "name": "stdout",
     "output_type": "stream",
     "text": [
      "7 <class 'int'>\n",
      "s <class 'str'>\n",
      "True <class 'bool'>\n",
      "11.2 <class 'float'>\n"
     ]
    }
   ],
   "source": [
    "#CAN ALSO DO THE ABOVE PROBLEM USING A WHILE LOOP INSTEAD OF A FOR LOOP\n",
    "\n",
    "def obj_and_type(list_input):\n",
    "    count = 0\n",
    "    while count < len(list_input):\n",
    "        item = list_input[count]\n",
    "        print(item, type(item))\n",
    "        count += 1\n",
    "        \n",
    "L1 = [7, \"s\", True, 11.2]\n",
    "obj_and_type(L1)"
   ]
  },
  {
   "cell_type": "code",
   "execution_count": 26,
   "metadata": {},
   "outputs": [
    {
     "name": "stdout",
     "output_type": "stream",
     "text": [
      "7 , int\n",
      "s , str\n",
      "True , bool\n",
      "11.2 , float\n"
     ]
    }
   ],
   "source": [
    "#CAN ALSO DO IT LIKE THIS\n",
    "def obj_and_type(list_input):\n",
    "    for obj in a:\n",
    "        if type(obj) == int:\n",
    "            b = \"int\"\n",
    "        elif type(obj) == str:\n",
    "            b = \"str\"\n",
    "        elif type(obj) == float:\n",
    "            b = \"float\"\n",
    "        elif type(obj) == bool:\n",
    "            b = \"bool\"\n",
    "        else:\n",
    "            b = \"other\"\n",
    "        print(obj, \",\", b)\n",
    "\n",
    "L1 = [7, \"s\", True, 11.2]\n",
    "obj_and_type(L1)"
   ]
  },
  {
   "cell_type": "code",
   "execution_count": null,
   "metadata": {},
   "outputs": [],
   "source": []
  }
 ],
 "metadata": {
  "kernelspec": {
   "display_name": "Python 3",
   "language": "python",
   "name": "python3"
  },
  "language_info": {
   "codemirror_mode": {
    "name": "ipython",
    "version": 3
   },
   "file_extension": ".py",
   "mimetype": "text/x-python",
   "name": "python",
   "nbconvert_exporter": "python",
   "pygments_lexer": "ipython3",
   "version": "3.7.1"
  }
 },
 "nbformat": 4,
 "nbformat_minor": 2
}
