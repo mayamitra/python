{
 "cells": [
  {
   "cell_type": "markdown",
   "metadata": {},
   "source": [
    "# Classifying Text\n",
    "\n",
    "- Checkin on Reddit Posts\n",
    "- Codealong on text classification using `20_newsgroups`\n",
    "- Independent work on reddit classification"
   ]
  },
  {
   "cell_type": "code",
   "execution_count": 1,
   "metadata": {},
   "outputs": [],
   "source": [
    "#load in the newsgroups dataset\n",
    "from sklearn.datasets import fetch_20newsgroups"
   ]
  },
  {
   "cell_type": "code",
   "execution_count": 5,
   "metadata": {},
   "outputs": [],
   "source": [
    "#download and fetch newsgroup data\n",
    "#here I limit this to two groups -- auto and motorcycles\n",
    "news = fetch_20newsgroups(categories = ['rec.autos', 'rec.motorcycles'])"
   ]
  },
  {
   "cell_type": "code",
   "execution_count": 6,
   "metadata": {},
   "outputs": [
    {
     "data": {
      "text/plain": [
       "'From: gregl@zimmer.CSUFresno.EDU (Greg Lewis)\\nSubject: Re: WARNING.....(please read)...\\nKeywords: BRICK, TRUCK, DANGER\\nNntp-Posting-Host: zimmer.csufresno.edu\\nOrganization: CSU Fresno\\nLines: 33\\n\\nIn article <1qh336INNfl5@CS.UTK.EDU> larose@austin.cs.utk.edu (Brian LaRose) writes:\\n>This just a warning to EVERYBODY on the net.  Watch out for\\n>folks standing NEXT to the road or on overpasses.   They can\\n>cause SERIOUS HARM to you and your car.  \\n>\\n>(just a cliff-notes version of my story follows)\\n>\\n>10pm last night, I was travelling on the interstate here in\\n>knoxville,  I was taking an offramp exit to another interstate\\n>and my wife suddenly screamed and something LARGE hit the side\\n>of my truck.  We slowed down, but after looking back to see the\\n>vandals standing there, we drove on to the police station.\\n>\\n>She did get a good look at the guy and saw him \"cock his arm\" with\\n>something the size of a cinderblock, BUT I never saw him. We are \\n>VERY lucky the truck sits up high on the road; if it would have hit\\n>her window, it would have killed her. \\n>\\n>The police are looking for the guy, but in all likelyhood he is gone. \\nStuff deleted...\\n\\nI am sorry to report that in Southern California it was a sick sport\\nfor a while to drop concrete blocks from the overpasses onto the\\nfreeway.  Several persons were killed when said blocks came through\\ntheir windshields.  Many overpass bridges are now fenced, and they\\nhave made it illegal to loiter on such bridges (as if that would stop\\nsuch people).  Yet many bridges are NOT fenced.  I always look up at a\\nbridge while I still have time to take evasive action even though this\\n*sport* has not reached us here in Fresno.\\n___________________________________________________________________\\nGreg_Lewis@csufresno.edu\\nPhotojournalism sequence, Department of Journalism\\nCSU Fresno, Fresno, CA 93740\\n'"
      ]
     },
     "execution_count": 6,
     "metadata": {},
     "output_type": "execute_result"
    }
   ],
   "source": [
    "#the first news article\n",
    "news.data[0]"
   ]
  },
  {
   "cell_type": "code",
   "execution_count": 8,
   "metadata": {},
   "outputs": [
    {
     "data": {
      "text/plain": [
       "array([0, 1, 1, 0, 0, 1, 1, 0, 0, 1])"
      ]
     },
     "execution_count": 8,
     "metadata": {},
     "output_type": "execute_result"
    }
   ],
   "source": [
    "#labels of data are 0 for auto and 1 for motorcycle\n",
    "news.target[:10]"
   ]
  },
  {
   "cell_type": "code",
   "execution_count": 69,
   "metadata": {},
   "outputs": [
    {
     "name": "stdout",
     "output_type": "stream",
     "text": [
      "From: cjackson@adobe.com (Curtis Jackson)\n",
      "Subject: Tracing license plates of BDI cagers?\n",
      "Article-I.D.: adobe.1993Apr6.184204.26184\n",
      "Organization: Adobe Systems Incorporated, Mountain View\n",
      "Lines: 24\n",
      "\n",
      "This morning a truck that had been within my sight (and I within\n",
      "his) for about 3 miles suddenly forgot that I existed and pulled\n",
      "over right on me -- my front wheel was about even with the back\n",
      "edge of his front passenger door as I was accelerating past him.\n",
      "\n",
      "It was trivial enough for me to tap the brakes and slide behind him\n",
      "as he slewed over (with no signal, of course) on top of me, with\n",
      "my little horn blaring (damn, I need Fiamms!), but the satisfaction\n",
      "of being aware of my surroundings and thus surviving was not enough,\n",
      "especially when I later pulled up alongside the bastard and he made\n",
      "no apologetic wave or anything.\n",
      "\n",
      "Is there some way that I can memorize the license plate of an\n",
      "offending vehicle and get the name and address of the owner?\n",
      "I'm not going to firebomb houses or anything, I'd just like to\n",
      "write a consciousness-raising letter or two. I think that it would\n",
      "be good for BDI cagers to know that We Know Where They Live.\n",
      "Maybe they'd use 4 or 5 brain cells while driving instead of the\n",
      "usual 3.\n",
      "-- \n",
      "Curtis Jackson\t   cjackson@mv.us.adobe.com\t'91 Hawk GT\t'81 Maxim 650\n",
      "DoD#0721 KotB  '91 Black Lab mix \"Studley Doright\"  '92 Collie/Golden \"George\"\n",
      "\"There is no justification for taking away individuals' freedom\n",
      " in the guise of public safety.\" -- Thomas Jefferson\n",
      "\n"
     ]
    }
   ],
   "source": [
    "print(news.data[1])"
   ]
  },
  {
   "cell_type": "markdown",
   "metadata": {},
   "source": [
    "### CountVectorizer\n",
    "\n",
    "We will use the `CountVectorizer` to import our data and turn it into numerical features for our model.  "
   ]
  },
  {
   "cell_type": "code",
   "execution_count": 70,
   "metadata": {},
   "outputs": [
    {
     "data": {
      "text/html": [
       "<div>\n",
       "<style scoped>\n",
       "    .dataframe tbody tr th:only-of-type {\n",
       "        vertical-align: middle;\n",
       "    }\n",
       "\n",
       "    .dataframe tbody tr th {\n",
       "        vertical-align: top;\n",
       "    }\n",
       "\n",
       "    .dataframe thead th {\n",
       "        text-align: right;\n",
       "    }\n",
       "</style>\n",
       "<table border=\"1\" class=\"dataframe\">\n",
       "  <thead>\n",
       "    <tr style=\"text-align: right;\">\n",
       "      <th></th>\n",
       "      <th>0</th>\n",
       "      <th>1</th>\n",
       "    </tr>\n",
       "  </thead>\n",
       "  <tbody>\n",
       "    <tr>\n",
       "      <th>and</th>\n",
       "      <td>1</td>\n",
       "      <td>0</td>\n",
       "    </tr>\n",
       "    <tr>\n",
       "      <th>and wants</th>\n",
       "      <td>1</td>\n",
       "      <td>0</td>\n",
       "    </tr>\n",
       "    <tr>\n",
       "      <th>and wants nachos</th>\n",
       "      <td>1</td>\n",
       "      <td>0</td>\n",
       "    </tr>\n",
       "    <tr>\n",
       "      <th>does</th>\n",
       "      <td>0</td>\n",
       "      <td>1</td>\n",
       "    </tr>\n",
       "    <tr>\n",
       "      <th>does not</th>\n",
       "      <td>0</td>\n",
       "      <td>1</td>\n",
       "    </tr>\n",
       "  </tbody>\n",
       "</table>\n",
       "</div>"
      ],
      "text/plain": [
       "                  0  1\n",
       "and               1  0\n",
       "and wants         1  0\n",
       "and wants nachos  1  0\n",
       "does              0  1\n",
       "does not          0  1"
      ]
     },
     "execution_count": 70,
     "metadata": {},
     "output_type": "execute_result"
    }
   ],
   "source": [
    "from sklearn.feature_extraction.text import CountVectorizer, TfidfVectorizer\n",
    "#create a countvectorizer with ngram_range = (1, 3)\n",
    "\n",
    "cvect = CountVectorizer(ngram_range=(1,3))\n",
    "\n",
    "\n",
    "a = 'Jacob is tired and wants nachos. I would prefer veggie nachos.'\n",
    "b = 'Erika does not eat nachos usually. Tino is into them.'\n",
    "\n",
    "X = cvect.fit_transform([a, b])\n",
    "\n",
    "cvect.get_feature_names()\n",
    "\n",
    "import numpy as np\n",
    "import pandas as pd\n",
    "pd.DataFrame(X.toarray(), columns = cvect.get_feature_names()).T.head()"
   ]
  },
  {
   "cell_type": "code",
   "execution_count": 71,
   "metadata": {},
   "outputs": [],
   "source": [
    "#create variables for our datasets\n",
    "X = news.data\n",
    "y = news.target"
   ]
  },
  {
   "cell_type": "code",
   "execution_count": 43,
   "metadata": {},
   "outputs": [],
   "source": [
    "# We need a model\n",
    "from sklearn.linear_model import LogisticRegression"
   ]
  },
  {
   "cell_type": "code",
   "execution_count": 44,
   "metadata": {},
   "outputs": [],
   "source": [
    "# instantiate the Logistic Regressor model and CountVectorizer\n",
    "cvect = CountVectorizer()\n",
    "lgr = LogisticRegression()"
   ]
  },
  {
   "cell_type": "code",
   "execution_count": 45,
   "metadata": {},
   "outputs": [],
   "source": [
    "# Training and Testing Split\n",
    "from sklearn.model_selection import train_test_split\n",
    "X_train, X_test, y_train, y_test = train_test_split(X, y)"
   ]
  },
  {
   "cell_type": "code",
   "execution_count": 48,
   "metadata": {},
   "outputs": [
    {
     "data": {
      "text/plain": [
       "(894, 298)"
      ]
     },
     "execution_count": 48,
     "metadata": {},
     "output_type": "execute_result"
    }
   ],
   "source": [
    "len(X_train), len(X_test)"
   ]
  },
  {
   "cell_type": "code",
   "execution_count": 50,
   "metadata": {},
   "outputs": [],
   "source": [
    "# We need to train\n",
    "X_vect_train = cvect.fit_transform(X_train)\n",
    "X_vect_test = cvect.transform(X_test)"
   ]
  },
  {
   "cell_type": "code",
   "execution_count": 51,
   "metadata": {},
   "outputs": [
    {
     "name": "stderr",
     "output_type": "stream",
     "text": [
      "/anaconda3/lib/python3.6/site-packages/sklearn/linear_model/logistic.py:433: FutureWarning: Default solver will be changed to 'lbfgs' in 0.22. Specify a solver to silence this warning.\n",
      "  FutureWarning)\n"
     ]
    },
    {
     "data": {
      "text/plain": [
       "LogisticRegression(C=1.0, class_weight=None, dual=False, fit_intercept=True,\n",
       "          intercept_scaling=1, max_iter=100, multi_class='warn',\n",
       "          n_jobs=None, penalty='l2', random_state=None, solver='warn',\n",
       "          tol=0.0001, verbose=0, warm_start=False)"
      ]
     },
     "execution_count": 51,
     "metadata": {},
     "output_type": "execute_result"
    }
   ],
   "source": [
    "lgr.fit(X_vect_train, y_train)"
   ]
  },
  {
   "cell_type": "code",
   "execution_count": 52,
   "metadata": {},
   "outputs": [
    {
     "data": {
      "text/plain": [
       "0.9429530201342282"
      ]
     },
     "execution_count": 52,
     "metadata": {},
     "output_type": "execute_result"
    }
   ],
   "source": [
    "# We need to evaluate\n",
    "lgr.score(X_vect_test, y_test)"
   ]
  },
  {
   "cell_type": "code",
   "execution_count": 53,
   "metadata": {},
   "outputs": [],
   "source": [
    "%matplotlib inline\n",
    "import matplotlib.pyplot as plt"
   ]
  },
  {
   "cell_type": "code",
   "execution_count": 54,
   "metadata": {},
   "outputs": [
    {
     "data": {
      "text/plain": [
       "array([[ 7.28213033e-02, -7.70455190e-02,  7.87672240e-03, ...,\n",
       "         4.22154482e-03,  2.95518736e-03, -2.30833478e-06]])"
      ]
     },
     "execution_count": 54,
     "metadata": {},
     "output_type": "execute_result"
    }
   ],
   "source": [
    "lgr.coef_"
   ]
  },
  {
   "cell_type": "code",
   "execution_count": 56,
   "metadata": {},
   "outputs": [],
   "source": [
    "#a DataFrame containing the important words\n",
    "important_words = pd.DataFrame({'word': cvect.get_feature_names(), 'coef': lgr.coef_[0]})"
   ]
  },
  {
   "cell_type": "code",
   "execution_count": 57,
   "metadata": {},
   "outputs": [
    {
     "data": {
      "text/html": [
       "<div>\n",
       "<style scoped>\n",
       "    .dataframe tbody tr th:only-of-type {\n",
       "        vertical-align: middle;\n",
       "    }\n",
       "\n",
       "    .dataframe tbody tr th {\n",
       "        vertical-align: top;\n",
       "    }\n",
       "\n",
       "    .dataframe thead th {\n",
       "        text-align: right;\n",
       "    }\n",
       "</style>\n",
       "<table border=\"1\" class=\"dataframe\">\n",
       "  <thead>\n",
       "    <tr style=\"text-align: right;\">\n",
       "      <th></th>\n",
       "      <th>word</th>\n",
       "      <th>coef</th>\n",
       "    </tr>\n",
       "  </thead>\n",
       "  <tbody>\n",
       "    <tr>\n",
       "      <th>0</th>\n",
       "      <td>00</td>\n",
       "      <td>0.072821</td>\n",
       "    </tr>\n",
       "    <tr>\n",
       "      <th>1</th>\n",
       "      <td>000</td>\n",
       "      <td>-0.077046</td>\n",
       "    </tr>\n",
       "    <tr>\n",
       "      <th>2</th>\n",
       "      <td>0000</td>\n",
       "      <td>0.007877</td>\n",
       "    </tr>\n",
       "    <tr>\n",
       "      <th>3</th>\n",
       "      <td>0000000004</td>\n",
       "      <td>0.020265</td>\n",
       "    </tr>\n",
       "    <tr>\n",
       "      <th>4</th>\n",
       "      <td>0000000005</td>\n",
       "      <td>0.049283</td>\n",
       "    </tr>\n",
       "  </tbody>\n",
       "</table>\n",
       "</div>"
      ],
      "text/plain": [
       "         word      coef\n",
       "0          00  0.072821\n",
       "1         000 -0.077046\n",
       "2        0000  0.007877\n",
       "3  0000000004  0.020265\n",
       "4  0000000005  0.049283"
      ]
     },
     "execution_count": 57,
     "metadata": {},
     "output_type": "execute_result"
    }
   ],
   "source": [
    "important_words.head()"
   ]
  },
  {
   "cell_type": "code",
   "execution_count": 62,
   "metadata": {},
   "outputs": [],
   "source": [
    "#largest importance\n",
    "large = important_words.nlargest(5, 'coef')"
   ]
  },
  {
   "cell_type": "code",
   "execution_count": 72,
   "metadata": {},
   "outputs": [],
   "source": [
    "#smallest importance\n",
    "small = important_words.nsmallest(5, 'coef')"
   ]
  },
  {
   "cell_type": "code",
   "execution_count": 64,
   "metadata": {},
   "outputs": [],
   "source": [
    "#put together as frame\n",
    "plot_frame = pd.concat([large, small])\n",
    "plot_frame.iloc[:5]"
   ]
  },
  {
   "cell_type": "code",
   "execution_count": 67,
   "metadata": {},
   "outputs": [
    {
     "data": {
      "text/plain": [
       "([0, 1, 2, 3, 4, 5, 6, 7, 8, 9], <a list of 10 Text xticklabel objects>)"
      ]
     },
     "execution_count": 67,
     "metadata": {},
     "output_type": "execute_result"
    },
    {
     "data": {
      "image/png": "[encoded data removed]",
      "text/plain": [
       "<Figure size 1080x432 with 1 Axes>"
      ]
     },
     "metadata": {},
     "output_type": "display_data"
    }
   ],
   "source": [
    "plt.figure(figsize = (15, 6))\n",
    "plt.bar(plot_frame['word'], plot_frame['coef'])\n",
    "plt.xticks(rotation = 90)"
   ]
  },
  {
   "cell_type": "markdown",
   "metadata": {},
   "source": [
    "### Getting Reddit Posts"
   ]
  },
  {
   "cell_type": "code",
   "execution_count": 228,
   "metadata": {},
   "outputs": [],
   "source": [
    "import praw\n",
    "\n",
    "reddit = praw.Reddit(client_id='',\n",
    "                     client_secret='',\n",
    "                     user_agent='stever')\n",
    "\n",
    "import pandas as pd\n",
    "authors = []\n",
    "titles = []\n",
    "comments = []\n",
    "for submission in reddit.subreddit('math').hot(limit=1000):\n",
    "    authors.append(submission.author)\n",
    "    titles.append(submission.title)\n",
    "    comments.append(submission.comments)"
   ]
  },
  {
   "cell_type": "code",
   "execution_count": null,
   "metadata": {},
   "outputs": [],
   "source": []
  },
  {
   "cell_type": "code",
   "execution_count": null,
   "metadata": {},
   "outputs": [],
   "source": []
  },
  {
   "cell_type": "code",
   "execution_count": 229,
   "metadata": {},
   "outputs": [],
   "source": [
    "df2 = pd.DataFrame({'author': authors, 'title': titles, 'comments': comments})"
   ]
  },
  {
   "cell_type": "code",
   "execution_count": 230,
   "metadata": {},
   "outputs": [
    {
     "data": {
      "text/html": [
       "<div>\n",
       "<style scoped>\n",
       "    .dataframe tbody tr th:only-of-type {\n",
       "        vertical-align: middle;\n",
       "    }\n",
       "\n",
       "    .dataframe tbody tr th {\n",
       "        vertical-align: top;\n",
       "    }\n",
       "\n",
       "    .dataframe thead th {\n",
       "        text-align: right;\n",
       "    }\n",
       "</style>\n",
       "<table border=\"1\" class=\"dataframe\">\n",
       "  <thead>\n",
       "    <tr style=\"text-align: right;\">\n",
       "      <th></th>\n",
       "      <th>author</th>\n",
       "      <th>title</th>\n",
       "      <th>comments</th>\n",
       "    </tr>\n",
       "  </thead>\n",
       "  <tbody>\n",
       "    <tr>\n",
       "      <th>0</th>\n",
       "      <td>AutoModerator</td>\n",
       "      <td>Simple Questions - April 05, 2019</td>\n",
       "      <td>(ek6psp6, ek7h184, ek7mxfw, ek7z3k7, ek7yrpe, ...</td>\n",
       "    </tr>\n",
       "    <tr>\n",
       "      <th>1</th>\n",
       "      <td>AutoModerator</td>\n",
       "      <td>Career and Education Questions</td>\n",
       "      <td>(ek424bs, ek7tqs9, ek5xita, ek699pn, ek8rm1y, ...</td>\n",
       "    </tr>\n",
       "    <tr>\n",
       "      <th>2</th>\n",
       "      <td>mathstrolls</td>\n",
       "      <td>what is the best advice you received from a ma...</td>\n",
       "      <td>(ek8u3qc, ek90xfl, ek8vrzq, ek8zs6k, ek8ugj4, ...</td>\n",
       "    </tr>\n",
       "    <tr>\n",
       "      <th>3</th>\n",
       "      <td>flexibeast</td>\n",
       "      <td>Chalkdust magazine: \"The scutoid: a geometric ...</td>\n",
       "      <td>(ek8nk3f, ek923w3)</td>\n",
       "    </tr>\n",
       "    <tr>\n",
       "      <th>4</th>\n",
       "      <td>blagaga104</td>\n",
       "      <td>applied mathematics- biology</td>\n",
       "      <td>(ek99l36, ek97opy, ek9cqji, ek98wml, ek9jy05, ...</td>\n",
       "    </tr>\n",
       "  </tbody>\n",
       "</table>\n",
       "</div>"
      ],
      "text/plain": [
       "          author                                              title  \\\n",
       "0  AutoModerator                  Simple Questions - April 05, 2019   \n",
       "1  AutoModerator                     Career and Education Questions   \n",
       "2    mathstrolls  what is the best advice you received from a ma...   \n",
       "3     flexibeast  Chalkdust magazine: \"The scutoid: a geometric ...   \n",
       "4     blagaga104                       applied mathematics- biology   \n",
       "\n",
       "                                            comments  \n",
       "0  (ek6psp6, ek7h184, ek7mxfw, ek7z3k7, ek7yrpe, ...  \n",
       "1  (ek424bs, ek7tqs9, ek5xita, ek699pn, ek8rm1y, ...  \n",
       "2  (ek8u3qc, ek90xfl, ek8vrzq, ek8zs6k, ek8ugj4, ...  \n",
       "3                                 (ek8nk3f, ek923w3)  \n",
       "4  (ek99l36, ek97opy, ek9cqji, ek98wml, ek9jy05, ...  "
      ]
     },
     "execution_count": 230,
     "metadata": {},
     "output_type": "execute_result"
    }
   ],
   "source": [
    "df2.head()"
   ]
  },
  {
   "cell_type": "code",
   "execution_count": 231,
   "metadata": {},
   "outputs": [],
   "source": [
    "df2['reddit'] = 'math'"
   ]
  },
  {
   "cell_type": "code",
   "execution_count": 232,
   "metadata": {},
   "outputs": [],
   "source": [
    "df['reddit'] = 'tacobell'"
   ]
  },
  {
   "cell_type": "code",
   "execution_count": 233,
   "metadata": {},
   "outputs": [
    {
     "data": {
      "text/html": [
       "<div>\n",
       "<style scoped>\n",
       "    .dataframe tbody tr th:only-of-type {\n",
       "        vertical-align: middle;\n",
       "    }\n",
       "\n",
       "    .dataframe tbody tr th {\n",
       "        vertical-align: top;\n",
       "    }\n",
       "\n",
       "    .dataframe thead th {\n",
       "        text-align: right;\n",
       "    }\n",
       "</style>\n",
       "<table border=\"1\" class=\"dataframe\">\n",
       "  <thead>\n",
       "    <tr style=\"text-align: right;\">\n",
       "      <th></th>\n",
       "      <th>author</th>\n",
       "      <th>title</th>\n",
       "      <th>comments</th>\n",
       "      <th>reddit</th>\n",
       "    </tr>\n",
       "  </thead>\n",
       "  <tbody>\n",
       "    <tr>\n",
       "      <th>0</th>\n",
       "      <td>AutoModerator</td>\n",
       "      <td>Simple Questions - April 05, 2019</td>\n",
       "      <td>(ek6psp6, ek7h184, ek7mxfw, ek7z3k7, ek7yrpe, ...</td>\n",
       "      <td>math</td>\n",
       "    </tr>\n",
       "    <tr>\n",
       "      <th>1</th>\n",
       "      <td>AutoModerator</td>\n",
       "      <td>Career and Education Questions</td>\n",
       "      <td>(ek424bs, ek7tqs9, ek5xita, ek699pn, ek8rm1y, ...</td>\n",
       "      <td>math</td>\n",
       "    </tr>\n",
       "    <tr>\n",
       "      <th>2</th>\n",
       "      <td>mathstrolls</td>\n",
       "      <td>what is the best advice you received from a ma...</td>\n",
       "      <td>(ek8u3qc, ek90xfl, ek8vrzq, ek8zs6k, ek8ugj4, ...</td>\n",
       "      <td>math</td>\n",
       "    </tr>\n",
       "    <tr>\n",
       "      <th>3</th>\n",
       "      <td>flexibeast</td>\n",
       "      <td>Chalkdust magazine: \"The scutoid: a geometric ...</td>\n",
       "      <td>(ek8nk3f, ek923w3)</td>\n",
       "      <td>math</td>\n",
       "    </tr>\n",
       "    <tr>\n",
       "      <th>4</th>\n",
       "      <td>blagaga104</td>\n",
       "      <td>applied mathematics- biology</td>\n",
       "      <td>(ek99l36, ek97opy, ek9cqji, ek98wml, ek9jy05, ...</td>\n",
       "      <td>math</td>\n",
       "    </tr>\n",
       "  </tbody>\n",
       "</table>\n",
       "</div>"
      ],
      "text/plain": [
       "          author                                              title  \\\n",
       "0  AutoModerator                  Simple Questions - April 05, 2019   \n",
       "1  AutoModerator                     Career and Education Questions   \n",
       "2    mathstrolls  what is the best advice you received from a ma...   \n",
       "3     flexibeast  Chalkdust magazine: \"The scutoid: a geometric ...   \n",
       "4     blagaga104                       applied mathematics- biology   \n",
       "\n",
       "                                            comments reddit  \n",
       "0  (ek6psp6, ek7h184, ek7mxfw, ek7z3k7, ek7yrpe, ...   math  \n",
       "1  (ek424bs, ek7tqs9, ek5xita, ek699pn, ek8rm1y, ...   math  \n",
       "2  (ek8u3qc, ek90xfl, ek8vrzq, ek8zs6k, ek8ugj4, ...   math  \n",
       "3                                 (ek8nk3f, ek923w3)   math  \n",
       "4  (ek99l36, ek97opy, ek9cqji, ek98wml, ek9jy05, ...   math  "
      ]
     },
     "execution_count": 233,
     "metadata": {},
     "output_type": "execute_result"
    }
   ],
   "source": [
    "df2.head()"
   ]
  },
  {
   "cell_type": "code",
   "execution_count": 234,
   "metadata": {},
   "outputs": [
    {
     "name": "stderr",
     "output_type": "stream",
     "text": [
      "/anaconda3/lib/python3.6/site-packages/ipykernel_launcher.py:1: FutureWarning: Sorting because non-concatenation axis is not aligned. A future version\n",
      "of pandas will change to not sort by default.\n",
      "\n",
      "To accept the future behavior, pass 'sort=False'.\n",
      "\n",
      "To retain the current behavior and silence the warning, pass 'sort=True'.\n",
      "\n",
      "  \"\"\"Entry point for launching an IPython kernel.\n"
     ]
    }
   ],
   "source": [
    "combined = pd.concat([df, df2])"
   ]
  },
  {
   "cell_type": "code",
   "execution_count": 235,
   "metadata": {},
   "outputs": [
    {
     "data": {
      "text/html": [
       "<div>\n",
       "<style scoped>\n",
       "    .dataframe tbody tr th:only-of-type {\n",
       "        vertical-align: middle;\n",
       "    }\n",
       "\n",
       "    .dataframe tbody tr th {\n",
       "        vertical-align: top;\n",
       "    }\n",
       "\n",
       "    .dataframe thead th {\n",
       "        text-align: right;\n",
       "    }\n",
       "</style>\n",
       "<table border=\"1\" class=\"dataframe\">\n",
       "  <thead>\n",
       "    <tr style=\"text-align: right;\">\n",
       "      <th></th>\n",
       "      <th>author</th>\n",
       "      <th>comments</th>\n",
       "      <th>lemmed_titles</th>\n",
       "      <th>reddit</th>\n",
       "      <th>title</th>\n",
       "    </tr>\n",
       "  </thead>\n",
       "  <tbody>\n",
       "    <tr>\n",
       "      <th>0</th>\n",
       "      <td>tacobellblake</td>\n",
       "      <td>NaN</td>\n",
       "      <td>E4 Megathread ( 2019 )</td>\n",
       "      <td>tacobell</td>\n",
       "      <td>E4 Megathread (2019)</td>\n",
       "    </tr>\n",
       "    <tr>\n",
       "      <th>1</th>\n",
       "      <td>Ivypearl</td>\n",
       "      <td>NaN</td>\n",
       "      <td>I am pet sitting for a family that owns 37 Ta...</td>\n",
       "      <td>tacobell</td>\n",
       "      <td>I am pet sitting for a family that owns 37 Tac...</td>\n",
       "    </tr>\n",
       "    <tr>\n",
       "      <th>2</th>\n",
       "      <td>tacobellblake</td>\n",
       "      <td>NaN</td>\n",
       "      <td>I will never forget you , Meximelt</td>\n",
       "      <td>tacobell</td>\n",
       "      <td>I will never forget you, Meximelt</td>\n",
       "    </tr>\n",
       "    <tr>\n",
       "      <th>3</th>\n",
       "      <td>ArnoldSchwarzeneggir</td>\n",
       "      <td>NaN</td>\n",
       "      <td>Homemade Quesaritoooos</td>\n",
       "      <td>tacobell</td>\n",
       "      <td>Homemade Quesaritoooos</td>\n",
       "    </tr>\n",
       "    <tr>\n",
       "      <th>4</th>\n",
       "      <td>bottleonalamp</td>\n",
       "      <td>NaN</td>\n",
       "      <td>My location not only had the new taco , but t...</td>\n",
       "      <td>tacobell</td>\n",
       "      <td>My location not only had the new taco, but thi...</td>\n",
       "    </tr>\n",
       "    <tr>\n",
       "      <th>5</th>\n",
       "      <td>benjaminikuta</td>\n",
       "      <td>NaN</td>\n",
       "      <td>Did you know you could get your Cinnamon Twis...</td>\n",
       "      <td>tacobell</td>\n",
       "      <td>Did you know you could get your Cinnamon Twist...</td>\n",
       "    </tr>\n",
       "    <tr>\n",
       "      <th>6</th>\n",
       "      <td>nicky3123</td>\n",
       "      <td>NaN</td>\n",
       "      <td>Got some taco bell for me and my mom while sh...</td>\n",
       "      <td>tacobell</td>\n",
       "      <td>Got some taco bell for me and my mom while she...</td>\n",
       "    </tr>\n",
       "    <tr>\n",
       "      <th>7</th>\n",
       "      <td>ktg_unit</td>\n",
       "      <td>NaN</td>\n",
       "      <td>Check THIS out . This mini skillet bowl ain ’...</td>\n",
       "      <td>tacobell</td>\n",
       "      <td>Check THIS out. This mini skillet bowl ain’t s...</td>\n",
       "    </tr>\n",
       "    <tr>\n",
       "      <th>8</th>\n",
       "      <td>DaddyMayIPun</td>\n",
       "      <td>NaN</td>\n",
       "      <td>Pretty sure the New Haven Cantina is better t...</td>\n",
       "      <td>tacobell</td>\n",
       "      <td>Pretty sure the New Haven Cantina is better th...</td>\n",
       "    </tr>\n",
       "    <tr>\n",
       "      <th>9</th>\n",
       "      <td>Magnumxl711</td>\n",
       "      <td>NaN</td>\n",
       "      <td>Thought the new Loaded Nacho Taco LTO looked ...</td>\n",
       "      <td>tacobell</td>\n",
       "      <td>Thought the new Loaded Nacho Taco LTO looked a...</td>\n",
       "    </tr>\n",
       "    <tr>\n",
       "      <th>10</th>\n",
       "      <td>kDannyx</td>\n",
       "      <td>NaN</td>\n",
       "      <td>Made my own homemade “ Nachos Supreme ”</td>\n",
       "      <td>tacobell</td>\n",
       "      <td>Made my own homemade “Nachos Supreme”</td>\n",
       "    </tr>\n",
       "    <tr>\n",
       "      <th>11</th>\n",
       "      <td>atp_007</td>\n",
       "      <td>NaN</td>\n",
       "      <td>Chicken Quesadilla 🔥</td>\n",
       "      <td>tacobell</td>\n",
       "      <td>Chicken Quesadilla 🔥</td>\n",
       "    </tr>\n",
       "    <tr>\n",
       "      <th>12</th>\n",
       "      <td>BaronVonWilkinson</td>\n",
       "      <td>NaN</td>\n",
       "      <td>Chances of Chicken Flatbreads returning ?</td>\n",
       "      <td>tacobell</td>\n",
       "      <td>Chances of Chicken Flatbreads returning?</td>\n",
       "    </tr>\n",
       "    <tr>\n",
       "      <th>13</th>\n",
       "      <td>ay_bendito</td>\n",
       "      <td>NaN</td>\n",
       "      <td>My dollar menu Friday feast : ) spicy potato ...</td>\n",
       "      <td>tacobell</td>\n",
       "      <td>My dollar menu Friday feast :) spicy potato so...</td>\n",
       "    </tr>\n",
       "    <tr>\n",
       "      <th>14</th>\n",
       "      <td>NoSleepNeo</td>\n",
       "      <td>NaN</td>\n",
       "      <td>Not big on breakfast but any time is Chalupa ...</td>\n",
       "      <td>tacobell</td>\n",
       "      <td>Not big on breakfast but any time is Chalupa t...</td>\n",
       "    </tr>\n",
       "    <tr>\n",
       "      <th>15</th>\n",
       "      <td>dmhasakc</td>\n",
       "      <td>NaN</td>\n",
       "      <td>Churro donut first impression</td>\n",
       "      <td>tacobell</td>\n",
       "      <td>Churro donut first impression</td>\n",
       "    </tr>\n",
       "    <tr>\n",
       "      <th>16</th>\n",
       "      <td>Bam785</td>\n",
       "      <td>NaN</td>\n",
       "      <td>The Meximelt will always live in my heart .</td>\n",
       "      <td>tacobell</td>\n",
       "      <td>The Meximelt will always live in my heart.</td>\n",
       "    </tr>\n",
       "    <tr>\n",
       "      <th>17</th>\n",
       "      <td>nikkapa</td>\n",
       "      <td>NaN</td>\n",
       "      <td>New item always coincide with my road trip an...</td>\n",
       "      <td>tacobell</td>\n",
       "      <td>New items always coincide with my road trips a...</td>\n",
       "    </tr>\n",
       "    <tr>\n",
       "      <th>18</th>\n",
       "      <td>cupcakeadministrator</td>\n",
       "      <td>NaN</td>\n",
       "      <td>the poor man 's rattlesnake fry : triple laye...</td>\n",
       "      <td>tacobell</td>\n",
       "      <td>the poor man's rattlesnake fries: triple layer...</td>\n",
       "    </tr>\n",
       "    <tr>\n",
       "      <th>19</th>\n",
       "      <td>Beefycrunchmovement</td>\n",
       "      <td>NaN</td>\n",
       "      <td>Dallas Vegetarian Menu</td>\n",
       "      <td>tacobell</td>\n",
       "      <td>Dallas Vegetarian Menu</td>\n",
       "    </tr>\n",
       "    <tr>\n",
       "      <th>20</th>\n",
       "      <td>blackcrowbleusky</td>\n",
       "      <td>NaN</td>\n",
       "      <td>Beefy Cheesy Burrio ?</td>\n",
       "      <td>tacobell</td>\n",
       "      <td>Beefy Cheesy Burrio?</td>\n",
       "    </tr>\n",
       "    <tr>\n",
       "      <th>21</th>\n",
       "      <td>RandomDiscussionBot</td>\n",
       "      <td>NaN</td>\n",
       "      <td>I 'm looking for the name of a discontinued T...</td>\n",
       "      <td>tacobell</td>\n",
       "      <td>I'm looking for the name of a discontinued TB ...</td>\n",
       "    </tr>\n",
       "    <tr>\n",
       "      <th>22</th>\n",
       "      <td>MysticalElephant</td>\n",
       "      <td>NaN</td>\n",
       "      <td>Test Item ?</td>\n",
       "      <td>tacobell</td>\n",
       "      <td>Test Item?</td>\n",
       "    </tr>\n",
       "    <tr>\n",
       "      <th>23</th>\n",
       "      <td>nicolitis99</td>\n",
       "      <td>NaN</td>\n",
       "      <td>Guys ...</td>\n",
       "      <td>tacobell</td>\n",
       "      <td>Guys...</td>\n",
       "    </tr>\n",
       "    <tr>\n",
       "      <th>24</th>\n",
       "      <td>beerlobster</td>\n",
       "      <td>NaN</td>\n",
       "      <td>Whoa bank , I do n't want to know that . Damn .</td>\n",
       "      <td>tacobell</td>\n",
       "      <td>Whoa bank, I don't want to know that. Damn.</td>\n",
       "    </tr>\n",
       "    <tr>\n",
       "      <th>25</th>\n",
       "      <td>LodikaiMardukar</td>\n",
       "      <td>NaN</td>\n",
       "      <td>Local TB say `` No More Meximelt ''</td>\n",
       "      <td>tacobell</td>\n",
       "      <td>Local TB says \"No More Meximelt\"</td>\n",
       "    </tr>\n",
       "    <tr>\n",
       "      <th>26</th>\n",
       "      <td>gdogg121</td>\n",
       "      <td>NaN</td>\n",
       "      <td>Anyone actually get jalapeno in a spicy nacho...</td>\n",
       "      <td>tacobell</td>\n",
       "      <td>Anyone actually get jalapenos in a spicy nacho...</td>\n",
       "    </tr>\n",
       "    <tr>\n",
       "      <th>27</th>\n",
       "      <td>hyper_galaxy</td>\n",
       "      <td>NaN</td>\n",
       "      <td>Finally got to try these chip and they 're re...</td>\n",
       "      <td>tacobell</td>\n",
       "      <td>Finally got to try these chips and they're rea...</td>\n",
       "    </tr>\n",
       "    <tr>\n",
       "      <th>28</th>\n",
       "      <td>DeathToWeeaboos</td>\n",
       "      <td>NaN</td>\n",
       "      <td>Just had Diablo sauce for the first time</td>\n",
       "      <td>tacobell</td>\n",
       "      <td>Just had Diablo sauce for the first time</td>\n",
       "    </tr>\n",
       "    <tr>\n",
       "      <th>29</th>\n",
       "      <td>tacobellblake</td>\n",
       "      <td>NaN</td>\n",
       "      <td>So long Nacho Fries , a real LTO ha come to town</td>\n",
       "      <td>tacobell</td>\n",
       "      <td>So long Nacho Fries, a real LTO has come to town</td>\n",
       "    </tr>\n",
       "    <tr>\n",
       "      <th>...</th>\n",
       "      <td>...</td>\n",
       "      <td>...</td>\n",
       "      <td>...</td>\n",
       "      <td>...</td>\n",
       "      <td>...</td>\n",
       "    </tr>\n",
       "    <tr>\n",
       "      <th>538</th>\n",
       "      <td>vladimir_lem0n</td>\n",
       "      <td>(ei6jykj, ei6qlz9, ei6jesr, ei6k962, ei6o08j, ...</td>\n",
       "      <td>NaN</td>\n",
       "      <td>math</td>\n",
       "      <td>Recommendations for books on the history of pu...</td>\n",
       "    </tr>\n",
       "    <tr>\n",
       "      <th>539</th>\n",
       "      <td>flexibeast</td>\n",
       "      <td>(eiacbh7)</td>\n",
       "      <td>NaN</td>\n",
       "      <td>math</td>\n",
       "      <td>Animated Moore curve, a space-filling curve: \"...</td>\n",
       "    </tr>\n",
       "    <tr>\n",
       "      <th>540</th>\n",
       "      <td>JM753</td>\n",
       "      <td>(ei9artk, ei9elsr, eihr9e5, eiise3l)</td>\n",
       "      <td>NaN</td>\n",
       "      <td>math</td>\n",
       "      <td>Supplement to Kreyszig's Functional Analysis</td>\n",
       "    </tr>\n",
       "    <tr>\n",
       "      <th>541</th>\n",
       "      <td>shenyihong</td>\n",
       "      <td>(ei7ozbo, ei81jag, ei81k5w, ei7u3hd, eip32oc)</td>\n",
       "      <td>NaN</td>\n",
       "      <td>math</td>\n",
       "      <td>Number of faro-shuffles to return a deck of ca...</td>\n",
       "    </tr>\n",
       "    <tr>\n",
       "      <th>542</th>\n",
       "      <td>DareCarton</td>\n",
       "      <td>(ei63fst, ei6agb1, ei6b0fl, ei64se3, ei67jfc, ...</td>\n",
       "      <td>NaN</td>\n",
       "      <td>math</td>\n",
       "      <td>Subconscious Mind in Mathematics. Is there any...</td>\n",
       "    </tr>\n",
       "    <tr>\n",
       "      <th>543</th>\n",
       "      <td>vnecksonly</td>\n",
       "      <td>(ei75zjr, ei7svh2, ei784ew)</td>\n",
       "      <td>NaN</td>\n",
       "      <td>math</td>\n",
       "      <td>Theory connecting different axiomatic presenta...</td>\n",
       "    </tr>\n",
       "    <tr>\n",
       "      <th>544</th>\n",
       "      <td>EdPeggJr</td>\n",
       "      <td>(ei4f54o, ei4kfow, ei4fa8o, ei4f4wv, ei4ln7a, ...</td>\n",
       "      <td>NaN</td>\n",
       "      <td>math</td>\n",
       "      <td>33=8866128975287528^3+(-8778405442862239)^3+(-...</td>\n",
       "    </tr>\n",
       "    <tr>\n",
       "      <th>545</th>\n",
       "      <td>psitae</td>\n",
       "      <td>(ei7oq3m, ei81s63, ei8yv3z, ei7zqrr, ei7zvpl)</td>\n",
       "      <td>NaN</td>\n",
       "      <td>math</td>\n",
       "      <td>Pattern a torus</td>\n",
       "    </tr>\n",
       "    <tr>\n",
       "      <th>546</th>\n",
       "      <td>extremeaxe5</td>\n",
       "      <td>(ei6vege, ei705sn, ei6v1h9, ei7lvho, ei7kzb7, ...</td>\n",
       "      <td>NaN</td>\n",
       "      <td>math</td>\n",
       "      <td>Given a multinomial expression, what is the fe...</td>\n",
       "    </tr>\n",
       "    <tr>\n",
       "      <th>547</th>\n",
       "      <td>WannabeWL</td>\n",
       "      <td>(ei6fo79, ei6ynlq, ei65rwc)</td>\n",
       "      <td>NaN</td>\n",
       "      <td>math</td>\n",
       "      <td>Learning to struggle with problems</td>\n",
       "    </tr>\n",
       "    <tr>\n",
       "      <th>548</th>\n",
       "      <td>pijayk</td>\n",
       "      <td>(ei6rswu, ei6qp6j, ei6qxcb)</td>\n",
       "      <td>NaN</td>\n",
       "      <td>math</td>\n",
       "      <td>Are all unitary perfect numbers divisible by 6</td>\n",
       "    </tr>\n",
       "    <tr>\n",
       "      <th>549</th>\n",
       "      <td>flexibeast</td>\n",
       "      <td>(ei7ajcw)</td>\n",
       "      <td>NaN</td>\n",
       "      <td>math</td>\n",
       "      <td>The Topology of Neural Networks, Part 2: Compo...</td>\n",
       "    </tr>\n",
       "    <tr>\n",
       "      <th>550</th>\n",
       "      <td>penberbromster</td>\n",
       "      <td>(ei8kbpk, ei7qwby, ei81806)</td>\n",
       "      <td>NaN</td>\n",
       "      <td>math</td>\n",
       "      <td>Observations and conjugacy</td>\n",
       "    </tr>\n",
       "    <tr>\n",
       "      <th>551</th>\n",
       "      <td>Asus123456789</td>\n",
       "      <td>(ei77qcq)</td>\n",
       "      <td>NaN</td>\n",
       "      <td>math</td>\n",
       "      <td>What is the actual mathematics behind actuaria...</td>\n",
       "    </tr>\n",
       "    <tr>\n",
       "      <th>552</th>\n",
       "      <td>Dysms</td>\n",
       "      <td>(ei8iob8)</td>\n",
       "      <td>NaN</td>\n",
       "      <td>math</td>\n",
       "      <td>Packing of Unequal Spheres in 3d</td>\n",
       "    </tr>\n",
       "    <tr>\n",
       "      <th>553</th>\n",
       "      <td>becomedisciplined</td>\n",
       "      <td>(ei7qwe0, ei61jce)</td>\n",
       "      <td>NaN</td>\n",
       "      <td>math</td>\n",
       "      <td>Is there a way to categorise the hills and val...</td>\n",
       "    </tr>\n",
       "    <tr>\n",
       "      <th>554</th>\n",
       "      <td>candlelightener</td>\n",
       "      <td>(ei66kxk, ei62q6q, ei64eq8, ei6jm8d, ei698pr, ...</td>\n",
       "      <td>NaN</td>\n",
       "      <td>math</td>\n",
       "      <td>I feel like I get worse at math every day and ...</td>\n",
       "    </tr>\n",
       "    <tr>\n",
       "      <th>555</th>\n",
       "      <td>Danile2401</td>\n",
       "      <td>(ei3c5y8, ei3ana4, ei3grix, ei3f70k, ei3g8dc, ...</td>\n",
       "      <td>NaN</td>\n",
       "      <td>math</td>\n",
       "      <td>I've been learning about parametric equations ...</td>\n",
       "    </tr>\n",
       "    <tr>\n",
       "      <th>556</th>\n",
       "      <td>Frigorifico</td>\n",
       "      <td>(ei5nn8k, ei5pi5c, ei5qair, ei65q4q)</td>\n",
       "      <td>NaN</td>\n",
       "      <td>math</td>\n",
       "      <td>Why wasn't the Box operator defined as a vecto...</td>\n",
       "    </tr>\n",
       "    <tr>\n",
       "      <th>557</th>\n",
       "      <td>liqui_date_me</td>\n",
       "      <td>(ei5ppbk, ei5vo13)</td>\n",
       "      <td>NaN</td>\n",
       "      <td>math</td>\n",
       "      <td>Multidimensional Ulam Spirals</td>\n",
       "    </tr>\n",
       "    <tr>\n",
       "      <th>558</th>\n",
       "      <td>throwaway596443</td>\n",
       "      <td>(ei4jy3c, ei5ij6l, ei6o6op)</td>\n",
       "      <td>NaN</td>\n",
       "      <td>math</td>\n",
       "      <td>Application to Math PhD programs with a minor</td>\n",
       "    </tr>\n",
       "    <tr>\n",
       "      <th>559</th>\n",
       "      <td>eumaximizer</td>\n",
       "      <td>(ei44mq2, ei4qvi3, eidnhsh)</td>\n",
       "      <td>NaN</td>\n",
       "      <td>math</td>\n",
       "      <td>Real Analysis online course?</td>\n",
       "    </tr>\n",
       "    <tr>\n",
       "      <th>560</th>\n",
       "      <td>inquisitive872</td>\n",
       "      <td>(ei3zn7b, ei5dp97, ei3tyn8, ei624ay, eiey5a9, ...</td>\n",
       "      <td>NaN</td>\n",
       "      <td>math</td>\n",
       "      <td>What makes a good mathematician?</td>\n",
       "    </tr>\n",
       "    <tr>\n",
       "      <th>561</th>\n",
       "      <td>Runninganddogs979</td>\n",
       "      <td>(ei36c2s, ei3rexg, ei3on1a, ei33qi7, ei45sgs, ...</td>\n",
       "      <td>NaN</td>\n",
       "      <td>math</td>\n",
       "      <td>Happy Intl Women’s Day!! What’s your favorite ...</td>\n",
       "    </tr>\n",
       "    <tr>\n",
       "      <th>562</th>\n",
       "      <td>dudemath</td>\n",
       "      <td>(ei3g4y3, ei3fflp, ei3aco0, ei3nq1u, ei45vlq, ...</td>\n",
       "      <td>NaN</td>\n",
       "      <td>math</td>\n",
       "      <td>Increasing breadth of knowledge and continuing...</td>\n",
       "    </tr>\n",
       "    <tr>\n",
       "      <th>563</th>\n",
       "      <td>AutoModerator</td>\n",
       "      <td>(ei3nrvf, ei7ovvp, ei8lnuq, ei8rkl0, eieczoq, ...</td>\n",
       "      <td>NaN</td>\n",
       "      <td>math</td>\n",
       "      <td>Simple Questions - March 08, 2019</td>\n",
       "    </tr>\n",
       "    <tr>\n",
       "      <th>564</th>\n",
       "      <td>zesox</td>\n",
       "      <td>(ei4g1rj, ei50hrn, ei4y4yv)</td>\n",
       "      <td>NaN</td>\n",
       "      <td>math</td>\n",
       "      <td>Removed - post in the Simple Questions thread ...</td>\n",
       "    </tr>\n",
       "    <tr>\n",
       "      <th>565</th>\n",
       "      <td>SixthRaccoon</td>\n",
       "      <td>(ei309ak, ei3ppz5, ei3bz7l, ei3gm0x, ei3lnmy, ...</td>\n",
       "      <td>NaN</td>\n",
       "      <td>math</td>\n",
       "      <td>How did you find and begin your research?</td>\n",
       "    </tr>\n",
       "    <tr>\n",
       "      <th>566</th>\n",
       "      <td>DevFRus</td>\n",
       "      <td>(ei2f4os, ei6w8pg)</td>\n",
       "      <td>NaN</td>\n",
       "      <td>math</td>\n",
       "      <td>Computational Complexity as an Ultimate Constr...</td>\n",
       "    </tr>\n",
       "    <tr>\n",
       "      <th>567</th>\n",
       "      <td>anfauglit</td>\n",
       "      <td>(ei3xtlg)</td>\n",
       "      <td>NaN</td>\n",
       "      <td>math</td>\n",
       "      <td>Mathematical Idea Analysis: What Embodied Cogn...</td>\n",
       "    </tr>\n",
       "  </tbody>\n",
       "</table>\n",
       "<p>1567 rows × 5 columns</p>\n",
       "</div>"
      ],
      "text/plain": [
       "                   author                                           comments  \\\n",
       "0           tacobellblake                                                NaN   \n",
       "1                Ivypearl                                                NaN   \n",
       "2           tacobellblake                                                NaN   \n",
       "3    ArnoldSchwarzeneggir                                                NaN   \n",
       "4           bottleonalamp                                                NaN   \n",
       "5           benjaminikuta                                                NaN   \n",
       "6               nicky3123                                                NaN   \n",
       "7                ktg_unit                                                NaN   \n",
       "8            DaddyMayIPun                                                NaN   \n",
       "9             Magnumxl711                                                NaN   \n",
       "10                kDannyx                                                NaN   \n",
       "11                atp_007                                                NaN   \n",
       "12      BaronVonWilkinson                                                NaN   \n",
       "13             ay_bendito                                                NaN   \n",
       "14             NoSleepNeo                                                NaN   \n",
       "15               dmhasakc                                                NaN   \n",
       "16                 Bam785                                                NaN   \n",
       "17                nikkapa                                                NaN   \n",
       "18   cupcakeadministrator                                                NaN   \n",
       "19    Beefycrunchmovement                                                NaN   \n",
       "20       blackcrowbleusky                                                NaN   \n",
       "21    RandomDiscussionBot                                                NaN   \n",
       "22       MysticalElephant                                                NaN   \n",
       "23            nicolitis99                                                NaN   \n",
       "24            beerlobster                                                NaN   \n",
       "25        LodikaiMardukar                                                NaN   \n",
       "26               gdogg121                                                NaN   \n",
       "27           hyper_galaxy                                                NaN   \n",
       "28        DeathToWeeaboos                                                NaN   \n",
       "29          tacobellblake                                                NaN   \n",
       "..                    ...                                                ...   \n",
       "538        vladimir_lem0n  (ei6jykj, ei6qlz9, ei6jesr, ei6k962, ei6o08j, ...   \n",
       "539            flexibeast                                          (eiacbh7)   \n",
       "540                 JM753               (ei9artk, ei9elsr, eihr9e5, eiise3l)   \n",
       "541            shenyihong      (ei7ozbo, ei81jag, ei81k5w, ei7u3hd, eip32oc)   \n",
       "542            DareCarton  (ei63fst, ei6agb1, ei6b0fl, ei64se3, ei67jfc, ...   \n",
       "543            vnecksonly                        (ei75zjr, ei7svh2, ei784ew)   \n",
       "544              EdPeggJr  (ei4f54o, ei4kfow, ei4fa8o, ei4f4wv, ei4ln7a, ...   \n",
       "545                psitae      (ei7oq3m, ei81s63, ei8yv3z, ei7zqrr, ei7zvpl)   \n",
       "546           extremeaxe5  (ei6vege, ei705sn, ei6v1h9, ei7lvho, ei7kzb7, ...   \n",
       "547             WannabeWL                        (ei6fo79, ei6ynlq, ei65rwc)   \n",
       "548                pijayk                        (ei6rswu, ei6qp6j, ei6qxcb)   \n",
       "549            flexibeast                                          (ei7ajcw)   \n",
       "550        penberbromster                        (ei8kbpk, ei7qwby, ei81806)   \n",
       "551         Asus123456789                                          (ei77qcq)   \n",
       "552                 Dysms                                          (ei8iob8)   \n",
       "553     becomedisciplined                                 (ei7qwe0, ei61jce)   \n",
       "554       candlelightener  (ei66kxk, ei62q6q, ei64eq8, ei6jm8d, ei698pr, ...   \n",
       "555            Danile2401  (ei3c5y8, ei3ana4, ei3grix, ei3f70k, ei3g8dc, ...   \n",
       "556           Frigorifico               (ei5nn8k, ei5pi5c, ei5qair, ei65q4q)   \n",
       "557         liqui_date_me                                 (ei5ppbk, ei5vo13)   \n",
       "558       throwaway596443                        (ei4jy3c, ei5ij6l, ei6o6op)   \n",
       "559           eumaximizer                        (ei44mq2, ei4qvi3, eidnhsh)   \n",
       "560        inquisitive872  (ei3zn7b, ei5dp97, ei3tyn8, ei624ay, eiey5a9, ...   \n",
       "561     Runninganddogs979  (ei36c2s, ei3rexg, ei3on1a, ei33qi7, ei45sgs, ...   \n",
       "562              dudemath  (ei3g4y3, ei3fflp, ei3aco0, ei3nq1u, ei45vlq, ...   \n",
       "563         AutoModerator  (ei3nrvf, ei7ovvp, ei8lnuq, ei8rkl0, eieczoq, ...   \n",
       "564                 zesox                        (ei4g1rj, ei50hrn, ei4y4yv)   \n",
       "565          SixthRaccoon  (ei309ak, ei3ppz5, ei3bz7l, ei3gm0x, ei3lnmy, ...   \n",
       "566               DevFRus                                 (ei2f4os, ei6w8pg)   \n",
       "567             anfauglit                                          (ei3xtlg)   \n",
       "\n",
       "                                         lemmed_titles    reddit  \\\n",
       "0                               E4 Megathread ( 2019 )  tacobell   \n",
       "1     I am pet sitting for a family that owns 37 Ta...  tacobell   \n",
       "2                   I will never forget you , Meximelt  tacobell   \n",
       "3                               Homemade Quesaritoooos  tacobell   \n",
       "4     My location not only had the new taco , but t...  tacobell   \n",
       "5     Did you know you could get your Cinnamon Twis...  tacobell   \n",
       "6     Got some taco bell for me and my mom while sh...  tacobell   \n",
       "7     Check THIS out . This mini skillet bowl ain ’...  tacobell   \n",
       "8     Pretty sure the New Haven Cantina is better t...  tacobell   \n",
       "9     Thought the new Loaded Nacho Taco LTO looked ...  tacobell   \n",
       "10             Made my own homemade “ Nachos Supreme ”  tacobell   \n",
       "11                                Chicken Quesadilla 🔥  tacobell   \n",
       "12           Chances of Chicken Flatbreads returning ?  tacobell   \n",
       "13    My dollar menu Friday feast : ) spicy potato ...  tacobell   \n",
       "14    Not big on breakfast but any time is Chalupa ...  tacobell   \n",
       "15                       Churro donut first impression  tacobell   \n",
       "16         The Meximelt will always live in my heart .  tacobell   \n",
       "17    New item always coincide with my road trip an...  tacobell   \n",
       "18    the poor man 's rattlesnake fry : triple laye...  tacobell   \n",
       "19                              Dallas Vegetarian Menu  tacobell   \n",
       "20                               Beefy Cheesy Burrio ?  tacobell   \n",
       "21    I 'm looking for the name of a discontinued T...  tacobell   \n",
       "22                                         Test Item ?  tacobell   \n",
       "23                                            Guys ...  tacobell   \n",
       "24     Whoa bank , I do n't want to know that . Damn .  tacobell   \n",
       "25                 Local TB say `` No More Meximelt ''  tacobell   \n",
       "26    Anyone actually get jalapeno in a spicy nacho...  tacobell   \n",
       "27    Finally got to try these chip and they 're re...  tacobell   \n",
       "28            Just had Diablo sauce for the first time  tacobell   \n",
       "29    So long Nacho Fries , a real LTO ha come to town  tacobell   \n",
       "..                                                 ...       ...   \n",
       "538                                                NaN      math   \n",
       "539                                                NaN      math   \n",
       "540                                                NaN      math   \n",
       "541                                                NaN      math   \n",
       "542                                                NaN      math   \n",
       "543                                                NaN      math   \n",
       "544                                                NaN      math   \n",
       "545                                                NaN      math   \n",
       "546                                                NaN      math   \n",
       "547                                                NaN      math   \n",
       "548                                                NaN      math   \n",
       "549                                                NaN      math   \n",
       "550                                                NaN      math   \n",
       "551                                                NaN      math   \n",
       "552                                                NaN      math   \n",
       "553                                                NaN      math   \n",
       "554                                                NaN      math   \n",
       "555                                                NaN      math   \n",
       "556                                                NaN      math   \n",
       "557                                                NaN      math   \n",
       "558                                                NaN      math   \n",
       "559                                                NaN      math   \n",
       "560                                                NaN      math   \n",
       "561                                                NaN      math   \n",
       "562                                                NaN      math   \n",
       "563                                                NaN      math   \n",
       "564                                                NaN      math   \n",
       "565                                                NaN      math   \n",
       "566                                                NaN      math   \n",
       "567                                                NaN      math   \n",
       "\n",
       "                                                 title  \n",
       "0                                 E4 Megathread (2019)  \n",
       "1    I am pet sitting for a family that owns 37 Tac...  \n",
       "2                    I will never forget you, Meximelt  \n",
       "3                               Homemade Quesaritoooos  \n",
       "4    My location not only had the new taco, but thi...  \n",
       "5    Did you know you could get your Cinnamon Twist...  \n",
       "6    Got some taco bell for me and my mom while she...  \n",
       "7    Check THIS out. This mini skillet bowl ain’t s...  \n",
       "8    Pretty sure the New Haven Cantina is better th...  \n",
       "9    Thought the new Loaded Nacho Taco LTO looked a...  \n",
       "10               Made my own homemade “Nachos Supreme”  \n",
       "11                                Chicken Quesadilla 🔥  \n",
       "12            Chances of Chicken Flatbreads returning?  \n",
       "13   My dollar menu Friday feast :) spicy potato so...  \n",
       "14   Not big on breakfast but any time is Chalupa t...  \n",
       "15                       Churro donut first impression  \n",
       "16          The Meximelt will always live in my heart.  \n",
       "17   New items always coincide with my road trips a...  \n",
       "18   the poor man's rattlesnake fries: triple layer...  \n",
       "19                              Dallas Vegetarian Menu  \n",
       "20                                Beefy Cheesy Burrio?  \n",
       "21   I'm looking for the name of a discontinued TB ...  \n",
       "22                                          Test Item?  \n",
       "23                                             Guys...  \n",
       "24         Whoa bank, I don't want to know that. Damn.  \n",
       "25                    Local TB says \"No More Meximelt\"  \n",
       "26   Anyone actually get jalapenos in a spicy nacho...  \n",
       "27   Finally got to try these chips and they're rea...  \n",
       "28            Just had Diablo sauce for the first time  \n",
       "29    So long Nacho Fries, a real LTO has come to town  \n",
       "..                                                 ...  \n",
       "538  Recommendations for books on the history of pu...  \n",
       "539  Animated Moore curve, a space-filling curve: \"...  \n",
       "540       Supplement to Kreyszig's Functional Analysis  \n",
       "541  Number of faro-shuffles to return a deck of ca...  \n",
       "542  Subconscious Mind in Mathematics. Is there any...  \n",
       "543  Theory connecting different axiomatic presenta...  \n",
       "544  33=8866128975287528^3+(-8778405442862239)^3+(-...  \n",
       "545                                    Pattern a torus  \n",
       "546  Given a multinomial expression, what is the fe...  \n",
       "547                 Learning to struggle with problems  \n",
       "548     Are all unitary perfect numbers divisible by 6  \n",
       "549  The Topology of Neural Networks, Part 2: Compo...  \n",
       "550                         Observations and conjugacy  \n",
       "551  What is the actual mathematics behind actuaria...  \n",
       "552                   Packing of Unequal Spheres in 3d  \n",
       "553  Is there a way to categorise the hills and val...  \n",
       "554  I feel like I get worse at math every day and ...  \n",
       "555  I've been learning about parametric equations ...  \n",
       "556  Why wasn't the Box operator defined as a vecto...  \n",
       "557                      Multidimensional Ulam Spirals  \n",
       "558      Application to Math PhD programs with a minor  \n",
       "559                       Real Analysis online course?  \n",
       "560                   What makes a good mathematician?  \n",
       "561  Happy Intl Women’s Day!! What’s your favorite ...  \n",
       "562  Increasing breadth of knowledge and continuing...  \n",
       "563                  Simple Questions - March 08, 2019  \n",
       "564  Removed - post in the Simple Questions thread ...  \n",
       "565          How did you find and begin your research?  \n",
       "566  Computational Complexity as an Ultimate Constr...  \n",
       "567  Mathematical Idea Analysis: What Embodied Cogn...  \n",
       "\n",
       "[1567 rows x 5 columns]"
      ]
     },
     "execution_count": 235,
     "metadata": {},
     "output_type": "execute_result"
    }
   ],
   "source": [
    "combined"
   ]
  },
  {
   "cell_type": "code",
   "execution_count": 57,
   "metadata": {},
   "outputs": [],
   "source": [
    "from sklearn.feature_extraction.text import CountVectorizer"
   ]
  },
  {
   "cell_type": "code",
   "execution_count": 185,
   "metadata": {},
   "outputs": [],
   "source": [
    "cvect = CountVectorizer(ngram_range=(1, 3))\n",
    "X = cvect.fit_transform(combined.lemmed_titles)"
   ]
  },
  {
   "cell_type": "code",
   "execution_count": 186,
   "metadata": {},
   "outputs": [],
   "source": [
    "y = combined.reddit"
   ]
  },
  {
   "cell_type": "code",
   "execution_count": 187,
   "metadata": {},
   "outputs": [],
   "source": [
    "from sklearn.linear_model import LogisticRegression"
   ]
  },
  {
   "cell_type": "code",
   "execution_count": 188,
   "metadata": {},
   "outputs": [],
   "source": [
    "clf = LogisticRegression()"
   ]
  },
  {
   "cell_type": "code",
   "execution_count": 189,
   "metadata": {},
   "outputs": [
    {
     "name": "stderr",
     "output_type": "stream",
     "text": [
      "/anaconda3/lib/python3.6/site-packages/sklearn/linear_model/logistic.py:433: FutureWarning: Default solver will be changed to 'lbfgs' in 0.22. Specify a solver to silence this warning.\n",
      "  FutureWarning)\n"
     ]
    },
    {
     "data": {
      "text/plain": [
       "LogisticRegression(C=1.0, class_weight=None, dual=False, fit_intercept=True,\n",
       "          intercept_scaling=1, max_iter=100, multi_class='warn',\n",
       "          n_jobs=None, penalty='l2', random_state=None, solver='warn',\n",
       "          tol=0.0001, verbose=0, warm_start=False)"
      ]
     },
     "execution_count": 189,
     "metadata": {},
     "output_type": "execute_result"
    }
   ],
   "source": [
    "clf.fit(X, y)"
   ]
  },
  {
   "cell_type": "code",
   "execution_count": 190,
   "metadata": {},
   "outputs": [],
   "source": [
    "features = cvect.get_feature_names()"
   ]
  },
  {
   "cell_type": "code",
   "execution_count": null,
   "metadata": {},
   "outputs": [],
   "source": []
  },
  {
   "cell_type": "code",
   "execution_count": 191,
   "metadata": {},
   "outputs": [],
   "source": [
    "coefs = clf.coef_"
   ]
  },
  {
   "cell_type": "code",
   "execution_count": 192,
   "metadata": {},
   "outputs": [
    {
     "data": {
      "text/plain": [
       "array([ 1.09555504e-01, -1.36578962e-05, -1.36578962e-05, ...,\n",
       "       -4.62333725e-02, -4.62333725e-02,  2.65399271e-01])"
      ]
     },
     "execution_count": 192,
     "metadata": {},
     "output_type": "execute_result"
    }
   ],
   "source": [
    "coefs[0]"
   ]
  },
  {
   "cell_type": "code",
   "execution_count": 193,
   "metadata": {},
   "outputs": [],
   "source": [
    "importances = pd.DataFrame({'word': features, 'coef': coefs[0]})"
   ]
  },
  {
   "cell_type": "code",
   "execution_count": 194,
   "metadata": {},
   "outputs": [],
   "source": [
    "%matplotlib inline\n",
    "importances = pd.DataFrame({'word': features, 'coef': coefs[0]})\n",
    "top_10 = importances.nlargest(20, 'coef')['word']\n",
    "bot_10 = importances.nsmallest(20, 'coef')['word']"
   ]
  },
  {
   "cell_type": "code",
   "execution_count": 195,
   "metadata": {},
   "outputs": [],
   "source": [
    "v2 = CountVectorizer(stop_words='english', max_features=50)"
   ]
  },
  {
   "cell_type": "code",
   "execution_count": 196,
   "metadata": {},
   "outputs": [],
   "source": [
    "X = v2.fit_transform(combined.lemmed_titles)"
   ]
  },
  {
   "cell_type": "code",
   "execution_count": 197,
   "metadata": {},
   "outputs": [
    {
     "name": "stderr",
     "output_type": "stream",
     "text": [
      "/anaconda3/lib/python3.6/site-packages/sklearn/linear_model/logistic.py:433: FutureWarning: Default solver will be changed to 'lbfgs' in 0.22. Specify a solver to silence this warning.\n",
      "  FutureWarning)\n"
     ]
    },
    {
     "data": {
      "text/plain": [
       "LogisticRegression(C=1.0, class_weight=None, dual=False, fit_intercept=True,\n",
       "          intercept_scaling=1, max_iter=100, multi_class='warn',\n",
       "          n_jobs=None, penalty='l2', random_state=None, solver='warn',\n",
       "          tol=0.0001, verbose=0, warm_start=False)"
      ]
     },
     "execution_count": 197,
     "metadata": {},
     "output_type": "execute_result"
    }
   ],
   "source": [
    "clf.fit(X, y)"
   ]
  },
  {
   "cell_type": "code",
   "execution_count": 198,
   "metadata": {},
   "outputs": [
    {
     "data": {
      "text/plain": [
       "0.7823303457106274"
      ]
     },
     "execution_count": 198,
     "metadata": {},
     "output_type": "execute_result"
    }
   ],
   "source": [
    "clf.score(X, y)"
   ]
  },
  {
   "cell_type": "code",
   "execution_count": null,
   "metadata": {},
   "outputs": [],
   "source": []
  },
  {
   "cell_type": "code",
   "execution_count": 199,
   "metadata": {},
   "outputs": [
    {
     "data": {
      "text/plain": [
       "['app',\n",
       " 'baja',\n",
       " 'bell',\n",
       " 'best',\n",
       " 'blast',\n",
       " 'breakfast',\n",
       " 'burrito',\n",
       " 'cantina',\n",
       " 'cheese',\n",
       " 'cheesy',\n",
       " 'chicken',\n",
       " 'crunchwrap',\n",
       " 'day',\n",
       " 'did',\n",
       " 'doe',\n",
       " 'does',\n",
       " 'favorite',\n",
       " 'fry',\n",
       " 'good',\n",
       " 'got',\n",
       " 'item',\n",
       " 'just',\n",
       " 'know',\n",
       " 'like',\n",
       " 'local',\n",
       " 'make',\n",
       " 'math',\n",
       " 'mathematician',\n",
       " 'mathematics',\n",
       " 'menu',\n",
       " 'nacho',\n",
       " 'new',\n",
       " 'number',\n",
       " 'order',\n",
       " 'problem',\n",
       " 'proof',\n",
       " 'rattlesnake',\n",
       " 'really',\n",
       " 'sauce',\n",
       " 'taco',\n",
       " 'tb',\n",
       " 'thing',\n",
       " 'time',\n",
       " 'today',\n",
       " 've',\n",
       " 'wa',\n",
       " 'way',\n",
       " 'work',\n",
       " 'working',\n",
       " 'year']"
      ]
     },
     "execution_count": 199,
     "metadata": {},
     "output_type": "execute_result"
    }
   ],
   "source": [
    "v2.get_feature_names()"
   ]
  },
  {
   "cell_type": "code",
   "execution_count": null,
   "metadata": {},
   "outputs": [],
   "source": []
  },
  {
   "cell_type": "code",
   "execution_count": 200,
   "metadata": {},
   "outputs": [
    {
     "ename": "NameError",
     "evalue": "name 'top_20' is not defined",
     "output_type": "error",
     "traceback": [
      "\u001b[0;31m---------------------------------------------------------------------------\u001b[0m",
      "\u001b[0;31mNameError\u001b[0m                                 Traceback (most recent call last)",
      "\u001b[0;32m<ipython-input-200-b29b47e649d0>\u001b[0m in \u001b[0;36m<module>\u001b[0;34m()\u001b[0m\n\u001b[1;32m      1\u001b[0m \u001b[0ma\u001b[0m \u001b[0;34m=\u001b[0m \u001b[0mset\u001b[0m\u001b[0;34m(\u001b[0m\u001b[0;34m[\u001b[0m\u001b[0;34m'taco'\u001b[0m\u001b[0;34m]\u001b[0m\u001b[0;34m)\u001b[0m\u001b[0;34m\u001b[0m\u001b[0;34m\u001b[0m\u001b[0m\n\u001b[0;32m----> 2\u001b[0;31m \u001b[0mb\u001b[0m \u001b[0;34m=\u001b[0m \u001b[0mset\u001b[0m\u001b[0;34m(\u001b[0m\u001b[0;34m[\u001b[0m\u001b[0mi\u001b[0m \u001b[0;32mfor\u001b[0m \u001b[0mi\u001b[0m \u001b[0;32min\u001b[0m \u001b[0mtop_20\u001b[0m\u001b[0;34m.\u001b[0m\u001b[0mvalues\u001b[0m\u001b[0;34m]\u001b[0m \u001b[0;34m+\u001b[0m \u001b[0;34m[\u001b[0m\u001b[0;34m]\u001b[0m\u001b[0;34m)\u001b[0m\u001b[0;34m\u001b[0m\u001b[0;34m\u001b[0m\u001b[0m\n\u001b[0m",
      "\u001b[0;31mNameError\u001b[0m: name 'top_20' is not defined"
     ]
    }
   ],
   "source": [
    "a = set(['taco'])\n",
    "b = set([i for i in top_20.values] + [])"
   ]
  },
  {
   "cell_type": "code",
   "execution_count": 201,
   "metadata": {},
   "outputs": [
    {
     "data": {
      "text/plain": [
       "{'taco'}"
      ]
     },
     "execution_count": 201,
     "metadata": {},
     "output_type": "execute_result"
    }
   ],
   "source": [
    "a.intersection(b)"
   ]
  },
  {
   "cell_type": "code",
   "execution_count": 202,
   "metadata": {},
   "outputs": [
    {
     "data": {
      "text/plain": [
       "{'app',\n",
       " 'bell',\n",
       " 'burrito',\n",
       " 'item',\n",
       " 'my',\n",
       " 'nacho',\n",
       " 'sauce',\n",
       " 'taco',\n",
       " 'these',\n",
       " 'this'}"
      ]
     },
     "execution_count": 202,
     "metadata": {},
     "output_type": "execute_result"
    }
   ],
   "source": [
    "b"
   ]
  },
  {
   "cell_type": "code",
   "execution_count": null,
   "metadata": {},
   "outputs": [],
   "source": []
  },
  {
   "cell_type": "code",
   "execution_count": 203,
   "metadata": {},
   "outputs": [
    {
     "data": {
      "text/plain": [
       "0.05784432087483846"
      ]
     },
     "execution_count": 203,
     "metadata": {},
     "output_type": "execute_result"
    }
   ],
   "source": [
    "import numpy as np\n",
    "np.e**(-2.85)"
   ]
  },
  {
   "cell_type": "code",
   "execution_count": 215,
   "metadata": {},
   "outputs": [],
   "source": [
    "math = importances.nsmallest(10, 'coef')"
   ]
  },
  {
   "cell_type": "code",
   "execution_count": 216,
   "metadata": {},
   "outputs": [],
   "source": [
    "taco = importances.nlargest(10, 'coef')"
   ]
  },
  {
   "cell_type": "code",
   "execution_count": 223,
   "metadata": {},
   "outputs": [],
   "source": [
    "mt = pd.concat([math, taco])\n",
    "mt['color'] = mt.coef.apply(lambda x: 'red' if x > 0 else 'grey')"
   ]
  },
  {
   "cell_type": "code",
   "execution_count": 226,
   "metadata": {},
   "outputs": [
    {
     "data": {
      "text/plain": [
       "([0, 1, 2, 3, 4, 5, 6, 7, 8, 9, 10, 11, 12, 13, 14, 15, 16, 17, 18, 19],\n",
       " <a list of 20 Text xticklabel objects>)"
      ]
     },
     "execution_count": 226,
     "metadata": {},
     "output_type": "execute_result"
    },
    {
     "data": {
      "image/png": "[encoded data removed]",
      "text/plain": [
       "<Figure size 1440x720 with 1 Axes>"
      ]
     },
     "metadata": {},
     "output_type": "display_data"
    }
   ],
   "source": [
    "import matplotlib.pyplot as plt\n",
    "plt.figure(figsize = (20, 10))\n",
    "plt.bar(mt.word, mt.coef, color = mt.color)\n",
    "plt.xticks(rotation = 90, fontsize = 15)"
   ]
  },
  {
   "cell_type": "code",
   "execution_count": 206,
   "metadata": {},
   "outputs": [
    {
     "data": {
      "text/plain": [
       "CountVectorizer(analyzer='word', binary=False, decode_error='strict',\n",
       "        dtype=<class 'numpy.int64'>, encoding='utf-8', input='content',\n",
       "        lowercase=True, max_df=1.0, max_features=None, min_df=1,\n",
       "        ngram_range=(1, 1), preprocessor=None, stop_words=None,\n",
       "        strip_accents=None, token_pattern='(?u)\\\\b\\\\w\\\\w+\\\\b',\n",
       "        tokenizer=None, vocabulary=None)"
      ]
     },
     "execution_count": 206,
     "metadata": {},
     "output_type": "execute_result"
    }
   ],
   "source": [
    "CountVectorizer()"
   ]
  },
  {
   "cell_type": "code",
   "execution_count": 213,
   "metadata": {},
   "outputs": [
    {
     "data": {
      "text/plain": [
       "[[0, 0, 0], [0, 0, 1], [0, 1, 0], [1, 0, 0], [1, 1, 1]]"
      ]
     },
     "execution_count": 213,
     "metadata": {},
     "output_type": "execute_result"
    }
   ],
   "source": [
    "def select_verts(a, b, c, n):\n",
    "    ans = []\n",
    "    for i in range(a+1):\n",
    "        for j in range(b+1):\n",
    "            for k in range(c+1):\n",
    "                if sum([i, j, k]) != n:\n",
    "                    ans.append([i, j, k])\n",
    "    return ans\n",
    "\n",
    "ans       "
   ]
  },
  {
   "cell_type": "code",
   "execution_count": 214,
   "metadata": {},
   "outputs": [
    {
     "data": {
      "text/plain": [
       "[[0, 0, 0],\n",
       " [0, 0, 1],\n",
       " [0, 0, 2],\n",
       " [0, 1, 0],\n",
       " [0, 1, 1],\n",
       " [0, 1, 2],\n",
       " [0, 2, 0],\n",
       " [0, 2, 1],\n",
       " [1, 0, 0],\n",
       " [1, 0, 1],\n",
       " [1, 0, 2],\n",
       " [1, 1, 0],\n",
       " [1, 1, 1],\n",
       " [1, 2, 0],\n",
       " [1, 2, 2],\n",
       " [2, 0, 0],\n",
       " [2, 0, 1],\n",
       " [2, 1, 0],\n",
       " [2, 1, 2],\n",
       " [2, 2, 1],\n",
       " [2, 2, 2]]"
      ]
     },
     "execution_count": 214,
     "metadata": {},
     "output_type": "execute_result"
    }
   ],
   "source": [
    "select_verts(2, 2, 2, 4)"
   ]
  },
  {
   "cell_type": "code",
   "execution_count": 148,
   "metadata": {},
   "outputs": [],
   "source": [
    "from nltk import word_tokenize\n",
    "from nltk.stem import WordNetLemmatizer\n",
    "from nltk.stem.snowball import SnowballStemmer"
   ]
  },
  {
   "cell_type": "code",
   "execution_count": 149,
   "metadata": {},
   "outputs": [],
   "source": [
    "def lem_title(title):\n",
    "    wnl = WordNetLemmatizer()\n",
    "    stm = SnowballStemmer(\"english\")\n",
    "    toke_test = word_tokenize(title)\n",
    "    lem_tokes = []\n",
    "    for toke in toke_test:\n",
    "        lem_tokes.append(stm.stem(wnl.lemmatize(toke)))\n",
    "    comb = ''\n",
    "    for lemmed in lem_tokes:\n",
    "        comb += ' ' + lemmed\n",
    "    return comb"
   ]
  },
  {
   "cell_type": "code",
   "execution_count": 150,
   "metadata": {},
   "outputs": [],
   "source": [
    "test = lem_title(df2.title[3])"
   ]
  },
  {
   "cell_type": "code",
   "execution_count": 151,
   "metadata": {},
   "outputs": [],
   "source": [
    "for word in test:\n",
    "    if word.startswith('math'):\n",
    "        test[test.index(word)].insert('math')"
   ]
  },
  {
   "cell_type": "code",
   "execution_count": 152,
   "metadata": {},
   "outputs": [
    {
     "data": {
      "text/plain": [
       "' what is the best advic you receiv from a mathematician ?'"
      ]
     },
     "execution_count": 152,
     "metadata": {},
     "output_type": "execute_result"
    }
   ],
   "source": [
    "test"
   ]
  },
  {
   "cell_type": "code",
   "execution_count": 153,
   "metadata": {},
   "outputs": [],
   "source": [
    "df2['lemmed_titles'] = df2.title.apply(lem_title)"
   ]
  },
  {
   "cell_type": "code",
   "execution_count": 154,
   "metadata": {},
   "outputs": [
    {
     "data": {
      "text/html": [
       "<div>\n",
       "<style scoped>\n",
       "    .dataframe tbody tr th:only-of-type {\n",
       "        vertical-align: middle;\n",
       "    }\n",
       "\n",
       "    .dataframe tbody tr th {\n",
       "        vertical-align: top;\n",
       "    }\n",
       "\n",
       "    .dataframe thead th {\n",
       "        text-align: right;\n",
       "    }\n",
       "</style>\n",
       "<table border=\"1\" class=\"dataframe\">\n",
       "  <thead>\n",
       "    <tr style=\"text-align: right;\">\n",
       "      <th></th>\n",
       "      <th>author</th>\n",
       "      <th>title</th>\n",
       "      <th>reddit</th>\n",
       "      <th>lemmed_titles</th>\n",
       "    </tr>\n",
       "  </thead>\n",
       "  <tbody>\n",
       "    <tr>\n",
       "      <th>0</th>\n",
       "      <td>AutoModerator</td>\n",
       "      <td>Simple Questions - April 05, 2019</td>\n",
       "      <td>math</td>\n",
       "      <td>simpl question - april 05 , 2019</td>\n",
       "    </tr>\n",
       "    <tr>\n",
       "      <th>1</th>\n",
       "      <td>AutoModerator</td>\n",
       "      <td>Career and Education Questions</td>\n",
       "      <td>math</td>\n",
       "      <td>career and educ question</td>\n",
       "    </tr>\n",
       "    <tr>\n",
       "      <th>2</th>\n",
       "      <td>flexibeast</td>\n",
       "      <td>Chalkdust magazine: \"The scutoid: a geometric ...</td>\n",
       "      <td>math</td>\n",
       "      <td>chalkdust magazin : `` the scutoid : a geomet...</td>\n",
       "    </tr>\n",
       "    <tr>\n",
       "      <th>3</th>\n",
       "      <td>mathstrolls</td>\n",
       "      <td>what is the best advice you received from a ma...</td>\n",
       "      <td>math</td>\n",
       "      <td>what is the best advic you receiv from a math...</td>\n",
       "    </tr>\n",
       "    <tr>\n",
       "      <th>4</th>\n",
       "      <td>randomtechguy142857</td>\n",
       "      <td>What are some mathematical statements that see...</td>\n",
       "      <td>math</td>\n",
       "      <td>what are some mathemat statement that seem co...</td>\n",
       "    </tr>\n",
       "  </tbody>\n",
       "</table>\n",
       "</div>"
      ],
      "text/plain": [
       "                author                                              title  \\\n",
       "0        AutoModerator                  Simple Questions - April 05, 2019   \n",
       "1        AutoModerator                     Career and Education Questions   \n",
       "2           flexibeast  Chalkdust magazine: \"The scutoid: a geometric ...   \n",
       "3          mathstrolls  what is the best advice you received from a ma...   \n",
       "4  randomtechguy142857  What are some mathematical statements that see...   \n",
       "\n",
       "  reddit                                      lemmed_titles  \n",
       "0   math                   simpl question - april 05 , 2019  \n",
       "1   math                           career and educ question  \n",
       "2   math   chalkdust magazin : `` the scutoid : a geomet...  \n",
       "3   math   what is the best advic you receiv from a math...  \n",
       "4   math   what are some mathemat statement that seem co...  "
      ]
     },
     "execution_count": 154,
     "metadata": {},
     "output_type": "execute_result"
    }
   ],
   "source": [
    "df2.head()"
   ]
  },
  {
   "cell_type": "code",
   "execution_count": 155,
   "metadata": {},
   "outputs": [
    {
     "data": {
      "text/plain": [
       "0                      Simple Questions - April 05, 2019\n",
       "1                         Career and Education Questions\n",
       "2      Chalkdust magazine: \"The scutoid: a geometric ...\n",
       "3      what is the best advice you received from a ma...\n",
       "4      What are some mathematical statements that see...\n",
       "5               What are some interesting math podcasts?\n",
       "6             Riemannian Geometry and Algebraic Geometry\n",
       "7                           applied mathematics- biology\n",
       "8      How can I practice or master math post-undergrad?\n",
       "9        Max Tegmark: On the dimensionality of spacetime\n",
       "10      Proving Optimality for the 100 Prisoners Problem\n",
       "11            Questions about prime numbers in modulo 12\n",
       "12              Challenge: Rational Absolite Convergence\n",
       "13                     How do i get research experience?\n",
       "14      Math Puzzle - Looking for validation of my math.\n",
       "15                      What is “mathematical maturity?”\n",
       "16                                 Getting more rigorous\n",
       "17     What would it mean for math if one day we find...\n",
       "18     Is it normal for a mathematician to struggle i...\n",
       "19      Basis set of smooth positive definite functions?\n",
       "20     Hilbert's Curve: Is infinity useful? (Old vers...\n",
       "21                                Maths behind solitaire\n",
       "22                                    visualized proofs?\n",
       "23     After the first conference on software enginee...\n",
       "24                              What Are You Working On?\n",
       "25     Polar noise, the 3d cube that repeats in 6 dir...\n",
       "26     What is your favorite one-line summary of a ma...\n",
       "27     Has anyone had severe laziness towards writing...\n",
       "28     What are some books, not explicitly about math...\n",
       "29             When Buildings Wobble: with Paul Shepherd\n",
       "                             ...                        \n",
       "533    Number of faro-shuffles to return a deck of ca...\n",
       "534    Subconscious Mind in Mathematics. Is there any...\n",
       "535    Theory connecting different axiomatic presenta...\n",
       "536    33=8866128975287528^3+(-8778405442862239)^3+(-...\n",
       "537                                      Pattern a torus\n",
       "538    Given a multinomial expression, what is the fe...\n",
       "539                   Learning to struggle with problems\n",
       "540       Are all unitary perfect numbers divisible by 6\n",
       "541    The Topology of Neural Networks, Part 2: Compo...\n",
       "542                           Observations and conjugacy\n",
       "543    What is the actual mathematics behind actuaria...\n",
       "544                     Packing of Unequal Spheres in 3d\n",
       "545    Is there a way to categorise the hills and val...\n",
       "546    I feel like I get worse at math every day and ...\n",
       "547    I've been learning about parametric equations ...\n",
       "548    Why wasn't the Box operator defined as a vecto...\n",
       "549                        Multidimensional Ulam Spirals\n",
       "550        Application to Math PhD programs with a minor\n",
       "551                         Real Analysis online course?\n",
       "552                     What makes a good mathematician?\n",
       "553    Happy Intl Women’s Day!! What’s your favorite ...\n",
       "554    Increasing breadth of knowledge and continuing...\n",
       "555                    Simple Questions - March 08, 2019\n",
       "556    Removed - post in the Simple Questions thread ...\n",
       "557            How did you find and begin your research?\n",
       "558    Computational Complexity as an Ultimate Constr...\n",
       "559    Mathematical Idea Analysis: What Embodied Cogn...\n",
       "560    Inmate in Jail is looking for an explanation a...\n",
       "561                             What Are You Working On?\n",
       "562    I created a prototype encyclopedia for equatio...\n",
       "Name: title, Length: 563, dtype: object"
      ]
     },
     "execution_count": 155,
     "metadata": {},
     "output_type": "execute_result"
    }
   ],
   "source": [
    "df2.title.apply(lambda x: wnl.lemmatize(x))"
   ]
  }
 ],
 "metadata": {
  "kernelspec": {
   "display_name": "Python 3",
   "language": "python",
   "name": "python3"
  },
  "language_info": {
   "codemirror_mode": {
    "name": "ipython",
    "version": 3
   },
   "file_extension": ".py",
   "mimetype": "text/x-python",
   "name": "python",
   "nbconvert_exporter": "python",
   "pygments_lexer": "ipython3",
   "version": "3.7.1"
  }
 },
 "nbformat": 4,
 "nbformat_minor": 2
}
